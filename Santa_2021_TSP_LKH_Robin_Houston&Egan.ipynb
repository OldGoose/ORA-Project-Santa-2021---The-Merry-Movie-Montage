{
  "nbformat": 4,
  "nbformat_minor": 0,
  "metadata": {
    "colab": {
      "name": "Santa 2021_TSP_LKH_Robin Houston&Egan.ipynb",
      "provenance": [],
      "authorship_tag": "ABX9TyM6hK+YOFrxQ6QQUtIf6hPK",
      "include_colab_link": true
    },
    "kernelspec": {
      "name": "python3",
      "display_name": "Python 3"
    },
    "language_info": {
      "name": "python"
    }
  },
  "cells": [
    {
      "cell_type": "markdown",
      "metadata": {
        "id": "view-in-github",
        "colab_type": "text"
      },
      "source": [
        "<a href=\"https://colab.research.google.com/github/OldGoose/ORA-Project-Santa-2021---The-Merry-Movie-Montage/blob/main/Santa_2021_TSP_LKH_Robin_Houston%26Egan.ipynb\" target=\"_parent\"><img src=\"https://colab.research.google.com/assets/colab-badge.svg\" alt=\"Open In Colab\"/></a>"
      ]
    },
    {
      "cell_type": "markdown",
      "source": [
        "#  Robin Houston & Egan propsed 7! superpertation with LKH."
      ],
      "metadata": {
        "id": "qf1nYGrMaCQR"
      }
    },
    {
      "cell_type": "markdown",
      "source": [
        "In this notebook, we use 7! superpermutation which from Robin Houston to our initial data. The flowchart as below:\n",
        "![image.png](data:image/png;base64,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)\n",
        "#### REFERENCES\n",
        "https://www.kaggle.com/cdeotte/santa-2021-tsp-baseline-2500 <br />\n",
        "https://www.kaggle.com/yosshi999/wildcard-postprocessing-using-dynamic-programming"
      ],
      "metadata": {
        "id": "d7gdZ8-lYg40"
      }
    },
    {
      "cell_type": "markdown",
      "source": [
        "### Import Package"
      ],
      "metadata": {
        "id": "QT_hjPJQeO0i"
      }
    },
    {
      "cell_type": "code",
      "execution_count": 1,
      "metadata": {
        "colab": {
          "base_uri": "https://localhost:8080/"
        },
        "id": "oYwQgLkVBQuJ",
        "outputId": "2472b7bf-4883-4927-c6c7-dea237e525d3"
      },
      "outputs": [
        {
          "output_type": "stream",
          "name": "stdout",
          "text": [
            "Drive already mounted at /content/drive; to attempt to forcibly remount, call drive.mount(\"/content/drive\", force_remount=True).\n",
            "--2022-01-14 02:21:37--  http://webhotel4.ruc.dk/~keld/research/LKH-3/LKH-3.0.7.tgz\n",
            "Resolving webhotel4.ruc.dk (webhotel4.ruc.dk)... 130.225.220.230\n",
            "Connecting to webhotel4.ruc.dk (webhotel4.ruc.dk)|130.225.220.230|:80... connected.\n",
            "HTTP request sent, awaiting response... 200 OK\n",
            "Length: 2315763 (2.2M) [application/x-gzip]\n",
            "Saving to: ‘LKH-3.0.7.tgz.20’\n",
            "\n",
            "LKH-3.0.7.tgz.20    100%[===================>]   2.21M  2.00MB/s    in 1.1s    \n",
            "\n",
            "2022-01-14 02:21:39 (2.00 MB/s) - ‘LKH-3.0.7.tgz.20’ saved [2315763/2315763]\n",
            "\n",
            "LKH-3.0.7/\n",
            "LKH-3.0.7/pr2392.par\n",
            "LKH-3.0.7/whizzkids96.atsp\n",
            "LKH-3.0.7/Makefile\n",
            "LKH-3.0.7/whizzkids96.par\n",
            "LKH-3.0.7/pr2392.tsp\n",
            "LKH-3.0.7/DOC/\n",
            "LKH-3.0.7/README.txt\n",
            "LKH-3.0.7/SRC/\n",
            "LKH-3.0.7/SRC/Penalty_CVRPTW.c\n",
            "LKH-3.0.7/SRC/RestoreTour.c\n",
            "LKH-3.0.7/SRC/SolveKMeansSubproblems.c\n",
            "LKH-3.0.7/SRC/IsCommonEdge.c\n",
            "LKH-3.0.7/SRC/Penalty_TSPPD.c\n",
            "LKH-3.0.7/SRC/ReadProblem.c\n",
            "LKH-3.0.7/SRC/BestKOptMove.c\n",
            "LKH-3.0.7/SRC/Distance_SPECIAL.c\n",
            "LKH-3.0.7/SRC/Penalty_TSPDL.c\n",
            "LKH-3.0.7/SRC/Penalty_PDPTW.c\n",
            "LKH-3.0.7/SRC/Penalty_ACVRP.c\n",
            "LKH-3.0.7/SRC/CreateCandidateSet.c\n",
            "LKH-3.0.7/SRC/OBJ/\n",
            "LKH-3.0.7/SRC/Forbidden.c\n",
            "LKH-3.0.7/SRC/Penalty_CCVRP.c\n",
            "LKH-3.0.7/SRC/Penalty_M_PDTSP.c\n",
            "LKH-3.0.7/SRC/Best5OptMove.c\n",
            "LKH-3.0.7/SRC/RecordBetterTour.c\n",
            "LKH-3.0.7/SRC/Best4OptMove.c\n",
            "LKH-3.0.7/SRC/Exclude.c\n",
            "LKH-3.0.7/SRC/C.c\n",
            "LKH-3.0.7/SRC/IsCandidate.c\n",
            "LKH-3.0.7/SRC/Make3OptMove.c\n",
            "LKH-3.0.7/SRC/Make2OptMove.c\n",
            "LKH-3.0.7/SRC/ResetCandidateSet.c\n",
            "LKH-3.0.7/SRC/LKHmain.c\n",
            "LKH-3.0.7/SRC/SolveSFCSubproblems.c\n",
            "LKH-3.0.7/SRC/ERXT.c\n",
            "LKH-3.0.7/SRC/fscanint.c\n",
            "LKH-3.0.7/SRC/eprintf.c\n",
            "LKH-3.0.7/SRC/Distance_SOP.c\n",
            "LKH-3.0.7/SRC/Distance_MTSP.c\n",
            "LKH-3.0.7/SRC/Penalty_VRPPD.c\n",
            "LKH-3.0.7/SRC/SINTEF_WriteSolution.c\n",
            "LKH-3.0.7/SRC/Gain23.c\n",
            "LKH-3.0.7/SRC/Heap.c\n",
            "LKH-3.0.7/SRC/GetTime.c\n",
            "LKH-3.0.7/SRC/SolveRoheSubproblems.c\n",
            "LKH-3.0.7/SRC/ReadPenalties.c\n",
            "LKH-3.0.7/SRC/Excludable.c\n",
            "LKH-3.0.7/SRC/SolveCompressedSubproblem.c\n",
            "LKH-3.0.7/SRC/Statistics.c\n",
            "LKH-3.0.7/SRC/PatchCycles.c\n",
            "LKH-3.0.7/SRC/MergeWithTourGPX2.c\n",
            "LKH-3.0.7/SRC/Sequence.c\n",
            "LKH-3.0.7/SRC/SolveDelaunaySubproblems.c\n",
            "LKH-3.0.7/SRC/WritePenalties.c\n",
            "LKH-3.0.7/SRC/NormalizeNodeList.c\n",
            "LKH-3.0.7/SRC/FreeStructures.c\n",
            "LKH-3.0.7/SRC/SolveKarpSubproblems.c\n",
            "LKH-3.0.7/SRC/Makefile\n",
            "LKH-3.0.7/SRC/CVRP_InitialTour.c\n",
            "LKH-3.0.7/SRC/Between_SL.c\n",
            "LKH-3.0.7/SRC/Penalty_OVRP.c\n",
            "LKH-3.0.7/SRC/SOP_InitialTour.c\n",
            "LKH-3.0.7/SRC/INCLUDE/\n",
            "LKH-3.0.7/SRC/Penalty_MLP.c\n",
            "LKH-3.0.7/SRC/IsPossibleCandidate.c\n",
            "LKH-3.0.7/SRC/Penalty_VRPBTW.c\n",
            "LKH-3.0.7/SRC/NormalizeSegmentList.c\n",
            "LKH-3.0.7/SRC/Penalty_BWTSP.c\n",
            "LKH-3.0.7/SRC/STTSP2TSP.c\n",
            "LKH-3.0.7/SRC/Hashing.c\n",
            "LKH-3.0.7/SRC/LinKernighan.c\n",
            "LKH-3.0.7/SRC/Penalty_CVRP.c\n",
            "LKH-3.0.7/SRC/gpx.c\n",
            "LKH-3.0.7/SRC/AdjustCandidateSet.c\n",
            "LKH-3.0.7/SRC/AllocateStructures.c\n",
            "LKH-3.0.7/SRC/Flip_SSL.c\n",
            "LKH-3.0.7/SRC/MakeKOptMove.c\n",
            "LKH-3.0.7/SRC/BuildKDTree.c\n",
            "LKH-3.0.7/SRC/SolveTourSegmentSubproblems.c\n",
            "LKH-3.0.7/SRC/Random.c\n",
            "LKH-3.0.7/SRC/CreateDelaunayCandidateSet.c\n",
            "LKH-3.0.7/SRC/MTSP_WriteSolution.c\n",
            "LKH-3.0.7/SRC/Penalty_PDTSPF.c\n",
            "LKH-3.0.7/SRC/SolveSubproblemBorderProblems.c\n",
            "LKH-3.0.7/SRC/Penalty_PDTSPL.c\n",
            "LKH-3.0.7/SRC/ReadParameters.c\n",
            "LKH-3.0.7/SRC/MTSP_Report.c\n",
            "LKH-3.0.7/SRC/Penalty_TRP.c\n",
            "LKH-3.0.7/SRC/FixedOrCommonCandidates.c\n",
            "LKH-3.0.7/SRC/Penalty_CTSP.c\n",
            "LKH-3.0.7/SRC/Penalty_SOP.c\n",
            "LKH-3.0.7/SRC/Best2OptMove.c\n",
            "LKH-3.0.7/SRC/Best3OptMove.c\n",
            "LKH-3.0.7/SRC/ReadCandidates.c\n",
            "LKH-3.0.7/SRC/Make4OptMove.c\n",
            "LKH-3.0.7/SRC/Make5OptMove.c\n",
            "LKH-3.0.7/SRC/CreateNNCandidateSet.c\n",
            "LKH-3.0.7/SRC/GenerateCandidates.c\n",
            "LKH-3.0.7/SRC/Between.c\n",
            "LKH-3.0.7/SRC/Flip_SL.c\n",
            "LKH-3.0.7/SRC/SOP_RepairTour.c\n",
            "LKH-3.0.7/SRC/Activate.c\n",
            "LKH-3.0.7/SRC/SegmentSize.c\n",
            "LKH-3.0.7/SRC/SolveSubproblem.c\n",
            "LKH-3.0.7/SRC/MergeWithTourIPT.c\n",
            "LKH-3.0.7/SRC/StoreTour.c\n",
            "LKH-3.0.7/SRC/GreedyTour.c\n",
            "LKH-3.0.7/SRC/PrintParameters.c\n",
            "LKH-3.0.7/SRC/Penalty_M1_PDTSP.c\n",
            "LKH-3.0.7/SRC/SFCTour.c\n",
            "LKH-3.0.7/SRC/Penalty_PDTSP.c\n",
            "LKH-3.0.7/SRC/Penalty_VRPB.c\n",
            "LKH-3.0.7/SRC/Minimum1TreeCost.c\n",
            "LKH-3.0.7/SRC/MTSP2TSP.c\n",
            "LKH-3.0.7/SRC/MergeTourWithBestTour.c\n",
            "LKH-3.0.7/SRC/ReadEdges.c\n",
            "LKH-3.0.7/SRC/BridgeGain.c\n",
            "LKH-3.0.7/SRC/WriteCandidates.c\n",
            "LKH-3.0.7/SRC/PDPTW_Reduce.c\n",
            "LKH-3.0.7/SRC/Flip.c\n",
            "LKH-3.0.7/SRC/WriteTour.c\n",
            "LKH-3.0.7/SRC/Delaunay.c\n",
            "LKH-3.0.7/SRC/TSPDL_InitialTour.c\n",
            "LKH-3.0.7/SRC/VRPB_Reduce.c\n",
            "LKH-3.0.7/SRC/CreateQuadrantCandidateSet.c\n",
            "LKH-3.0.7/SRC/IsBackboneCandidate.c\n",
            "LKH-3.0.7/SRC/Penalty_MTSP.c\n",
            "LKH-3.0.7/SRC/ReadLine.c\n",
            "LKH-3.0.7/SRC/RecordBestTour.c\n",
            "LKH-3.0.7/SRC/CandidateReport.c\n",
            "LKH-3.0.7/SRC/OrderCandidateSet.c\n",
            "LKH-3.0.7/SRC/CTSP_InitialTour.c\n",
            "LKH-3.0.7/SRC/AddExtraCandidates.c\n",
            "LKH-3.0.7/SRC/Distance.c\n",
            "LKH-3.0.7/SRC/Genetic.c\n",
            "LKH-3.0.7/SRC/AdjustClusters.c\n",
            "LKH-3.0.7/SRC/AddTourCandidates.c\n",
            "LKH-3.0.7/SRC/BIT.c\n",
            "LKH-3.0.7/SRC/KSwapKick.c\n",
            "LKH-3.0.7/SRC/Connect.c\n",
            "LKH-3.0.7/SRC/RemoveFirstActive.c\n",
            "LKH-3.0.7/SRC/Ascent.c\n",
            "LKH-3.0.7/SRC/TrimCandidateSet.c\n",
            "LKH-3.0.7/SRC/StatusReport.c\n",
            "LKH-3.0.7/SRC/LKH.c\n",
            "LKH-3.0.7/SRC/TSPTW_Reduce.c\n",
            "LKH-3.0.7/SRC/printff.c\n",
            "LKH-3.0.7/SRC/Between_SSL.c\n",
            "LKH-3.0.7/SRC/SOP_Report.c\n",
            "LKH-3.0.7/SRC/Create_POPMUSIC_CandidateSet.c\n",
            "LKH-3.0.7/SRC/MTSP_InitialTour.c\n",
            "LKH-3.0.7/SRC/Improvement.c\n",
            "LKH-3.0.7/SRC/GeoConversion.c\n",
            "LKH-3.0.7/SRC/FindTour.c\n",
            "LKH-3.0.7/SRC/TSPTW_MakespanCost.c\n",
            "LKH-3.0.7/SRC/SymmetrizeCandidateSet.c\n",
            "LKH-3.0.7/SRC/ChooseInitialTour.c\n",
            "LKH-3.0.7/SRC/SolveKCenterSubproblems.c\n",
            "LKH-3.0.7/SRC/Penalty_1_PDTSP.c\n",
            "LKH-3.0.7/SRC/AddCandidate.c\n",
            "LKH-3.0.7/SRC/Penalty_TSPTW.c\n",
            "LKH-3.0.7/SRC/Penalty_RCTVRP.c\n",
            "LKH-3.0.7/SRC/MinimumSpanningTree.c\n",
            "LKH-3.0.7/SRC/BestSpecialOptMove.c\n",
            "LKH-3.0.7/SRC/INCLUDE/Genetic.h\n",
            "LKH-3.0.7/SRC/INCLUDE/Segment.h\n",
            "LKH-3.0.7/SRC/INCLUDE/Delaunay.h\n",
            "LKH-3.0.7/SRC/INCLUDE/GeoConversion.h\n",
            "LKH-3.0.7/SRC/INCLUDE/LKH.h\n",
            "LKH-3.0.7/SRC/INCLUDE/BIT.h\n",
            "LKH-3.0.7/SRC/INCLUDE/Sequence.h\n",
            "LKH-3.0.7/SRC/INCLUDE/GainType.h\n",
            "LKH-3.0.7/SRC/INCLUDE/Heap.h\n",
            "LKH-3.0.7/SRC/INCLUDE/Hashing.h\n",
            "LKH-3.0.7/SRC/INCLUDE/gpx.h\n",
            "LKH-3.0.7/DOC/POPMUSIC_REPORT.pdf\n",
            "LKH-3.0.7/DOC/LKH_Genetic.pdf\n",
            "LKH-3.0.7/DOC/LKH_REPORT.pdf\n",
            "LKH-3.0.7/DOC/LKH-2_USER_GUIDE.pdf\n",
            "LKH-3.0.7/DOC/TSPLIB_DOC.pdf\n",
            "LKH-3.0.7/DOC/LKH-3_PARAMETERS.pdf\n",
            "LKH-3.0.7/DOC/LKH-3_REPORT.pdf\n",
            "make -C SRC\n",
            "make[1]: Entering directory '/content/drive/My Drive/Santa2021/LKH-3.0.7/SRC'\n",
            "make LKH\n",
            "make[2]: Entering directory '/content/drive/My Drive/Santa2021/LKH-3.0.7/SRC'\n",
            "cc -o ../LKH OBJ/Activate.o OBJ/AddCandidate.o OBJ/AddExtraCandidates.o OBJ/AddTourCandidates.o OBJ/AdjustCandidateSet.o OBJ/AdjustClusters.o OBJ/AllocateStructures.o OBJ/Ascent.o OBJ/Best2OptMove.o OBJ/Best3OptMove.o OBJ/Best4OptMove.o OBJ/Best5OptMove.o OBJ/BestKOptMove.o OBJ/BestSpecialOptMove.o OBJ/Between.o OBJ/Between_SL.o OBJ/Between_SSL.o OBJ/BridgeGain.o OBJ/BuildKDTree.o OBJ/C.o OBJ/CandidateReport.o OBJ/ChooseInitialTour.o OBJ/Connect.o OBJ/CreateCandidateSet.o OBJ/CreateDelaunayCandidateSet.o OBJ/CreateNNCandidateSet.o OBJ/Create_POPMUSIC_CandidateSet.o OBJ/CreateQuadrantCandidateSet.o OBJ/CTSP_InitialTour.o OBJ/CVRP_InitialTour.o OBJ/Delaunay.o OBJ/Distance.o OBJ/Distance_MTSP.o OBJ/Distance_SOP.o OBJ/Distance_SPECIAL.o OBJ/eprintf.o OBJ/ERXT.o OBJ/Excludable.o OBJ/Exclude.o OBJ/FindTour.o OBJ/FixedOrCommonCandidates.o OBJ/Flip.o OBJ/Flip_SL.o OBJ/Flip_SSL.o OBJ/Forbidden.o OBJ/FreeStructures.o OBJ/fscanint.o OBJ/Gain23.o OBJ/GenerateCandidates.o OBJ/Genetic.o OBJ/GeoConversion.o OBJ/GetTime.o OBJ/GreedyTour.o OBJ/Hashing.o OBJ/Heap.o OBJ/Improvement.o OBJ/IsBackboneCandidate.o OBJ/IsCandidate.o OBJ/IsCommonEdge.o OBJ/IsPossibleCandidate.o OBJ/KSwapKick.o OBJ/LinKernighan.o OBJ/LKHmain.o OBJ/Make2OptMove.o OBJ/Make3OptMove.o OBJ/Make4OptMove.o OBJ/Make5OptMove.o OBJ/MakeKOptMove.o OBJ/MergeTourWithBestTour.o OBJ/MergeWithTourIPT.o OBJ/Minimum1TreeCost.o OBJ/MinimumSpanningTree.o OBJ/MTSP2TSP.o OBJ/MTSP_InitialTour.o OBJ/MTSP_Report.o OBJ/MTSP_WriteSolution.o OBJ/NormalizeNodeList.o OBJ/NormalizeSegmentList.o OBJ/OrderCandidateSet.o OBJ/PatchCycles.o OBJ/Penalty_ACVRP.o OBJ/Penalty_BWTSP.o OBJ/Penalty_CCVRP.o OBJ/Penalty_CVRP.o OBJ/Penalty_CVRPTW.o OBJ/Penalty_CTSP.o OBJ/Penalty_1_PDTSP.o OBJ/Penalty_MLP.o OBJ/Penalty_M_PDTSP.o OBJ/Penalty_M1_PDTSP.o OBJ/Penalty_MTSP.o OBJ/Penalty_OVRP.o OBJ/Penalty_PDPTW.o OBJ/Penalty_PDTSP.o OBJ/Penalty_PDTSPF.o OBJ/Penalty_PDTSPL.o OBJ/Penalty_RCTVRP.o OBJ/Penalty_SOP.o OBJ/Penalty_TRP.o OBJ/Penalty_TSPDL.o OBJ/Penalty_TSPPD.o OBJ/Penalty_TSPTW.o OBJ/Penalty_VRPB.o OBJ/Penalty_VRPBTW.o OBJ/Penalty_VRPPD.o OBJ/PDPTW_Reduce.o OBJ/printff.o OBJ/PrintParameters.o OBJ/Random.o OBJ/ReadCandidates.o OBJ/ReadEdges.o OBJ/ReadLine.o OBJ/ReadParameters.o OBJ/ReadPenalties.o OBJ/ReadProblem.o OBJ/RecordBestTour.o OBJ/RecordBetterTour.o OBJ/RemoveFirstActive.o OBJ/ResetCandidateSet.o OBJ/RestoreTour.o OBJ/SegmentSize.o OBJ/Sequence.o OBJ/SFCTour.o OBJ/SolveCompressedSubproblem.o OBJ/SINTEF_WriteSolution.o OBJ/SOP_RepairTour.o OBJ/STTSP2TSP.o OBJ/SolveDelaunaySubproblems.o OBJ/SolveKarpSubproblems.o OBJ/SolveKCenterSubproblems.o OBJ/SolveKMeansSubproblems.o OBJ/SolveRoheSubproblems.o OBJ/SolveSFCSubproblems.o OBJ/SolveSubproblem.o OBJ/SolveSubproblemBorderProblems.o OBJ/SolveTourSegmentSubproblems.o OBJ/SOP_InitialTour.o OBJ/SOP_Report.o OBJ/StatusReport.o OBJ/Statistics.o OBJ/StoreTour.o OBJ/SymmetrizeCandidateSet.o OBJ/TrimCandidateSet.o OBJ/TSPDL_InitialTour.o OBJ/TSPTW_MakespanCost.o OBJ/TSPTW_Reduce.o OBJ/VRPB_Reduce.o OBJ/BIT.o OBJ/WriteCandidates.o OBJ/WritePenalties.o OBJ/WriteTour.o OBJ/MergeWithTourGPX2.o OBJ/gpx.o OBJ/LKH.o -O3 -Wall -IINCLUDE -DTWO_LEVEL_TREE -g -lm\n",
            "make[2]: Leaving directory '/content/drive/My Drive/Santa2021/LKH-3.0.7/SRC'\n",
            "make[1]: Leaving directory '/content/drive/My Drive/Santa2021/LKH-3.0.7/SRC'\n"
          ]
        }
      ],
      "source": [
        "import itertools\n",
        "import random\n",
        "import numpy as np\n",
        "import pandas as pd\n",
        "import torch\n",
        "import torch.nn.functional as F\n",
        "import matplotlib.pyplot as plt\n",
        "import datetime\n",
        "from tqdm.notebook import tqdm\n",
        "import os\n",
        "from google.colab import drive\n",
        "drive.mount('/content/drive')\n",
        "os.chdir('/content/drive/My Drive/Santa2021') \n",
        "\n",
        "!wget http://webhotel4.ruc.dk/~keld/research/LKH-3/LKH-3.0.7.tgz\n",
        "!tar xvfz LKH-3.0.7.tgz\n",
        "!cd LKH-3.0.7; make"
      ]
    },
    {
      "cell_type": "markdown",
      "source": [
        "### 1. 7! Supermutation\n",
        "We can get the superpermutation for n = 7 from Robin Houston and Egan which length 5906 on 27 February 2019."
      ],
      "metadata": {
        "id": "hkI00axjOjfo"
      }
    },
    {
      "cell_type": "code",
      "source": [
        "best = \"12345671234561723456127345612374561327456137245613742561374526137456213745612347561324756134275613472561347526134756213475612345761234516723451627345162374516234751623457162345176234512673451263745126347512634571263451726345127634512367451236475123645712364517236451273645123764512346751234657123465172346512734651243765124367512436571243651724365127436512473651246375124635712463517246351274635124763512467351426735146273514672351467325146735216473521674352167345216374521634752163457216345271634521764352176453271645327614532764153276451326745132647513264571326451732645137264531726453712645372164537261453726415372645132764531276453217645231764521376452173654217365241736521473652174365217346521736452176345216735421637542163574216354721635427163542176354216735241637524163572416352741635247163524176352416735214673512465371246531724653127465312476531246753142675314627531467253146752316475321647531264753162475316427531647253164752316745321674531267453162745316724531674253167452316754231675243167523416752314675321467531246573124651372465132746513247651324671532467135246713254671235467125346712543671524367154236715432675143267541326754312675432167543261745362174536127453617245361742536174523617453261743526174325617432651742365174263517426531742651374265173426157342617534216753421765342175634217536421753462175342617354261734526173425617342651743261574362157436125743162574312657413265741236574126357412653741265734126574312567413256741235674125367412563741256734125674312576413257614325761342576132457613254761325746132576412357641253761425376124537612543761524376154237615432761543726154376215437612534761253746125376412573641257634125764312574631257436152743615724361574236157432617543621754361275436172543617524361754236175432671543627154367215436712546371254673125476312547361524736154273615472361547326145736214576321475632147653214763521476325147632154763214576231457621345762143576214537621457361245736142573614527361457236145732614753621475361247536142753614725361475236147532614735261473256147326514723651472635147265314726513472651437265147326154736215473612547316254731265471326547123654712635471265347126543716253471625374162537146253716425371624537162543716524371654237165432716543721654371265473125647132564712356471253647125634712564372156437251643275614327564132756431275643217564327156432751643257163425176342516734251637425163472516342751634257163245176324516732451637245163274516324751632457163254716325741632571463275146327154632714563271465327146352714632571643527164357216435712643517264351276435126743512647351264375126435716243517624351672435162743516247351624375162435716423517642351674235164723516427351642375146237514263751423675142376514273651427635142765314276513427651432765142375614235761423567143256714352671435627143567214356712435617243561274356124735612437561243576124356714235617423561472356142735614237516423571643251764325167432516473251643725614372564137256431725643712564731254671324567132465713246751324615732461753246173524617325416723541762354716235476123547621354762315467231546273154623715462317564231576421356742135647213564271356421735624137562413576241356724135627413562471356241735621473562174356217345621735462173564213756421357642153746215374261537421653742156374215367421537642157364215763421576432157642315674231564723156427315642371564231756243157624315672431562743156247315624371562431756234157623415672341562734156237415623471562341756231475623174562317546321745632174653217463521746325174632157463217546312754631725463175246315724631527463152476315246731524637152463175426315742631547263154276315426731542637154263175462315746235174623571462357416235746123574621357462315476235147623541726354172365417235641723546172354167253417625314762531746253176425317624531762543176524317654231765432176543127654317265431762534172653417256341725364172534617253416725431672541367251436725134672153476215347261534721653472156347215364721534672135467213456721346572136457213654721365742136572413657214365721346752136475213674521367542136752413675214376521437562143752614375216437521463725146372154637214563721465372146357214637521436752134672513647251367425136724513672541637254167325417632541736251473625174362517346257136425713624571362547136257413625714362571346275136427513624751362745136275416327541623754126375412367541237654132765413726541376251437625134762513746251376425137624513762541376524137654213765412375641237546132754613725461375246137542613754621375461237541627354126735412763541273654127356412735461273541627534126753412765341275634127536412753461275341627543162754136275143627513462715342671354267134526713425671342657143265714236571426357142653714265731426571342675134267153427615342716534271563427153642715346271354627134562713465271364527136542713652471365274136527143652713462573146257341625734612573462157346251736425173624517362541732654173256417325461732456173246517324615372461532746153247615324167532416573214657321645731264573162457316425731645273165427316524731652743165273416527314652731645723165472316574231657243165723416572314657231645732165473216574321657342165732416537241653274165324716532417653241567321456731245637124563172456312745631247563124576312456731425637142563174256314725631427563142576314256731452637145236714532671453627145367214536712453671425367145237614523716452371465237416523746152347651234765213476523147652341765234716523476152346715234617523461572346152734615237465123746521374652317465237145623714526317452631475263145726314527631452673145627314567231456732154673215647321567432156734215673241563724156327415632471563241756324157632415367241536274153624715362417536241573624153762415326741532647153264175326415732641523764152367415236471523641752364157236415273641526374152634715263417526341572634152763415267341526437152643175264315726431527643152674315264731526413752641357261435726134572613547261357426135724613572641352761435276134527613542761352476135274613527641352674135264713526417352641\"\n",
        "len(best)"
      ],
      "metadata": {
        "colab": {
          "base_uri": "https://localhost:8080/"
        },
        "id": "apF-h26hOkDn",
        "outputId": "9921f9bc-0f0f-4191-b5a0-b0b50bd5fe1e"
      },
      "execution_count": 2,
      "outputs": [
        {
          "output_type": "execute_result",
          "data": {
            "text/plain": [
              "5906"
            ]
          },
          "metadata": {},
          "execution_count": 2
        }
      ]
    },
    {
      "cell_type": "markdown",
      "source": [
        "### 1. Divide into 3 groups\n",
        "From this formula $𝑝_𝑘^𝑛 = \\frac{𝑛!}{(𝑛−𝑘)!}$ we can get the following seven symbols (🎅🤶🦌🧝🎄🎁🎀) with a total of 5040 permutations (ie, a total of 5040 movie)\n",
        "Due to the constrain of the problem, there are a total of 120 movies starting with these 🎅🤶 two symbols, and we have to put them into each group.\n",
        "After deducting those 120 films, we divide the remaining 4920 films into three equal parts.\n",
        "\n",
        "First, we need to decide which code is represent 🎅🤶."
      ],
      "metadata": {
        "id": "Po5S4k4dfTe6"
      }
    },
    {
      "cell_type": "code",
      "source": [
        "split_id = [len(best) // 3, len(best)*2//3]\n",
        "t1, t2 = split_id\n",
        "\n",
        "strings = [best[:t1], best[t1:t2], best[t2:]]\n",
        "g1 = strings[0]\n",
        "g2 = strings[1]\n",
        "g3 = strings[2]\n",
        "\n",
        "check = []\n",
        "for i in range(1,8):\n",
        "    for j in range(1,8):\n",
        "        if i != j:\n",
        "            check.append(str(i)+str(j))\n",
        "check = np.array(check)\n",
        "\n",
        "data = pd.DataFrame()\n",
        "column = list(check)\n",
        "index = ['group1','group2','group3']\n",
        "data = pd.DataFrame(columns=column,index=index)\n",
        "\n",
        "for i in list(check):\n",
        "    data[i][0] = (g1.count(i))\n",
        "    data[i][1] = (g2.count(i))\n",
        "    data[i][2] = (g3.count(i))\n",
        "data = data.append(data.std(axis= 0) ,ignore_index=True)\n",
        "data1 = data.T[3]\n",
        "for i in range(len(data1)):\n",
        "    if data1[i] == data1.min(axis=0):\n",
        "        min_id = (data1.index[i]) \n",
        "print(\"The Min Standard Deviation is: \" + str(data.stack().min()) + \" at \"  + (min_id) + \".\")"
      ],
      "metadata": {
        "colab": {
          "base_uri": "https://localhost:8080/"
        },
        "id": "p6GCBldrfSBn",
        "outputId": "1997c936-10ff-4677-bcf4-0ea330337e7d"
      },
      "execution_count": 3,
      "outputs": [
        {
          "output_type": "stream",
          "name": "stdout",
          "text": [
            "The Min Standard Deviation is: 0.5773502691896258 at 24.\n"
          ]
        }
      ]
    },
    {
      "cell_type": "markdown",
      "source": [
        "So, we choose 24 to represent the 🎅🤶."
      ],
      "metadata": {
        "id": "7CvjUufTovsk"
      }
    },
    {
      "cell_type": "code",
      "source": [
        "def is_perm(s):\n",
        "    y = True\n",
        "    for k in range(1,8):\n",
        "        y = y&(str(k) in s)\n",
        "        if not y: break\n",
        "    return y\n",
        "\n",
        "permutations = []\n",
        "\n",
        "for k in range(len(best)-6):\n",
        "    s = best[k:k+7]\n",
        "    if (is_perm(s))&(s not in permutations)&(s[:2]!='24'):\n",
        "        permutations.append(s)\n",
        "        \n",
        "print('There are',len(permutations),'movies')\n",
        "\n",
        "mandatory = ['24'+''.join(x) for x in itertools.permutations(['1','3','5','6','7'], 5)]\n",
        "print('In addition',len(mandatory),'which movie starting with 🎅🤶 must appear in each group.')"
      ],
      "metadata": {
        "colab": {
          "base_uri": "https://localhost:8080/"
        },
        "id": "RtnMNMeBo3G7",
        "outputId": "9f8bd2a1-f9f9-4068-f31c-e5cdb92585d6"
      },
      "execution_count": 4,
      "outputs": [
        {
          "output_type": "stream",
          "name": "stdout",
          "text": [
            "There are 4920 movies\n",
            "In addition 120 which movie starting with 🎅🤶 must appear in each group.\n"
          ]
        }
      ]
    },
    {
      "cell_type": "code",
      "source": [
        "#find the split point\n",
        "split_id = [len(permutations) // 3, len(permutations)*2//3]\n",
        "t1, t2 = split_id\n",
        "\n",
        "adjust1 = 0\n",
        "adjust2 = 0\n",
        "group1 = permutations[:t1-adjust1] + mandatory\n",
        "group2 = permutations[t1-adjust1:t2+adjust2] + mandatory\n",
        "group3 = permutations[t2+adjust2:] + mandatory\n",
        "\n",
        "len(group1), len(group2), len(group3)"
      ],
      "metadata": {
        "colab": {
          "base_uri": "https://localhost:8080/"
        },
        "id": "Aw_JWQHYpn-U",
        "outputId": "e611f712-c58e-4428-ebc8-ffa4bb99a3ad"
      },
      "execution_count": 5,
      "outputs": [
        {
          "output_type": "execute_result",
          "data": {
            "text/plain": [
              "(1760, 1760, 1760)"
            ]
          },
          "metadata": {},
          "execution_count": 5
        }
      ]
    },
    {
      "cell_type": "markdown",
      "source": [
        "### 3. Check and add movies with \"🎅🤶\" in all group."
      ],
      "metadata": {
        "id": "EALjv46Lp3IC"
      }
    },
    {
      "cell_type": "code",
      "source": [
        "all_permutations = [''.join(x) for x in itertools.permutations(['1','2','3','4','5','6','7'], 7)]\n",
        "\n",
        "for p in all_permutations:\n",
        "    if p not in group1 and p not in group2 and p not in group3:\n",
        "        print(p)"
      ],
      "metadata": {
        "id": "NXIAD3STqSGc"
      },
      "execution_count": 6,
      "outputs": []
    },
    {
      "cell_type": "markdown",
      "source": [
        "### 4.Execute LKH"
      ],
      "metadata": {
        "id": "t9Fw5hoSo9u-"
      }
    },
    {
      "cell_type": "code",
      "source": [
        "def hamming_distance(str1, str2):\n",
        "    return sum( (c1!=c2) for c1, c2 in zip(str1, str2))\n",
        "\n",
        "def offset(s1, s2):\n",
        "    assert(len(s1)==len(s2))\n",
        "    ln = len(s1)\n",
        "    j = ln\n",
        "    for k in range(0,ln):\n",
        "        if hamming_distance(s1[k:],s2[:7-k])==0:\n",
        "            j=k\n",
        "            break\n",
        "    return j\n",
        "\n",
        "\n",
        "def get_tsp_solution(group):\n",
        "    \n",
        "    # CREATE DISTANCE MATRIX\n",
        "    SIZE = len(group)\n",
        "    M = np.zeros((SIZE, SIZE), dtype='int8')\n",
        "    for j in range(SIZE):\n",
        "        #if j%25==0: print(j,', ',end='')\n",
        "        for k in range(SIZE):\n",
        "            M[j,k] = offset(group[j],group[k])\n",
        "            \n",
        "    # WRITE PROBLEM FILE\n",
        "    f = open(f'group.par','w')\n",
        "    f.write(\"PROBLEM_FILE = ../distances.atsp\\n\")\n",
        "    f.write(\"TOUR_FILE = ../output.txt\\n\")\n",
        "    f.write(f\"OPTIMUM = {SIZE}\\n\")\n",
        "    f.write(\"MOVE_TYPE = 5\\n\")\n",
        "    f.write(\"PATCHING_C = 3\\n\")\n",
        "    f.write(\"PATCHING_A = 2\\n\")\n",
        "    f.write(\"RUNS = 10\\n\")\n",
        "    f.write(\"TIME_LIMIT = 600\\n\") #seconds\n",
        "    f.close()\n",
        "    \n",
        "    # WRITE PARAMETER FILE\n",
        "    f = open(f'distances.atsp','w')\n",
        "    f.write(\"NAME: distances\\n\")\n",
        "    f.write(\"TYPE: ATSP\\n\")\n",
        "    f.write(\"COMMENT: Asymmetric CTSP\\n\")\n",
        "    f.write(f\"DIMENSION: {SIZE}\\n\")\n",
        "    f.write(\"EDGE_WEIGHT_TYPE: EXPLICIT\\n\")\n",
        "    f.write(\"EDGE_WEIGHT_FORMAT: FULL_MATRIX\\n\")\n",
        "    f.write(\"EDGE_WEIGHT_SECTION\\n\")\n",
        "    for j in range(SIZE):\n",
        "        #if j%25==0: print(j,', ',end='')\n",
        "        for k in range(SIZE):\n",
        "            f.write(f\"{M[j,k]:2d} \") \n",
        "        f.write(\"\\n\")\n",
        "    f.close()\n",
        "    \n",
        "    # EXECUTE TSP SOLVER\n",
        "    !cd LKH-3.0.7; ./LKH ../group.par\n",
        "    \n",
        "    # READ RESULTING ORDER\n",
        "    with open('output.txt') as f:\n",
        "        lines = f.readlines()\n",
        "    for i,ln in enumerate(lines):\n",
        "        if 'TOUR_SECTION' in ln: break\n",
        "    perms = [int(x[:-1]) for x in lines[i+1:-2] ]\n",
        "    \n",
        "    # CREATE STRING\n",
        "    result = group[ perms[0]-1 ]\n",
        "    for k in range(1,len(perms)):\n",
        "        s1 = group[ perms[k-1]-1 ]\n",
        "        s2 = group[ perms[k]-1 ]\n",
        "        d = offset(s1,s2)\n",
        "        assert(d!=0)\n",
        "        result += s2[-d:]\n",
        "    \n",
        "    return result"
      ],
      "metadata": {
        "id": "NLg3y5IFpHH0"
      },
      "execution_count": 7,
      "outputs": []
    },
    {
      "cell_type": "code",
      "source": [
        "starttime = datetime.datetime.now()\n",
        "def print_header(x):\n",
        "    print(); print()\n",
        "    print('Computing String',x)\n",
        "    print('='*25); print()\n",
        "\n",
        "print_header(1)\n",
        "string1 = get_tsp_solution(group1)\n",
        "print_header(2)\n",
        "string2 = get_tsp_solution(group2)\n",
        "print_header(3)\n",
        "string3 = get_tsp_solution(group3)"
      ],
      "metadata": {
        "colab": {
          "base_uri": "https://localhost:8080/"
        },
        "id": "o9nFSCdqyUQM",
        "outputId": "76a432f8-a8a0-4b6a-e1f5-b452cb9c3453"
      },
      "execution_count": 8,
      "outputs": [
        {
          "output_type": "stream",
          "name": "stdout",
          "text": [
            "\n",
            "\n",
            "Computing String 1\n",
            "=========================\n",
            "\n",
            "PARAMETER_FILE = ../group.par\n",
            "Reading PROBLEM_FILE: \"../distances.atsp\" ... done\n",
            "ASCENT_CANDIDATES = 50\n",
            "BACKBONE_TRIALS = 0\n",
            "BACKTRACKING = NO\n",
            "# BWTSP =\n",
            "# CANDIDATE_FILE =\n",
            "CANDIDATE_SET_TYPE = ALPHA\n",
            "# DISTANCE =\n",
            "# DEPOT =\n",
            "# EDGE_FILE =\n",
            "EXCESS = 0.000568182\n",
            "EXTERNAL_SALESMEN = 0\n",
            "EXTRA_CANDIDATES = 0 \n",
            "EXTRA_CANDIDATE_SET_TYPE = QUADRANT\n",
            "GAIN23 = YES\n",
            "GAIN_CRITERION = YES\n",
            "INITIAL_PERIOD = 1760\n",
            "INITIAL_STEP_SIZE = 1\n",
            "INITIAL_TOUR_ALGORITHM = WALK\n",
            "# INITIAL_TOUR_FILE = \n",
            "INITIAL_TOUR_FRACTION = 1.000\n",
            "# INPUT_TOUR_FILE = \n",
            "KICK_TYPE = 0\n",
            "KICKS = 1\n",
            "# MAX_BREADTH =\n",
            "MAKESPAN = NO\n",
            "MAX_CANDIDATES = 5 \n",
            "MAX_SWAPS = 3520\n",
            "MAX_TRIALS = 3520\n",
            "# MERGE_TOUR_FILE =\n",
            "MOVE_TYPE = 5 \n",
            "# MTSP_MIN_SIZE =\n",
            "# MTSP_MAX_SIZE =\n",
            "# MTSP_OBJECTIVE =\n",
            "# MTSP_SOLUTION_FILE = \n",
            "NONSEQUENTIAL_MOVE_TYPE = 9\n",
            "OPTIMUM = 1760\n",
            "# OUTPUT_TOUR_FILE = \n",
            "PATCHING_A = 2 \n",
            "PATCHING_C = 3 \n",
            "# PI_FILE = \n",
            "POPMUSIC_INITIAL_TOUR = NO\n",
            "POPMUSIC_MAX_NEIGHBORS = 5\n",
            "POPMUSIC_SAMPLE_SIZE = 10\n",
            "POPMUSIC_SOLUTIONS = 50\n",
            "POPMUSIC_TRIALS = 1\n",
            "# POPULATION_SIZE = 0\n",
            "PRECISION = 100\n",
            "PROBLEM_FILE = ../distances.atsp\n",
            "RECOMBINATION = IPT\n",
            "RESTRICTED_SEARCH = YES\n",
            "RUNS = 10\n",
            "SALESMEN = 1\n",
            "SCALE = 1\n",
            "SEED = 1\n",
            "STOP_AT_OPTIMUM = YES\n",
            "SUBGRADIENT = YES\n",
            "# SUBPROBLEM_SIZE =\n",
            "# SUBPROBLEM_TOUR_FILE = \n",
            "SUBSEQUENT_MOVE_TYPE = 5 \n",
            "SUBSEQUENT_PATCHING = YES\n",
            "TIME_LIMIT = 600.0\n",
            "TOUR_FILE = ../output.txt\n",
            "TRACE_LEVEL = 1\n",
            "VEHICLES = 1\n",
            "\n",
            "Lower bound = 2298.6, Gap = -30.60%, Ascent time = 15.64 sec.\n",
            "Cand.min = 2, Cand.avg = 4.8, Cand.max = 5\n",
            "Edges.fixed = 1760 [Cost = 0]\n",
            "Preprocessing time = 16.24 sec.\n",
            "* 1: Cost = 2572, Gap = 46.1364%, Time = 0.14 sec.\n",
            "* 2: Cost = 2547, Gap = 44.7159%, Time = 0.27 sec.\n",
            "* 8: Cost = 2545, Gap = 44.6023%, Time = 1.04 sec.\n",
            "* 10: Cost = 2530, Gap = 43.7500%, Time = 1.38 sec.\n",
            "* 13: Cost = 2524, Gap = 43.4091%, Time = 1.77 sec.\n",
            "* 24: Cost = 2522, Gap = 43.2955%, Time = 4.08 sec.\n",
            "* 29: Cost = 2520, Gap = 43.1818%, Time = 5.31 sec.\n",
            "* 31: Cost = 2517, Gap = 43.0114%, Time = 5.70 sec.\n",
            "* 32: Cost = 2516, Gap = 42.9545%, Time = 5.99 sec.\n",
            "* 33: Cost = 2513, Gap = 42.7841%, Time = 6.27 sec.\n",
            "* 38: Cost = 2512, Gap = 42.7273%, Time = 7.34 sec.\n",
            "* 45: Cost = 2511, Gap = 42.6705%, Time = 9.45 sec.\n",
            "* 101: Cost = 2509, Gap = 42.5568%, Time = 29.12 sec.\n",
            "* 276: Cost = 2505, Gap = 42.3295%, Time = 99.75 sec.\n",
            "* 280: Cost = 2504, Gap = 42.2727%, Time = 101.38 sec.\n",
            "* 298: Cost = 2503, Gap = 42.2159%, Time = 112.61 sec.\n",
            "* 876: Cost = 2502, Gap = 42.1591%, Time = 512.23 sec.\n",
            "*** Time limit exceeded ***\n",
            "Writing TOUR_FILE: \"../output.txt\" ... done\n",
            "Run 1: Cost = 2502, Gap = 42.1591%, Time = 583.92 sec.\n",
            "\n",
            "*** Time limit exceeded ***\n",
            "Successes/Runs = 0/10 \n",
            "Cost.min = 2502, Cost.avg = 2502.00, Cost.max = 2502\n",
            "Gap.min = 42.1591%, Gap.avg = 42.1591%, Gap.max = 42.1591%\n",
            "Trials.min = 984, Trials.avg = 984.0, Trials.max = 984\n",
            "Time.min = 583.92 sec., Time.avg = 583.92 sec., Time.max = 583.92 sec.\n",
            "Time.total = 600.58 sec.\n",
            "\n",
            "\n",
            "\n",
            "Computing String 2\n",
            "=========================\n",
            "\n",
            "PARAMETER_FILE = ../group.par\n",
            "Reading PROBLEM_FILE: \"../distances.atsp\" ... done\n",
            "ASCENT_CANDIDATES = 50\n",
            "BACKBONE_TRIALS = 0\n",
            "BACKTRACKING = NO\n",
            "# BWTSP =\n",
            "# CANDIDATE_FILE =\n",
            "CANDIDATE_SET_TYPE = ALPHA\n",
            "# DISTANCE =\n",
            "# DEPOT =\n",
            "# EDGE_FILE =\n",
            "EXCESS = 0.000568182\n",
            "EXTERNAL_SALESMEN = 0\n",
            "EXTRA_CANDIDATES = 0 \n",
            "EXTRA_CANDIDATE_SET_TYPE = QUADRANT\n",
            "GAIN23 = YES\n",
            "GAIN_CRITERION = YES\n",
            "INITIAL_PERIOD = 1760\n",
            "INITIAL_STEP_SIZE = 1\n",
            "INITIAL_TOUR_ALGORITHM = WALK\n",
            "# INITIAL_TOUR_FILE = \n",
            "INITIAL_TOUR_FRACTION = 1.000\n",
            "# INPUT_TOUR_FILE = \n",
            "KICK_TYPE = 0\n",
            "KICKS = 1\n",
            "# MAX_BREADTH =\n",
            "MAKESPAN = NO\n",
            "MAX_CANDIDATES = 5 \n",
            "MAX_SWAPS = 3520\n",
            "MAX_TRIALS = 3520\n",
            "# MERGE_TOUR_FILE =\n",
            "MOVE_TYPE = 5 \n",
            "# MTSP_MIN_SIZE =\n",
            "# MTSP_MAX_SIZE =\n",
            "# MTSP_OBJECTIVE =\n",
            "# MTSP_SOLUTION_FILE = \n",
            "NONSEQUENTIAL_MOVE_TYPE = 9\n",
            "OPTIMUM = 1760\n",
            "# OUTPUT_TOUR_FILE = \n",
            "PATCHING_A = 2 \n",
            "PATCHING_C = 3 \n",
            "# PI_FILE = \n",
            "POPMUSIC_INITIAL_TOUR = NO\n",
            "POPMUSIC_MAX_NEIGHBORS = 5\n",
            "POPMUSIC_SAMPLE_SIZE = 10\n",
            "POPMUSIC_SOLUTIONS = 50\n",
            "POPMUSIC_TRIALS = 1\n",
            "# POPULATION_SIZE = 0\n",
            "PRECISION = 100\n",
            "PROBLEM_FILE = ../distances.atsp\n",
            "RECOMBINATION = IPT\n",
            "RESTRICTED_SEARCH = YES\n",
            "RUNS = 10\n",
            "SALESMEN = 1\n",
            "SCALE = 1\n",
            "SEED = 1\n",
            "STOP_AT_OPTIMUM = YES\n",
            "SUBGRADIENT = YES\n",
            "# SUBPROBLEM_SIZE =\n",
            "# SUBPROBLEM_TOUR_FILE = \n",
            "SUBSEQUENT_MOVE_TYPE = 5 \n",
            "SUBSEQUENT_PATCHING = YES\n",
            "TIME_LIMIT = 600.0\n",
            "TOUR_FILE = ../output.txt\n",
            "TRACE_LEVEL = 1\n",
            "VEHICLES = 1\n",
            "\n",
            "Lower bound = 2255.0, Gap = -28.12%, Ascent time = 16.13 sec.\n",
            "Cand.min = 2, Cand.avg = 4.8, Cand.max = 5\n",
            "Edges.fixed = 1760 [Cost = 0]\n",
            "Preprocessing time = 16.73 sec.\n",
            "* 1: Cost = 2566, Gap = 45.7955%, Time = 0.11 sec.\n",
            "* 2: Cost = 2559, Gap = 45.3977%, Time = 0.19 sec.\n",
            "* 3: Cost = 2547, Gap = 44.7159%, Time = 0.30 sec.\n",
            "* 4: Cost = 2522, Gap = 43.2955%, Time = 0.47 sec.\n",
            "* 5: Cost = 2521, Gap = 43.2386%, Time = 0.55 sec.\n",
            "* 6: Cost = 2520, Gap = 43.1818%, Time = 0.68 sec.\n",
            "* 7: Cost = 2519, Gap = 43.1250%, Time = 0.78 sec.\n",
            "* 8: Cost = 2518, Gap = 43.0682%, Time = 0.97 sec.\n",
            "* 10: Cost = 2515, Gap = 42.8977%, Time = 1.34 sec.\n",
            "* 11: Cost = 2511, Gap = 42.6705%, Time = 1.46 sec.\n",
            "* 13: Cost = 2508, Gap = 42.5000%, Time = 1.88 sec.\n",
            "* 23: Cost = 2507, Gap = 42.4432%, Time = 4.15 sec.\n",
            "* 58: Cost = 2506, Gap = 42.3864%, Time = 13.85 sec.\n",
            "* 112: Cost = 2505, Gap = 42.3295%, Time = 32.18 sec.\n",
            "* 184: Cost = 2503, Gap = 42.2159%, Time = 54.95 sec.\n",
            "*** Time limit exceeded ***\n",
            "Writing TOUR_FILE: \"../output.txt\" ... done\n",
            "Run 1: Cost = 2503, Gap = 42.2159%, Time = 582.96 sec.\n",
            "\n",
            "*** Time limit exceeded ***\n",
            "Successes/Runs = 0/10 \n",
            "Cost.min = 2503, Cost.avg = 2503.00, Cost.max = 2503\n",
            "Gap.min = 42.2159%, Gap.avg = 42.2159%, Gap.max = 42.2159%\n",
            "Trials.min = 1934, Trials.avg = 1934.0, Trials.max = 1934\n",
            "Time.min = 582.96 sec., Time.avg = 582.96 sec., Time.max = 582.96 sec.\n",
            "Time.total = 600.11 sec.\n",
            "\n",
            "\n",
            "\n",
            "Computing String 3\n",
            "=========================\n",
            "\n",
            "PARAMETER_FILE = ../group.par\n",
            "Reading PROBLEM_FILE: \"../distances.atsp\" ... done\n",
            "ASCENT_CANDIDATES = 50\n",
            "BACKBONE_TRIALS = 0\n",
            "BACKTRACKING = NO\n",
            "# BWTSP =\n",
            "# CANDIDATE_FILE =\n",
            "CANDIDATE_SET_TYPE = ALPHA\n",
            "# DISTANCE =\n",
            "# DEPOT =\n",
            "# EDGE_FILE =\n",
            "EXCESS = 0.000568182\n",
            "EXTERNAL_SALESMEN = 0\n",
            "EXTRA_CANDIDATES = 0 \n",
            "EXTRA_CANDIDATE_SET_TYPE = QUADRANT\n",
            "GAIN23 = YES\n",
            "GAIN_CRITERION = YES\n",
            "INITIAL_PERIOD = 1760\n",
            "INITIAL_STEP_SIZE = 1\n",
            "INITIAL_TOUR_ALGORITHM = WALK\n",
            "# INITIAL_TOUR_FILE = \n",
            "INITIAL_TOUR_FRACTION = 1.000\n",
            "# INPUT_TOUR_FILE = \n",
            "KICK_TYPE = 0\n",
            "KICKS = 1\n",
            "# MAX_BREADTH =\n",
            "MAKESPAN = NO\n",
            "MAX_CANDIDATES = 5 \n",
            "MAX_SWAPS = 3520\n",
            "MAX_TRIALS = 3520\n",
            "# MERGE_TOUR_FILE =\n",
            "MOVE_TYPE = 5 \n",
            "# MTSP_MIN_SIZE =\n",
            "# MTSP_MAX_SIZE =\n",
            "# MTSP_OBJECTIVE =\n",
            "# MTSP_SOLUTION_FILE = \n",
            "NONSEQUENTIAL_MOVE_TYPE = 9\n",
            "OPTIMUM = 1760\n",
            "# OUTPUT_TOUR_FILE = \n",
            "PATCHING_A = 2 \n",
            "PATCHING_C = 3 \n",
            "# PI_FILE = \n",
            "POPMUSIC_INITIAL_TOUR = NO\n",
            "POPMUSIC_MAX_NEIGHBORS = 5\n",
            "POPMUSIC_SAMPLE_SIZE = 10\n",
            "POPMUSIC_SOLUTIONS = 50\n",
            "POPMUSIC_TRIALS = 1\n",
            "# POPULATION_SIZE = 0\n",
            "PRECISION = 100\n",
            "PROBLEM_FILE = ../distances.atsp\n",
            "RECOMBINATION = IPT\n",
            "RESTRICTED_SEARCH = YES\n",
            "RUNS = 10\n",
            "SALESMEN = 1\n",
            "SCALE = 1\n",
            "SEED = 1\n",
            "STOP_AT_OPTIMUM = YES\n",
            "SUBGRADIENT = YES\n",
            "# SUBPROBLEM_SIZE =\n",
            "# SUBPROBLEM_TOUR_FILE = \n",
            "SUBSEQUENT_MOVE_TYPE = 5 \n",
            "SUBSEQUENT_PATCHING = YES\n",
            "TIME_LIMIT = 600.0\n",
            "TOUR_FILE = ../output.txt\n",
            "TRACE_LEVEL = 1\n",
            "VEHICLES = 1\n",
            "\n",
            "Lower bound = 2250.6, Gap = -27.88%, Ascent time = 16.22 sec.\n",
            "Cand.min = 1, Cand.avg = 4.7, Cand.max = 5\n",
            "Edges.fixed = 1760 [Cost = 0]\n",
            "Preprocessing time = 16.82 sec.\n",
            "* 1: Cost = 2574, Gap = 46.2500%, Time = 0.09 sec.\n",
            "* 2: Cost = 2566, Gap = 45.7955%, Time = 0.30 sec.\n",
            "* 3: Cost = 2553, Gap = 45.0568%, Time = 0.44 sec.\n",
            "* 4: Cost = 2552, Gap = 45.0000%, Time = 0.61 sec.\n",
            "* 5: Cost = 2543, Gap = 44.4886%, Time = 0.77 sec.\n",
            "* 7: Cost = 2536, Gap = 44.0909%, Time = 1.07 sec.\n",
            "* 8: Cost = 2531, Gap = 43.8068%, Time = 1.18 sec.\n",
            "* 13: Cost = 2527, Gap = 43.5795%, Time = 2.02 sec.\n",
            "* 16: Cost = 2526, Gap = 43.5227%, Time = 2.50 sec.\n",
            "* 21: Cost = 2525, Gap = 43.4659%, Time = 3.45 sec.\n",
            "* 24: Cost = 2520, Gap = 43.1818%, Time = 4.03 sec.\n",
            "* 26: Cost = 2519, Gap = 43.1250%, Time = 4.28 sec.\n",
            "* 42: Cost = 2518, Gap = 43.0682%, Time = 7.90 sec.\n",
            "* 43: Cost = 2516, Gap = 42.9545%, Time = 8.05 sec.\n",
            "* 48: Cost = 2515, Gap = 42.8977%, Time = 9.19 sec.\n",
            "* 49: Cost = 2512, Gap = 42.7273%, Time = 9.55 sec.\n",
            "* 52: Cost = 2510, Gap = 42.6136%, Time = 10.83 sec.\n",
            "* 69: Cost = 2509, Gap = 42.5568%, Time = 19.09 sec.\n",
            "* 106: Cost = 2508, Gap = 42.5000%, Time = 46.62 sec.\n",
            "* 162: Cost = 2507, Gap = 42.4432%, Time = 110.62 sec.\n",
            "* 186: Cost = 2506, Gap = 42.3864%, Time = 133.68 sec.\n",
            "* 493: Cost = 2505, Gap = 42.3295%, Time = 508.06 sec.\n",
            "* 524: Cost = 2503, Gap = 42.2159%, Time = 550.01 sec.\n",
            "*** Time limit exceeded ***\n",
            "Writing TOUR_FILE: \"../output.txt\" ... done\n",
            "Run 1: Cost = 2503, Gap = 42.2159%, Time = 582.83 sec.\n",
            "\n",
            "*** Time limit exceeded ***\n",
            "Successes/Runs = 0/10 \n",
            "Cost.min = 2503, Cost.avg = 2503.00, Cost.max = 2503\n",
            "Gap.min = 42.2159%, Gap.avg = 42.2159%, Gap.max = 42.2159%\n",
            "Trials.min = 605, Trials.avg = 605.0, Trials.max = 605\n",
            "Time.min = 582.83 sec., Time.avg = 582.83 sec., Time.max = 582.83 sec.\n",
            "Time.total = 600.07 sec.\n",
            "\n"
          ]
        }
      ]
    },
    {
      "cell_type": "markdown",
      "source": [
        "### 5. Check solution is feasible"
      ],
      "metadata": {
        "id": "7YCr8im3sdaO"
      }
    },
    {
      "cell_type": "code",
      "source": [
        "for p in all_permutations:\n",
        "    if p not in string1 and p not in string2 and p not in string3:\n",
        "        print(p)\n",
        "              \n",
        "for p in mandatory:\n",
        "    if p not in string1 and p not in string2 and p not in string3:\n",
        "        print(p)\n",
        "#No News is good news."
      ],
      "metadata": {
        "id": "tPvN42n2s0TN"
      },
      "execution_count": 9,
      "outputs": []
    },
    {
      "cell_type": "code",
      "source": [
        "result_list = [string1, string2, string3]\n",
        "for i in range(3):\n",
        "  print('The length for group' + str(i+1) + ' without wildcards ' +  str(len(result_list[i])))"
      ],
      "metadata": {
        "id": "3KiYBXpHs1xY",
        "colab": {
          "base_uri": "https://localhost:8080/"
        },
        "outputId": "371b5311-d26d-4c02-c29e-99eb9e4dae82"
      },
      "execution_count": 10,
      "outputs": [
        {
          "output_type": "stream",
          "name": "stdout",
          "text": [
            "The length for group1 without wildcards 2507\n",
            "The length for group2 without wildcards 2505\n",
            "The length for group3 without wildcards 2505\n"
          ]
        }
      ]
    },
    {
      "cell_type": "code",
      "source": [
        "sub = pd.DataFrame()\n",
        "sub['schedule'] = [string1, string2, string3]\n",
        "schedule = sub.schedule.tolist()"
      ],
      "metadata": {
        "id": "xhpG--lutNtG"
      },
      "execution_count": 11,
      "outputs": []
    },
    {
      "cell_type": "markdown",
      "source": [
        "### 6. Using Dynamic Programming to filling the 🌟"
      ],
      "metadata": {
        "id": "dM0OI3C0tQUE"
      }
    },
    {
      "cell_type": "markdown",
      "source": [
        "Create Cost martix"
      ],
      "metadata": {
        "id": "FrN6RED5ttBx"
      }
    },
    {
      "cell_type": "code",
      "source": [
        "perms = list(map(lambda p: \"\".join(p), itertools.permutations(\"1234567\")))\n",
        "perm2id = {p: i for i, p in enumerate(perms)}\n",
        "\n",
        "perms_arr = np.array([list(map(int, p)) for p in perms])\n",
        "perms_arr.shape\n",
        "\n",
        "perms_onehot = np.eye(7)[perms_arr-1, :].transpose(0, 2, 1)\n",
        "assert np.allclose(perms_onehot[:,0,:].astype(np.int64), (perms_arr == 1).astype(np.int64))\n",
        "\n",
        "must_match_left2right = np.array([-1, -1, -1, -1, -1, -1, -1, 7, 6, 5, 4, 3, 2, 1, 0])\n",
        "must_match_right2left = np.array([0, 1, 2, 3, 4, 5, 6, 7, -1, -1, -1, -1, -1, -1, -1])\n",
        "cost_ifmatch = np.array([7, 6, 5, 4, 3, 2, 1, 0, 1, 2, 3, 4, 5, 6, 7])\n",
        "\n",
        "M = F.conv2d(\n",
        "    F.pad(torch.Tensor(perms_onehot[:, None, :, :]), (7, 7)),\n",
        "    torch.Tensor(perms_onehot[:, None, :, :]),\n",
        "    padding=\"valid\"\n",
        ").squeeze().numpy()\n",
        "\n",
        "must_match_left2right = np.array([-1, -1, -1, -1, -1, -1, -1, 7, 6, 5, 4, 3, 2, 1, 0])\n",
        "must_match_left2right_wild = np.array([-1, -1, -1, -1, -1, -1, -1, 6, 5, 4, 3, 2, 1, 0, 0])\n",
        "\n",
        "cost_ifmatch = np.array([7, 6, 5, 4, 3, 2, 1, 0, 1, 2, 3, 4, 5, 6, 7])\n",
        "\n",
        "costMat = np.where(M == must_match_left2right, cost_ifmatch, np.inf).min(axis=-1).astype(np.int8)\n",
        "costMatWild = np.minimum(costMat, np.where(M == must_match_left2right_wild, cost_ifmatch, np.inf).min(axis=-1)).astype(np.int8)"
      ],
      "metadata": {
        "id": "yzPK0LgXtguk"
      },
      "execution_count": 12,
      "outputs": []
    },
    {
      "cell_type": "markdown",
      "source": [
        "#### String decomposition"
      ],
      "metadata": {
        "id": "cwfj4mxHtyT7"
      }
    },
    {
      "cell_type": "code",
      "source": [
        "perms = [''.join(x) for x in itertools.permutations(['1','2','3','4','5','6','7'], 7)]\n",
        "\n",
        "def find_strings_perms(strings, verbose=False):\n",
        "    global perms\n",
        "    found_perms = []\n",
        "    for s in strings:\n",
        "        found_perms.append([])\n",
        "        for i in range(len(s)-6):\n",
        "            p = s[i:i+7]\n",
        "            if p in perms:\n",
        "                found_perms[-1].append(p)\n",
        "    if verbose:\n",
        "        lens = [len(_) for _ in  found_perms]\n",
        "        print(f'There are {lens} permutations in strings, {sum(lens)} in total.')\n",
        "        lens = [len(set(_)) for _ in  found_perms]\n",
        "        print(f'There are {lens} unique permutations in strings, {sum(lens)} in total.')\n",
        "    return found_perms\n",
        "\n",
        "def rebalance_perms(strings_perms, verbose=False):\n",
        "    # convert to dicts for fast lookup and to keep permutations order\n",
        "    strings_perms = [dict.fromkeys(_) for _ in strings_perms] \n",
        "    for p in strings_perms[0].copy():  # iterate over the copy to allow modification during iteration\n",
        "        if p[:2] != \"12\" and (p in strings_perms[1] or p in strings_perms[2]):\n",
        "            strings_perms[0].pop(p)\n",
        "    for p in strings_perms[1].copy():\n",
        "        if p[:2] != \"12\" and p in strings_perms[2]:\n",
        "            strings_perms[1].pop(p)\n",
        "    if verbose:\n",
        "        lens = [len(_) for _ in  strings_perms]\n",
        "        print(f'There are {lens} permutations left in strings after rebalancing, {sum(lens)} in total.')\n",
        "    return [list(_) for _ in strings_perms] "
      ],
      "metadata": {
        "id": "V5y4X783txv5"
      },
      "execution_count": 13,
      "outputs": []
    },
    {
      "cell_type": "code",
      "source": [
        "found_perms = find_strings_perms(schedule, verbose=True)\n",
        "balanced_perms = rebalance_perms(found_perms, verbose=True)"
      ],
      "metadata": {
        "id": "8eaiyjqbt4pu",
        "colab": {
          "base_uri": "https://localhost:8080/"
        },
        "outputId": "9089d8b5-3cbd-4736-8e72-a66fb3115062"
      },
      "execution_count": 14,
      "outputs": [
        {
          "output_type": "stream",
          "name": "stdout",
          "text": [
            "There are [1953, 1936, 1942] permutations in strings, 5831 in total.\n",
            "There are [1932, 1915, 1928] unique permutations in strings, 5775 in total.\n",
            "There are [1542, 1573, 1928] permutations left in strings after rebalancing, 5043 in total.\n"
          ]
        }
      ]
    },
    {
      "cell_type": "markdown",
      "source": [
        "Run"
      ],
      "metadata": {
        "id": "xSf159JOt9MX"
      }
    },
    {
      "cell_type": "code",
      "source": [
        "nodes_list = []\n",
        "table_list = []\n",
        "for i in range(3):\n",
        "    word = balanced_perms[i]\n",
        "    nodes = [perm2id[p] for p in balanced_perms[i]]\n",
        "\n",
        "    table = np.zeros((len(nodes), 10), np.int64)\n",
        "    table[0, :] = 7\n",
        "    for i in range(1, len(nodes)):\n",
        "        e = costMat[nodes[i-1], nodes[i]]\n",
        "        ew = costMatWild[nodes[i-1], nodes[i]]\n",
        "        table[i,0] = table[i-1,0] + e\n",
        "        table[i,1] = min(table[i-1,1] + e, table[i-1,0] + ew)\n",
        "        table[i,2] = min(table[i-1,2], table[i-1,1]) + e # TODO: better transition\n",
        "        table[i,3] = min(table[i-1,3], table[i-1,2]) + e\n",
        "        table[i,4] = min(table[i-1,4], table[i-1,3]) + e\n",
        "        table[i,5] = min(table[i-1,5], table[i-1,4]) + e\n",
        "        table[i,6] = min(table[i-1,6], table[i-1,5]) + e\n",
        "        table[i,7] = min(table[i-1,7], table[i-1,6]) + e\n",
        "        table[i,8] = min(table[i-1,8], table[i-1,7]) + e\n",
        "        table[i,9] = min(table[i-1,9] + e, table[i-1,8] + ew)\n",
        "    print(table[-1].min(), table[-1])\n",
        "    nodes_list.append(nodes)\n",
        "    table_list.append(table)\n",
        "    \n",
        "# backtrack\n",
        "new_words = []\n",
        "wilds = []\n",
        "for nodes, table in zip(nodes_list, table_list):\n",
        "    ns = [perms[nodes[-1]]]\n",
        "    track = np.argmin(table[-1])\n",
        "    wild = []\n",
        "    for i in range(len(nodes)-2, -1, -1):\n",
        "        e = costMat[nodes[i], nodes[i+1]]\n",
        "        ew = costMatWild[nodes[i], nodes[i+1]]\n",
        "        if track == 0:\n",
        "            ns.append(perms[nodes[i]][:e])\n",
        "        elif track == 1:\n",
        "            if table[i, 1] + e < table[i, 0] + ew:\n",
        "                ns.append(perms[nodes[i]][:e])\n",
        "            else:\n",
        "                left = np.array(list(map(int, perms[nodes[i]][ew:])))\n",
        "                right = np.array(list(map(int, perms[nodes[i+1]][:-ew])))\n",
        "                mis = np.where(left != right)[0][0]\n",
        "                wild.append(table[i, track-1]-7+ew+mis)\n",
        "                ns.append(perms[nodes[i]][:ew])\n",
        "                track = track - 1\n",
        "        elif 2 <= track <= 8:\n",
        "            if table[i, track] >= table[i, track-1]:\n",
        "                track = track - 1\n",
        "            ns.append(perms[nodes[i]][:e])\n",
        "        elif track == 9:\n",
        "            if table[i, 9] + e < table[i, 8] + ew:\n",
        "                ns.append(perms[nodes[i]][:e])\n",
        "            else:\n",
        "                ns.append(perms[nodes[i]][:ew])\n",
        "                left = np.array(list(map(int, perms[nodes[i]][ew:])))\n",
        "                right = np.array(list(map(int, perms[nodes[i+1]][:-ew])))\n",
        "                mis = np.where(left != right)[0][0]\n",
        "                wild.append(table[i, track-1]-7+ew+mis)\n",
        "                track = track - 1\n",
        "        else:\n",
        "            assert False\n",
        "    assert track == 0\n",
        "    wilds.append(wild)\n",
        "    nsw = list(\"\".join(ns[::-1]))\n",
        "    for w in wild:\n",
        "        nsw[w] = \"*\"\n",
        "    new_words.append(\"\".join(nsw))"
      ],
      "metadata": {
        "id": "eiV24ymJt7Ru",
        "colab": {
          "base_uri": "https://localhost:8080/"
        },
        "outputId": "0d3be70a-9ec3-4cda-ede0-889901e220e0"
      },
      "execution_count": 15,
      "outputs": [
        {
          "output_type": "stream",
          "name": "stdout",
          "text": [
            "2193 [2201 2197 2197 2197 2197 2197 2197 2197 2197 2193]\n",
            "2266 [2273 2268 2268 2268 2268 2268 2268 2268 2268 2266]\n",
            "2500 [2505 2502 2502 2502 2502 2502 2502 2502 2502 2500]\n"
          ]
        }
      ]
    },
    {
      "cell_type": "code",
      "source": [
        "endtime = datetime.datetime.now()\n",
        "print(\"score: \", max(map(len, schedule)), \"->\", max(map(len, new_words)))\n",
        "print(\"execution time : \", endtime - starttime)"
      ],
      "metadata": {
        "id": "g068ZNRxuAdS",
        "colab": {
          "base_uri": "https://localhost:8080/"
        },
        "outputId": "60583cf3-8cbf-4eca-9484-f3bcc64f4eb7"
      },
      "execution_count": 16,
      "outputs": [
        {
          "output_type": "stream",
          "name": "stdout",
          "text": [
            "score:  2507 -> 2500\n",
            "execution time :  0:32:07.241671\n"
          ]
        }
      ]
    },
    {
      "cell_type": "markdown",
      "source": [
        "### 7. Submission"
      ],
      "metadata": {
        "id": "Qeh1CTQmuCLc"
      }
    },
    {
      "cell_type": "code",
      "source": [
        "symbols = \"🎅🤶🦌🧝🎄🎁🎀🌟\"\n",
        "submission = pd.Series([a.translate(str.maketrans(\"2413567*\", symbols)) for a in new_words], name='schedule')\n",
        "submission.to_csv('submission.csv', index=False)"
      ],
      "metadata": {
        "id": "pLjWvinluBiD"
      },
      "execution_count": 17,
      "outputs": []
    }
  ]
}