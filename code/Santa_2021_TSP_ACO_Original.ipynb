{
  "nbformat": 4,
  "nbformat_minor": 0,
  "metadata": {
    "colab": {
      "name": "Santa 2021_TSP_ACO_Original.ipynb",
      "provenance": [],
      "authorship_tag": "ABX9TyP/pvj/3p+HcY6Ie+Ns0v+b",
      "include_colab_link": true
    },
    "kernelspec": {
      "name": "python3",
      "display_name": "Python 3"
    },
    "language_info": {
      "name": "python"
    },
    "widgets": {
      "application/vnd.jupyter.widget-state+json": {
        "58c2a8cba02c41368345b21db8516c1b": {
          "model_module": "@jupyter-widgets/controls",
          "model_name": "HBoxModel",
          "model_module_version": "1.5.0",
          "state": {
            "_view_name": "HBoxView",
            "_dom_classes": [],
            "_model_name": "HBoxModel",
            "_view_module": "@jupyter-widgets/controls",
            "_model_module_version": "1.5.0",
            "_view_count": null,
            "_view_module_version": "1.5.0",
            "box_style": "",
            "layout": "IPY_MODEL_8bf51e316f8746efa5a364cffdfd3a62",
            "_model_module": "@jupyter-widgets/controls",
            "children": [
              "IPY_MODEL_c038487a302543af802699a78b6f3d9b",
              "IPY_MODEL_5c252e27223140648aa4d21ec772759c",
              "IPY_MODEL_03b3659dc4ef4a138e0d96a480a8ed59"
            ]
          }
        },
        "8bf51e316f8746efa5a364cffdfd3a62": {
          "model_module": "@jupyter-widgets/base",
          "model_name": "LayoutModel",
          "model_module_version": "1.2.0",
          "state": {
            "_view_name": "LayoutView",
            "grid_template_rows": null,
            "right": null,
            "justify_content": null,
            "_view_module": "@jupyter-widgets/base",
            "overflow": null,
            "_model_module_version": "1.2.0",
            "_view_count": null,
            "flex_flow": null,
            "width": null,
            "min_width": null,
            "border": null,
            "align_items": null,
            "bottom": null,
            "_model_module": "@jupyter-widgets/base",
            "top": null,
            "grid_column": null,
            "overflow_y": null,
            "overflow_x": null,
            "grid_auto_flow": null,
            "grid_area": null,
            "grid_template_columns": null,
            "flex": null,
            "_model_name": "LayoutModel",
            "justify_items": null,
            "grid_row": null,
            "max_height": null,
            "align_content": null,
            "visibility": null,
            "align_self": null,
            "height": null,
            "min_height": null,
            "padding": null,
            "grid_auto_rows": null,
            "grid_gap": null,
            "max_width": null,
            "order": null,
            "_view_module_version": "1.2.0",
            "grid_template_areas": null,
            "object_position": null,
            "object_fit": null,
            "grid_auto_columns": null,
            "margin": null,
            "display": null,
            "left": null
          }
        },
        "c038487a302543af802699a78b6f3d9b": {
          "model_module": "@jupyter-widgets/controls",
          "model_name": "HTMLModel",
          "model_module_version": "1.5.0",
          "state": {
            "_view_name": "HTMLView",
            "style": "IPY_MODEL_df00dec1ba7e4913a6fa02627491362d",
            "_dom_classes": [],
            "description": "",
            "_model_name": "HTMLModel",
            "placeholder": "​",
            "_view_module": "@jupyter-widgets/controls",
            "_model_module_version": "1.5.0",
            "value": "map_1: 100%",
            "_view_count": null,
            "_view_module_version": "1.5.0",
            "description_tooltip": null,
            "_model_module": "@jupyter-widgets/controls",
            "layout": "IPY_MODEL_7d63e5edce3f4212859c631a4d0e2e9b"
          }
        },
        "5c252e27223140648aa4d21ec772759c": {
          "model_module": "@jupyter-widgets/controls",
          "model_name": "FloatProgressModel",
          "model_module_version": "1.5.0",
          "state": {
            "_view_name": "ProgressView",
            "style": "IPY_MODEL_c6640b87aac14545a4dfe13d9d2e8fbd",
            "_dom_classes": [],
            "description": "",
            "_model_name": "FloatProgressModel",
            "bar_style": "success",
            "max": 150,
            "_view_module": "@jupyter-widgets/controls",
            "_model_module_version": "1.5.0",
            "value": 150,
            "_view_count": null,
            "_view_module_version": "1.5.0",
            "orientation": "horizontal",
            "min": 0,
            "description_tooltip": null,
            "_model_module": "@jupyter-widgets/controls",
            "layout": "IPY_MODEL_23312dbfedbf4a0183fbd0f2d7661d40"
          }
        },
        "03b3659dc4ef4a138e0d96a480a8ed59": {
          "model_module": "@jupyter-widgets/controls",
          "model_name": "HTMLModel",
          "model_module_version": "1.5.0",
          "state": {
            "_view_name": "HTMLView",
            "style": "IPY_MODEL_feeeb4bcf18c4d08804070c6551744ee",
            "_dom_classes": [],
            "description": "",
            "_model_name": "HTMLModel",
            "placeholder": "​",
            "_view_module": "@jupyter-widgets/controls",
            "_model_module_version": "1.5.0",
            "value": " 150/150 [04:59&lt;00:00,  2.00s/ant]",
            "_view_count": null,
            "_view_module_version": "1.5.0",
            "description_tooltip": null,
            "_model_module": "@jupyter-widgets/controls",
            "layout": "IPY_MODEL_a75208ef74f14a0b9edfd218ef533d3f"
          }
        },
        "df00dec1ba7e4913a6fa02627491362d": {
          "model_module": "@jupyter-widgets/controls",
          "model_name": "DescriptionStyleModel",
          "model_module_version": "1.5.0",
          "state": {
            "_view_name": "StyleView",
            "_model_name": "DescriptionStyleModel",
            "description_width": "",
            "_view_module": "@jupyter-widgets/base",
            "_model_module_version": "1.5.0",
            "_view_count": null,
            "_view_module_version": "1.2.0",
            "_model_module": "@jupyter-widgets/controls"
          }
        },
        "7d63e5edce3f4212859c631a4d0e2e9b": {
          "model_module": "@jupyter-widgets/base",
          "model_name": "LayoutModel",
          "model_module_version": "1.2.0",
          "state": {
            "_view_name": "LayoutView",
            "grid_template_rows": null,
            "right": null,
            "justify_content": null,
            "_view_module": "@jupyter-widgets/base",
            "overflow": null,
            "_model_module_version": "1.2.0",
            "_view_count": null,
            "flex_flow": null,
            "width": null,
            "min_width": null,
            "border": null,
            "align_items": null,
            "bottom": null,
            "_model_module": "@jupyter-widgets/base",
            "top": null,
            "grid_column": null,
            "overflow_y": null,
            "overflow_x": null,
            "grid_auto_flow": null,
            "grid_area": null,
            "grid_template_columns": null,
            "flex": null,
            "_model_name": "LayoutModel",
            "justify_items": null,
            "grid_row": null,
            "max_height": null,
            "align_content": null,
            "visibility": null,
            "align_self": null,
            "height": null,
            "min_height": null,
            "padding": null,
            "grid_auto_rows": null,
            "grid_gap": null,
            "max_width": null,
            "order": null,
            "_view_module_version": "1.2.0",
            "grid_template_areas": null,
            "object_position": null,
            "object_fit": null,
            "grid_auto_columns": null,
            "margin": null,
            "display": null,
            "left": null
          }
        },
        "c6640b87aac14545a4dfe13d9d2e8fbd": {
          "model_module": "@jupyter-widgets/controls",
          "model_name": "ProgressStyleModel",
          "model_module_version": "1.5.0",
          "state": {
            "_view_name": "StyleView",
            "_model_name": "ProgressStyleModel",
            "description_width": "",
            "_view_module": "@jupyter-widgets/base",
            "_model_module_version": "1.5.0",
            "_view_count": null,
            "_view_module_version": "1.2.0",
            "bar_color": null,
            "_model_module": "@jupyter-widgets/controls"
          }
        },
        "23312dbfedbf4a0183fbd0f2d7661d40": {
          "model_module": "@jupyter-widgets/base",
          "model_name": "LayoutModel",
          "model_module_version": "1.2.0",
          "state": {
            "_view_name": "LayoutView",
            "grid_template_rows": null,
            "right": null,
            "justify_content": null,
            "_view_module": "@jupyter-widgets/base",
            "overflow": null,
            "_model_module_version": "1.2.0",
            "_view_count": null,
            "flex_flow": null,
            "width": null,
            "min_width": null,
            "border": null,
            "align_items": null,
            "bottom": null,
            "_model_module": "@jupyter-widgets/base",
            "top": null,
            "grid_column": null,
            "overflow_y": null,
            "overflow_x": null,
            "grid_auto_flow": null,
            "grid_area": null,
            "grid_template_columns": null,
            "flex": null,
            "_model_name": "LayoutModel",
            "justify_items": null,
            "grid_row": null,
            "max_height": null,
            "align_content": null,
            "visibility": null,
            "align_self": null,
            "height": null,
            "min_height": null,
            "padding": null,
            "grid_auto_rows": null,
            "grid_gap": null,
            "max_width": null,
            "order": null,
            "_view_module_version": "1.2.0",
            "grid_template_areas": null,
            "object_position": null,
            "object_fit": null,
            "grid_auto_columns": null,
            "margin": null,
            "display": null,
            "left": null
          }
        },
        "feeeb4bcf18c4d08804070c6551744ee": {
          "model_module": "@jupyter-widgets/controls",
          "model_name": "DescriptionStyleModel",
          "model_module_version": "1.5.0",
          "state": {
            "_view_name": "StyleView",
            "_model_name": "DescriptionStyleModel",
            "description_width": "",
            "_view_module": "@jupyter-widgets/base",
            "_model_module_version": "1.5.0",
            "_view_count": null,
            "_view_module_version": "1.2.0",
            "_model_module": "@jupyter-widgets/controls"
          }
        },
        "a75208ef74f14a0b9edfd218ef533d3f": {
          "model_module": "@jupyter-widgets/base",
          "model_name": "LayoutModel",
          "model_module_version": "1.2.0",
          "state": {
            "_view_name": "LayoutView",
            "grid_template_rows": null,
            "right": null,
            "justify_content": null,
            "_view_module": "@jupyter-widgets/base",
            "overflow": null,
            "_model_module_version": "1.2.0",
            "_view_count": null,
            "flex_flow": null,
            "width": null,
            "min_width": null,
            "border": null,
            "align_items": null,
            "bottom": null,
            "_model_module": "@jupyter-widgets/base",
            "top": null,
            "grid_column": null,
            "overflow_y": null,
            "overflow_x": null,
            "grid_auto_flow": null,
            "grid_area": null,
            "grid_template_columns": null,
            "flex": null,
            "_model_name": "LayoutModel",
            "justify_items": null,
            "grid_row": null,
            "max_height": null,
            "align_content": null,
            "visibility": null,
            "align_self": null,
            "height": null,
            "min_height": null,
            "padding": null,
            "grid_auto_rows": null,
            "grid_gap": null,
            "max_width": null,
            "order": null,
            "_view_module_version": "1.2.0",
            "grid_template_areas": null,
            "object_position": null,
            "object_fit": null,
            "grid_auto_columns": null,
            "margin": null,
            "display": null,
            "left": null
          }
        },
        "0c1708ce1d3b4faa82d68d9e6a691a94": {
          "model_module": "@jupyter-widgets/controls",
          "model_name": "HBoxModel",
          "model_module_version": "1.5.0",
          "state": {
            "_view_name": "HBoxView",
            "_dom_classes": [],
            "_model_name": "HBoxModel",
            "_view_module": "@jupyter-widgets/controls",
            "_model_module_version": "1.5.0",
            "_view_count": null,
            "_view_module_version": "1.5.0",
            "box_style": "",
            "layout": "IPY_MODEL_1476c0b283fb4e34826c2bd6b9111236",
            "_model_module": "@jupyter-widgets/controls",
            "children": [
              "IPY_MODEL_2e64548386774ee48073985ffd5ede1c",
              "IPY_MODEL_912b8386676749068c4813ca3e6c5052",
              "IPY_MODEL_421712b24318428b91078c8551e186d3"
            ]
          }
        },
        "1476c0b283fb4e34826c2bd6b9111236": {
          "model_module": "@jupyter-widgets/base",
          "model_name": "LayoutModel",
          "model_module_version": "1.2.0",
          "state": {
            "_view_name": "LayoutView",
            "grid_template_rows": null,
            "right": null,
            "justify_content": null,
            "_view_module": "@jupyter-widgets/base",
            "overflow": null,
            "_model_module_version": "1.2.0",
            "_view_count": null,
            "flex_flow": null,
            "width": null,
            "min_width": null,
            "border": null,
            "align_items": null,
            "bottom": null,
            "_model_module": "@jupyter-widgets/base",
            "top": null,
            "grid_column": null,
            "overflow_y": null,
            "overflow_x": null,
            "grid_auto_flow": null,
            "grid_area": null,
            "grid_template_columns": null,
            "flex": null,
            "_model_name": "LayoutModel",
            "justify_items": null,
            "grid_row": null,
            "max_height": null,
            "align_content": null,
            "visibility": null,
            "align_self": null,
            "height": null,
            "min_height": null,
            "padding": null,
            "grid_auto_rows": null,
            "grid_gap": null,
            "max_width": null,
            "order": null,
            "_view_module_version": "1.2.0",
            "grid_template_areas": null,
            "object_position": null,
            "object_fit": null,
            "grid_auto_columns": null,
            "margin": null,
            "display": null,
            "left": null
          }
        },
        "2e64548386774ee48073985ffd5ede1c": {
          "model_module": "@jupyter-widgets/controls",
          "model_name": "HTMLModel",
          "model_module_version": "1.5.0",
          "state": {
            "_view_name": "HTMLView",
            "style": "IPY_MODEL_46b30e36b24b4100a309fbcc61f98851",
            "_dom_classes": [],
            "description": "",
            "_model_name": "HTMLModel",
            "placeholder": "​",
            "_view_module": "@jupyter-widgets/controls",
            "_model_module_version": "1.5.0",
            "value": "map_2: 100%",
            "_view_count": null,
            "_view_module_version": "1.5.0",
            "description_tooltip": null,
            "_model_module": "@jupyter-widgets/controls",
            "layout": "IPY_MODEL_423fcae89d484a99b57d72ed39423aad"
          }
        },
        "912b8386676749068c4813ca3e6c5052": {
          "model_module": "@jupyter-widgets/controls",
          "model_name": "FloatProgressModel",
          "model_module_version": "1.5.0",
          "state": {
            "_view_name": "ProgressView",
            "style": "IPY_MODEL_6ec0ae78bac64de29f1ca25c2ae1aa31",
            "_dom_classes": [],
            "description": "",
            "_model_name": "FloatProgressModel",
            "bar_style": "success",
            "max": 150,
            "_view_module": "@jupyter-widgets/controls",
            "_model_module_version": "1.5.0",
            "value": 150,
            "_view_count": null,
            "_view_module_version": "1.5.0",
            "orientation": "horizontal",
            "min": 0,
            "description_tooltip": null,
            "_model_module": "@jupyter-widgets/controls",
            "layout": "IPY_MODEL_c85186091a864e968aac5b94ebf17aa5"
          }
        },
        "421712b24318428b91078c8551e186d3": {
          "model_module": "@jupyter-widgets/controls",
          "model_name": "HTMLModel",
          "model_module_version": "1.5.0",
          "state": {
            "_view_name": "HTMLView",
            "style": "IPY_MODEL_2af09b08940d46e996215bc70871ba21",
            "_dom_classes": [],
            "description": "",
            "_model_name": "HTMLModel",
            "placeholder": "​",
            "_view_module": "@jupyter-widgets/controls",
            "_model_module_version": "1.5.0",
            "value": " 150/150 [05:00&lt;00:00,  2.00s/ant]",
            "_view_count": null,
            "_view_module_version": "1.5.0",
            "description_tooltip": null,
            "_model_module": "@jupyter-widgets/controls",
            "layout": "IPY_MODEL_61b9447c1c914b1dbf90ac567a62f355"
          }
        },
        "46b30e36b24b4100a309fbcc61f98851": {
          "model_module": "@jupyter-widgets/controls",
          "model_name": "DescriptionStyleModel",
          "model_module_version": "1.5.0",
          "state": {
            "_view_name": "StyleView",
            "_model_name": "DescriptionStyleModel",
            "description_width": "",
            "_view_module": "@jupyter-widgets/base",
            "_model_module_version": "1.5.0",
            "_view_count": null,
            "_view_module_version": "1.2.0",
            "_model_module": "@jupyter-widgets/controls"
          }
        },
        "423fcae89d484a99b57d72ed39423aad": {
          "model_module": "@jupyter-widgets/base",
          "model_name": "LayoutModel",
          "model_module_version": "1.2.0",
          "state": {
            "_view_name": "LayoutView",
            "grid_template_rows": null,
            "right": null,
            "justify_content": null,
            "_view_module": "@jupyter-widgets/base",
            "overflow": null,
            "_model_module_version": "1.2.0",
            "_view_count": null,
            "flex_flow": null,
            "width": null,
            "min_width": null,
            "border": null,
            "align_items": null,
            "bottom": null,
            "_model_module": "@jupyter-widgets/base",
            "top": null,
            "grid_column": null,
            "overflow_y": null,
            "overflow_x": null,
            "grid_auto_flow": null,
            "grid_area": null,
            "grid_template_columns": null,
            "flex": null,
            "_model_name": "LayoutModel",
            "justify_items": null,
            "grid_row": null,
            "max_height": null,
            "align_content": null,
            "visibility": null,
            "align_self": null,
            "height": null,
            "min_height": null,
            "padding": null,
            "grid_auto_rows": null,
            "grid_gap": null,
            "max_width": null,
            "order": null,
            "_view_module_version": "1.2.0",
            "grid_template_areas": null,
            "object_position": null,
            "object_fit": null,
            "grid_auto_columns": null,
            "margin": null,
            "display": null,
            "left": null
          }
        },
        "6ec0ae78bac64de29f1ca25c2ae1aa31": {
          "model_module": "@jupyter-widgets/controls",
          "model_name": "ProgressStyleModel",
          "model_module_version": "1.5.0",
          "state": {
            "_view_name": "StyleView",
            "_model_name": "ProgressStyleModel",
            "description_width": "",
            "_view_module": "@jupyter-widgets/base",
            "_model_module_version": "1.5.0",
            "_view_count": null,
            "_view_module_version": "1.2.0",
            "bar_color": null,
            "_model_module": "@jupyter-widgets/controls"
          }
        },
        "c85186091a864e968aac5b94ebf17aa5": {
          "model_module": "@jupyter-widgets/base",
          "model_name": "LayoutModel",
          "model_module_version": "1.2.0",
          "state": {
            "_view_name": "LayoutView",
            "grid_template_rows": null,
            "right": null,
            "justify_content": null,
            "_view_module": "@jupyter-widgets/base",
            "overflow": null,
            "_model_module_version": "1.2.0",
            "_view_count": null,
            "flex_flow": null,
            "width": null,
            "min_width": null,
            "border": null,
            "align_items": null,
            "bottom": null,
            "_model_module": "@jupyter-widgets/base",
            "top": null,
            "grid_column": null,
            "overflow_y": null,
            "overflow_x": null,
            "grid_auto_flow": null,
            "grid_area": null,
            "grid_template_columns": null,
            "flex": null,
            "_model_name": "LayoutModel",
            "justify_items": null,
            "grid_row": null,
            "max_height": null,
            "align_content": null,
            "visibility": null,
            "align_self": null,
            "height": null,
            "min_height": null,
            "padding": null,
            "grid_auto_rows": null,
            "grid_gap": null,
            "max_width": null,
            "order": null,
            "_view_module_version": "1.2.0",
            "grid_template_areas": null,
            "object_position": null,
            "object_fit": null,
            "grid_auto_columns": null,
            "margin": null,
            "display": null,
            "left": null
          }
        },
        "2af09b08940d46e996215bc70871ba21": {
          "model_module": "@jupyter-widgets/controls",
          "model_name": "DescriptionStyleModel",
          "model_module_version": "1.5.0",
          "state": {
            "_view_name": "StyleView",
            "_model_name": "DescriptionStyleModel",
            "description_width": "",
            "_view_module": "@jupyter-widgets/base",
            "_model_module_version": "1.5.0",
            "_view_count": null,
            "_view_module_version": "1.2.0",
            "_model_module": "@jupyter-widgets/controls"
          }
        },
        "61b9447c1c914b1dbf90ac567a62f355": {
          "model_module": "@jupyter-widgets/base",
          "model_name": "LayoutModel",
          "model_module_version": "1.2.0",
          "state": {
            "_view_name": "LayoutView",
            "grid_template_rows": null,
            "right": null,
            "justify_content": null,
            "_view_module": "@jupyter-widgets/base",
            "overflow": null,
            "_model_module_version": "1.2.0",
            "_view_count": null,
            "flex_flow": null,
            "width": null,
            "min_width": null,
            "border": null,
            "align_items": null,
            "bottom": null,
            "_model_module": "@jupyter-widgets/base",
            "top": null,
            "grid_column": null,
            "overflow_y": null,
            "overflow_x": null,
            "grid_auto_flow": null,
            "grid_area": null,
            "grid_template_columns": null,
            "flex": null,
            "_model_name": "LayoutModel",
            "justify_items": null,
            "grid_row": null,
            "max_height": null,
            "align_content": null,
            "visibility": null,
            "align_self": null,
            "height": null,
            "min_height": null,
            "padding": null,
            "grid_auto_rows": null,
            "grid_gap": null,
            "max_width": null,
            "order": null,
            "_view_module_version": "1.2.0",
            "grid_template_areas": null,
            "object_position": null,
            "object_fit": null,
            "grid_auto_columns": null,
            "margin": null,
            "display": null,
            "left": null
          }
        },
        "113f4af8a8684445b8d18b563b1d78d7": {
          "model_module": "@jupyter-widgets/controls",
          "model_name": "HBoxModel",
          "model_module_version": "1.5.0",
          "state": {
            "_view_name": "HBoxView",
            "_dom_classes": [],
            "_model_name": "HBoxModel",
            "_view_module": "@jupyter-widgets/controls",
            "_model_module_version": "1.5.0",
            "_view_count": null,
            "_view_module_version": "1.5.0",
            "box_style": "",
            "layout": "IPY_MODEL_b8264b41ccdb4841a8ff084babf54768",
            "_model_module": "@jupyter-widgets/controls",
            "children": [
              "IPY_MODEL_dc2ec6d28dbb41d78cb8c7374d69afce",
              "IPY_MODEL_47e9f64022a64285b779ceba84a12335",
              "IPY_MODEL_9b964bbfbe3a4df68e4889a026b00b2d"
            ]
          }
        },
        "b8264b41ccdb4841a8ff084babf54768": {
          "model_module": "@jupyter-widgets/base",
          "model_name": "LayoutModel",
          "model_module_version": "1.2.0",
          "state": {
            "_view_name": "LayoutView",
            "grid_template_rows": null,
            "right": null,
            "justify_content": null,
            "_view_module": "@jupyter-widgets/base",
            "overflow": null,
            "_model_module_version": "1.2.0",
            "_view_count": null,
            "flex_flow": null,
            "width": null,
            "min_width": null,
            "border": null,
            "align_items": null,
            "bottom": null,
            "_model_module": "@jupyter-widgets/base",
            "top": null,
            "grid_column": null,
            "overflow_y": null,
            "overflow_x": null,
            "grid_auto_flow": null,
            "grid_area": null,
            "grid_template_columns": null,
            "flex": null,
            "_model_name": "LayoutModel",
            "justify_items": null,
            "grid_row": null,
            "max_height": null,
            "align_content": null,
            "visibility": null,
            "align_self": null,
            "height": null,
            "min_height": null,
            "padding": null,
            "grid_auto_rows": null,
            "grid_gap": null,
            "max_width": null,
            "order": null,
            "_view_module_version": "1.2.0",
            "grid_template_areas": null,
            "object_position": null,
            "object_fit": null,
            "grid_auto_columns": null,
            "margin": null,
            "display": null,
            "left": null
          }
        },
        "dc2ec6d28dbb41d78cb8c7374d69afce": {
          "model_module": "@jupyter-widgets/controls",
          "model_name": "HTMLModel",
          "model_module_version": "1.5.0",
          "state": {
            "_view_name": "HTMLView",
            "style": "IPY_MODEL_13007266cfe349508bcb39d9d171c10e",
            "_dom_classes": [],
            "description": "",
            "_model_name": "HTMLModel",
            "placeholder": "​",
            "_view_module": "@jupyter-widgets/controls",
            "_model_module_version": "1.5.0",
            "value": "map_3: 100%",
            "_view_count": null,
            "_view_module_version": "1.5.0",
            "description_tooltip": null,
            "_model_module": "@jupyter-widgets/controls",
            "layout": "IPY_MODEL_7a76e699e4d74603a2730844e5a19bab"
          }
        },
        "47e9f64022a64285b779ceba84a12335": {
          "model_module": "@jupyter-widgets/controls",
          "model_name": "FloatProgressModel",
          "model_module_version": "1.5.0",
          "state": {
            "_view_name": "ProgressView",
            "style": "IPY_MODEL_bc6aa18d66ca4e5c9fbb927b2f8b0fb9",
            "_dom_classes": [],
            "description": "",
            "_model_name": "FloatProgressModel",
            "bar_style": "success",
            "max": 150,
            "_view_module": "@jupyter-widgets/controls",
            "_model_module_version": "1.5.0",
            "value": 150,
            "_view_count": null,
            "_view_module_version": "1.5.0",
            "orientation": "horizontal",
            "min": 0,
            "description_tooltip": null,
            "_model_module": "@jupyter-widgets/controls",
            "layout": "IPY_MODEL_b5adb4b95fc54996909ebd5b9d71f967"
          }
        },
        "9b964bbfbe3a4df68e4889a026b00b2d": {
          "model_module": "@jupyter-widgets/controls",
          "model_name": "HTMLModel",
          "model_module_version": "1.5.0",
          "state": {
            "_view_name": "HTMLView",
            "style": "IPY_MODEL_c967dbf675e249f3ae379ea1acc3ccc3",
            "_dom_classes": [],
            "description": "",
            "_model_name": "HTMLModel",
            "placeholder": "​",
            "_view_module": "@jupyter-widgets/controls",
            "_model_module_version": "1.5.0",
            "value": " 150/150 [05:03&lt;00:00,  2.02s/ant]",
            "_view_count": null,
            "_view_module_version": "1.5.0",
            "description_tooltip": null,
            "_model_module": "@jupyter-widgets/controls",
            "layout": "IPY_MODEL_a1d201cefa314209810665e833c95c33"
          }
        },
        "13007266cfe349508bcb39d9d171c10e": {
          "model_module": "@jupyter-widgets/controls",
          "model_name": "DescriptionStyleModel",
          "model_module_version": "1.5.0",
          "state": {
            "_view_name": "StyleView",
            "_model_name": "DescriptionStyleModel",
            "description_width": "",
            "_view_module": "@jupyter-widgets/base",
            "_model_module_version": "1.5.0",
            "_view_count": null,
            "_view_module_version": "1.2.0",
            "_model_module": "@jupyter-widgets/controls"
          }
        },
        "7a76e699e4d74603a2730844e5a19bab": {
          "model_module": "@jupyter-widgets/base",
          "model_name": "LayoutModel",
          "model_module_version": "1.2.0",
          "state": {
            "_view_name": "LayoutView",
            "grid_template_rows": null,
            "right": null,
            "justify_content": null,
            "_view_module": "@jupyter-widgets/base",
            "overflow": null,
            "_model_module_version": "1.2.0",
            "_view_count": null,
            "flex_flow": null,
            "width": null,
            "min_width": null,
            "border": null,
            "align_items": null,
            "bottom": null,
            "_model_module": "@jupyter-widgets/base",
            "top": null,
            "grid_column": null,
            "overflow_y": null,
            "overflow_x": null,
            "grid_auto_flow": null,
            "grid_area": null,
            "grid_template_columns": null,
            "flex": null,
            "_model_name": "LayoutModel",
            "justify_items": null,
            "grid_row": null,
            "max_height": null,
            "align_content": null,
            "visibility": null,
            "align_self": null,
            "height": null,
            "min_height": null,
            "padding": null,
            "grid_auto_rows": null,
            "grid_gap": null,
            "max_width": null,
            "order": null,
            "_view_module_version": "1.2.0",
            "grid_template_areas": null,
            "object_position": null,
            "object_fit": null,
            "grid_auto_columns": null,
            "margin": null,
            "display": null,
            "left": null
          }
        },
        "bc6aa18d66ca4e5c9fbb927b2f8b0fb9": {
          "model_module": "@jupyter-widgets/controls",
          "model_name": "ProgressStyleModel",
          "model_module_version": "1.5.0",
          "state": {
            "_view_name": "StyleView",
            "_model_name": "ProgressStyleModel",
            "description_width": "",
            "_view_module": "@jupyter-widgets/base",
            "_model_module_version": "1.5.0",
            "_view_count": null,
            "_view_module_version": "1.2.0",
            "bar_color": null,
            "_model_module": "@jupyter-widgets/controls"
          }
        },
        "b5adb4b95fc54996909ebd5b9d71f967": {
          "model_module": "@jupyter-widgets/base",
          "model_name": "LayoutModel",
          "model_module_version": "1.2.0",
          "state": {
            "_view_name": "LayoutView",
            "grid_template_rows": null,
            "right": null,
            "justify_content": null,
            "_view_module": "@jupyter-widgets/base",
            "overflow": null,
            "_model_module_version": "1.2.0",
            "_view_count": null,
            "flex_flow": null,
            "width": null,
            "min_width": null,
            "border": null,
            "align_items": null,
            "bottom": null,
            "_model_module": "@jupyter-widgets/base",
            "top": null,
            "grid_column": null,
            "overflow_y": null,
            "overflow_x": null,
            "grid_auto_flow": null,
            "grid_area": null,
            "grid_template_columns": null,
            "flex": null,
            "_model_name": "LayoutModel",
            "justify_items": null,
            "grid_row": null,
            "max_height": null,
            "align_content": null,
            "visibility": null,
            "align_self": null,
            "height": null,
            "min_height": null,
            "padding": null,
            "grid_auto_rows": null,
            "grid_gap": null,
            "max_width": null,
            "order": null,
            "_view_module_version": "1.2.0",
            "grid_template_areas": null,
            "object_position": null,
            "object_fit": null,
            "grid_auto_columns": null,
            "margin": null,
            "display": null,
            "left": null
          }
        },
        "c967dbf675e249f3ae379ea1acc3ccc3": {
          "model_module": "@jupyter-widgets/controls",
          "model_name": "DescriptionStyleModel",
          "model_module_version": "1.5.0",
          "state": {
            "_view_name": "StyleView",
            "_model_name": "DescriptionStyleModel",
            "description_width": "",
            "_view_module": "@jupyter-widgets/base",
            "_model_module_version": "1.5.0",
            "_view_count": null,
            "_view_module_version": "1.2.0",
            "_model_module": "@jupyter-widgets/controls"
          }
        },
        "a1d201cefa314209810665e833c95c33": {
          "model_module": "@jupyter-widgets/base",
          "model_name": "LayoutModel",
          "model_module_version": "1.2.0",
          "state": {
            "_view_name": "LayoutView",
            "grid_template_rows": null,
            "right": null,
            "justify_content": null,
            "_view_module": "@jupyter-widgets/base",
            "overflow": null,
            "_model_module_version": "1.2.0",
            "_view_count": null,
            "flex_flow": null,
            "width": null,
            "min_width": null,
            "border": null,
            "align_items": null,
            "bottom": null,
            "_model_module": "@jupyter-widgets/base",
            "top": null,
            "grid_column": null,
            "overflow_y": null,
            "overflow_x": null,
            "grid_auto_flow": null,
            "grid_area": null,
            "grid_template_columns": null,
            "flex": null,
            "_model_name": "LayoutModel",
            "justify_items": null,
            "grid_row": null,
            "max_height": null,
            "align_content": null,
            "visibility": null,
            "align_self": null,
            "height": null,
            "min_height": null,
            "padding": null,
            "grid_auto_rows": null,
            "grid_gap": null,
            "max_width": null,
            "order": null,
            "_view_module_version": "1.2.0",
            "grid_template_areas": null,
            "object_position": null,
            "object_fit": null,
            "grid_auto_columns": null,
            "margin": null,
            "display": null,
            "left": null
          }
        }
      }
    }
  },
  "cells": [
    {
      "cell_type": "markdown",
      "metadata": {
        "id": "view-in-github",
        "colab_type": "text"
      },
      "source": [
        "<a href=\"https://colab.research.google.com/github/OldGoose/ORA-Project-Santa-2021---The-Merry-Movie-Montage/blob/main/Santa_2021_TSP_ACO_Original.ipynb\" target=\"_parent\"><img src=\"https://colab.research.google.com/assets/colab-badge.svg\" alt=\"Open In Colab\"/></a>"
      ]
    },
    {
      "cell_type": "markdown",
      "source": [
        "# Data (without preprocessing) with ACO"
      ],
      "metadata": {
        "id": "qf1nYGrMaCQR"
      }
    },
    {
      "cell_type": "markdown",
      "source": [
        "In this notebook, we use 4920 which is not mandatory to our initial data. The flowchart as below:\n",
        "![image.png](data:image/png;base64,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)\n",
        "#### REFERENCES\n",
        "https://www.kaggle.com/adrienbouvais/ants-for-santa-an-ant-colony-optimization  <br />\n",
        "https://www.kaggle.com/yosshi999/wildcard-postprocessing-using-dynamic-programming"
      ],
      "metadata": {
        "id": "d7gdZ8-lYg40"
      }
    },
    {
      "cell_type": "markdown",
      "source": [
        "### Import Package"
      ],
      "metadata": {
        "id": "QT_hjPJQeO0i"
      }
    },
    {
      "cell_type": "code",
      "execution_count": 1,
      "metadata": {
        "colab": {
          "base_uri": "https://localhost:8080/"
        },
        "id": "oYwQgLkVBQuJ",
        "outputId": "115bbf10-e95a-4464-aaae-e6e3e2153d4f"
      },
      "outputs": [
        {
          "output_type": "stream",
          "name": "stdout",
          "text": [
            "Mounted at /content/drive\n"
          ]
        }
      ],
      "source": [
        "import itertools\n",
        "import random\n",
        "from random import shuffle\n",
        "import numpy as np\n",
        "import pandas as pd\n",
        "import torch\n",
        "import torch.nn.functional as F\n",
        "import matplotlib.pyplot as plt\n",
        "import datetime\n",
        "from tqdm.notebook import tqdm\n",
        "import os\n",
        "from google.colab import drive\n",
        "drive.mount('/content/drive')\n",
        "os.chdir('/content/drive/My Drive/Santa2021') "
      ]
    },
    {
      "cell_type": "markdown",
      "source": [
        "### 1. Divide into 3 groups\n",
        "From this formula $𝑝_𝑘^𝑛 = \\frac{𝑛!}{(𝑛−𝑘)!}$ we can get the following seven symbols (🎅🤶🦌🧝🎄🎁🎀) with a total of 5040 permutations (ie, a total of 5040 movie)\n",
        "Due to the constrain of the problem, there are a total of 120 movies starting with these 🎅🤶 two symbols, and we have to put them into each group.\n",
        "After deducting those 120 films, we divide the remaining 4920 films into three equal parts."
      ],
      "metadata": {
        "id": "Po5S4k4dfTe6"
      }
    },
    {
      "cell_type": "code",
      "source": [
        "LETTERS = list(map(str,range(1,8)))\n",
        "permutations = [''.join(x) for x in itertools.permutations(LETTERS)]\n",
        "mandatory = [x for x in permutations if x.startswith('12')]\n",
        "non_mandatory = [x for x in permutations if not x.startswith('12')]\n",
        "random.shuffle(non_mandatory)\n",
        "print('There are',len(permutations),'movies')\n",
        "print('In addition',len(mandatory),'which movie starting with 🎅🤶 must appear in each group.')"
      ],
      "metadata": {
        "colab": {
          "base_uri": "https://localhost:8080/"
        },
        "id": "1Bs_LPFgmB1W",
        "outputId": "8af79401-8636-49b8-fb5e-24df1d1f92be"
      },
      "execution_count": 2,
      "outputs": [
        {
          "output_type": "stream",
          "name": "stdout",
          "text": [
            "There are 5040 movies\n",
            "In addition 120 which movie starting with 🎅🤶 must appear in each group.\n"
          ]
        }
      ]
    },
    {
      "cell_type": "code",
      "source": [
        "#find the split point\n",
        "split_id = [len(non_mandatory) // 3, len(non_mandatory)*2//3]\n",
        "t1, t2 = split_id\n",
        "\n",
        "adjust1 = 0\n",
        "adjust2 = 0\n",
        "group1 = non_mandatory[:t1-adjust1] + mandatory\n",
        "group2 = non_mandatory[t1-adjust1:t2+adjust2] + mandatory\n",
        "group3 = non_mandatory[t2+adjust2:] + mandatory\n",
        "\n",
        "len(group1), len(group2), len(group3)"
      ],
      "metadata": {
        "colab": {
          "base_uri": "https://localhost:8080/"
        },
        "id": "Aw_JWQHYpn-U",
        "outputId": "5b8ea8bf-8c3b-4c15-abba-f2f20539ef80"
      },
      "execution_count": 3,
      "outputs": [
        {
          "output_type": "execute_result",
          "data": {
            "text/plain": [
              "(1760, 1760, 1760)"
            ]
          },
          "metadata": {},
          "execution_count": 3
        }
      ]
    },
    {
      "cell_type": "markdown",
      "source": [
        "### 3. Check and add movies with \"🎅🤶\" in all group."
      ],
      "metadata": {
        "id": "EALjv46Lp3IC"
      }
    },
    {
      "cell_type": "code",
      "source": [
        "all_permutations = [''.join(x) for x in itertools.permutations(['1','2','3','4','5','6','7'], 7)]\n",
        "\n",
        "for p in all_permutations:\n",
        "    if p not in group1 and p not in group2 and p not in group3:\n",
        "        print(p)"
      ],
      "metadata": {
        "id": "NXIAD3STqSGc"
      },
      "execution_count": 4,
      "outputs": []
    },
    {
      "cell_type": "markdown",
      "source": [
        "### 4.Execute ACO"
      ],
      "metadata": {
        "id": "t9Fw5hoSo9u-"
      }
    },
    {
      "cell_type": "code",
      "source": [
        "# The ant class\n",
        "class Ant:\n",
        "    def __init__(self, map):\n",
        "        self.map = map\n",
        "        self.visited = np.ones((self.map.nb_city,), dtype = bool)  # Boolean of if the city has been visited\n",
        "        self.position_id = self.map.city.index(random.choice(self.map.city))  # Id of current position\n",
        "        self.visited[self.position_id] = 0\n",
        "        self.dist_trav = 7  # Distance traveled\n",
        "        self.path = self.map.city[self.position_id] # What we are looking for\n",
        "        self.path_id = [0] * self.map.nb_city # History of the path for pheromones\n",
        "        self.path_id[0] = self.position_id\n",
        "        self.path_act_id = 1\n",
        "\n",
        "    def update(self):\n",
        "        dis, phero = self.map.dist_mat[self.position_id, :], self.map.pheros[self.position_id, :]\n",
        "        dis[dis < 0] = self.map.inf_dist\n",
        "\n",
        "        weight = (self.visited * phero) / ((dis * 2) ** self.map.coef_dist_puiss)\n",
        "\n",
        "        next_city_id = random.choices(range(self.map.nb_city), weights=weight, k=1)[0]\n",
        "\n",
        "        self.path += self.map.city[next_city_id][(7-int(dis[next_city_id])):]\n",
        "        self.path_id[self.path_act_id] = next_city_id\n",
        "        self.path_act_id += 1\n",
        "\n",
        "        self.dist_trav += self.map.dist_mat[self.position_id, next_city_id]\n",
        "        self.position_id = next_city_id\n",
        "        self.visited[self.position_id] = 0\n",
        "\n",
        "    def find_path(self):\n",
        "        for i in range(self.map.nb_city-1):\n",
        "            self.update()\n",
        "\n",
        "    def update_pheros(self):\n",
        "        x = 100\n",
        "        coef = -50\n",
        "        for i in range(x):\n",
        "            if self.dist_trav <= (self.map.dist_min + self.map.dist_delta * (i / x)):\n",
        "                coef += 1\n",
        "        for i in range(len(self.path_id)-1):\n",
        "            self.map.pheros[self.path_id[i], self.path_id[i+1]] += coef\n",
        "\n",
        "# The map class\n",
        "class Map:\n",
        "    # Settings\n",
        "    phero_start_fact = 1000\n",
        "    inf_dist = 9999\n",
        "\n",
        "    def __init__(self, city, dist_mat, name, coef_dist_puiss=20,\n",
        "                 nb_ant=20, nb_turn=100, do_print=True):\n",
        "        self.city = city # List of city to travel\n",
        "        self.name = name # Name of the map\n",
        "        self.nb_ant = nb_ant # Number of ants\n",
        "        self.nb_turn = nb_turn # Number of turn to do\n",
        "        self.dist_mat = dist_mat # Distance matrix\n",
        "        \n",
        "        #建立一個Array矩陣，每個欄位並乘以費洛蒙初始值 1000\n",
        "        self.pheros = np.ones(self.dist_mat.shape) * self.phero_start_fact # Pheromones matrix (信息素矩陣)\n",
        "        \n",
        "        self.shortest_path = \"\" #設定初始最短路徑為空值\n",
        "        self.shortest_dist = 9999999999999  #設定初始最短距離為極大值\n",
        "        self.dist_min = 0\n",
        "        self.dist_max = 0\n",
        "        self.dist_delta = 0 #設定距離delta為0\n",
        "        self.nb_city = len(city) #定義一個程式數目的變數\n",
        "\n",
        "        self.coef_dist_puiss = coef_dist_puiss # Coef to use in ant.update, 5-10 is good\n",
        "        self.ants = [] # List of ant\n",
        "        for i in range(self.nb_ant):\n",
        "            self.ants.append(Ant(self))\n",
        "\n",
        "        self.pbar = None # The progress bar\n",
        "\n",
        "    def update(self):\n",
        "        ants_dist = [0] * len(self.ants)\n",
        "        i = 0\n",
        "        \n",
        "        for ant in self.ants:\n",
        "            ant.find_path()\n",
        "            dis = ant.dist_trav\n",
        "            ants_dist[i] = dis\n",
        "            if dis < self.shortest_dist:\n",
        "                self.shortest_dist = dis\n",
        "                self.shortest_path = ant.path\n",
        "            i+=1\n",
        "            self.pbar.update(1)\n",
        "        self.dist_min = min(ants_dist)\n",
        "        self.dist_max = max(ants_dist)\n",
        "        self.dist_delta = self.dist_max - self.dist_min\n",
        "        for ant in self.ants:\n",
        "            ant.update_pheros()\n",
        "            ant.__init__(self)\n",
        "\n",
        "    def start(self):\n",
        "        # Start the simulation\n",
        "        with tqdm(total=self.nb_turn*self.nb_ant, desc=self.name,unit=\"ant\") as pbar:\n",
        "            self.pbar = pbar\n",
        "            for i in range(self.nb_turn):\n",
        "                self.update()"
      ],
      "metadata": {
        "id": "NLg3y5IFpHH0"
      },
      "execution_count": 5,
      "outputs": []
    },
    {
      "cell_type": "code",
      "source": [
        "dist_mat = pd.read_csv(\"distance_matrix.csv\")\n",
        "dist_mat.set_index('Permutation', inplace=True)\n",
        "\n",
        "# 將圖案轉換為數字符號\n",
        "def change(a):\n",
        "    a = a.replace(\"🎅\", \"1\")\n",
        "    a = a.replace('🤶', \"2\")\n",
        "    a = a.replace('🦌', \"3\")\n",
        "    a = a.replace('🧝', \"4\")\n",
        "    a = a.replace('🎄', \"5\")\n",
        "    a = a.replace('🎁', \"6\")\n",
        "    a = a.replace('🎀', \"7\")\n",
        "    return a\n",
        "\n",
        "def rechange(a):\n",
        "    a = a.replace(\"1\", \"🎅\")\n",
        "    a = a.replace(\"2\", '🤶')\n",
        "    a = a.replace(\"3\", '🦌')\n",
        "    a = a.replace(\"4\", '🧝')\n",
        "    a = a.replace(\"5\", '🎄')\n",
        "    a = a.replace(\"6\", '🎁')\n",
        "    a = a.replace(\"7\", '🎀')\n",
        "    return a\n",
        "\n",
        "def get_dist_mat(dist_mat, city):\n",
        "    to_export = pd.DataFrame(columns=city, index=city) #生成一個n x n的dataframe矩陣\n",
        "  \n",
        "    for c in city:\n",
        "        to_export.loc[c] = dist_mat.loc[c] #找出dist_mat之中，相同的city對應的欄位值，將距離填入to_export對應的欄位中(https://codertw.com/%E7%A8%8B%E5%BC%8F%E8%AA%9E%E8%A8%80/462517/)\n",
        "\n",
        "    to_export = to_export.to_numpy() #將to_export型態由dataframe轉為array型態\n",
        "    to_export[to_export==0] = 99999 #將to_export裡面為0的值改為99999\n",
        "\n",
        "    return to_export\n",
        "\n",
        "# 建立字典，將dist_mat裡面的欄跟列的名稱改換為數字字符\n",
        "dic = {}\n",
        "for c in dist_mat.columns:\n",
        "    dic[c] = change(c)\n",
        "dist_mat.rename(dic, axis=1, inplace=True)\n",
        "dist_mat.rename(dic, axis=0, inplace=True)"
      ],
      "metadata": {
        "id": "ur__QAmnqePu"
      },
      "execution_count": 6,
      "outputs": []
    },
    {
      "cell_type": "markdown",
      "source": [
        "#### Set papameter"
      ],
      "metadata": {
        "id": "eEzNhMNkrcYf"
      }
    },
    {
      "cell_type": "code",
      "source": [
        "starttime = datetime.datetime.now()\n",
        "\n",
        "nb_ant = 5 #number of ants\n",
        "nb_turn = 30 # Number of turn to do\n",
        "coef_dist_puiss = 50\n",
        "\n",
        "print(\"The calculation will take approximately \" + str(datetime.timedelta(seconds=(1.2 * 3 * nb_ant * nb_turn))))\n",
        "print('Start for nb_ant:', nb_ant, ', nb_turn', nb_turn, )\n",
        "\n",
        "dist_mat_map_1 = get_dist_mat(dist_mat, group1)\n",
        "map_1 = Map(group1, dist_mat_map_1, \"map_1\", nb_ant=nb_ant, nb_turn=nb_turn,\n",
        "            coef_dist_puiss=coef_dist_puiss, do_print=False)\n",
        "\n",
        "map_1.start()\n",
        "print(\"map_1 Done, score:\", map_1.shortest_dist, 'Nb_city:', len(group1))\n",
        "\n",
        "dist_mat_map_2 = get_dist_mat(dist_mat, group2)\n",
        "map_2 = Map(group2, dist_mat_map_2, \"map_2\", nb_ant=nb_ant, nb_turn=nb_turn,\n",
        "            coef_dist_puiss=coef_dist_puiss, do_print=False)\n",
        "map_2.start()\n",
        "print(\"map_2 Done, score:\", map_2.shortest_dist, 'Nb_city:', len(group2))\n",
        "\n",
        "dist_mat_map_3 = get_dist_mat(dist_mat, group3)\n",
        "map_3 = Map(group3, dist_mat_map_3, \"map_3\", nb_ant=nb_ant, nb_turn=nb_turn,\n",
        "            coef_dist_puiss=coef_dist_puiss, do_print=False)\n",
        "map_3.start()\n",
        "print(\"map_3 Done, score:\", map_3.shortest_dist, 'Nb_city:', len(group3))\n"
      ],
      "metadata": {
        "colab": {
          "base_uri": "https://localhost:8080/",
          "height": 200,
          "referenced_widgets": [
            "58c2a8cba02c41368345b21db8516c1b",
            "8bf51e316f8746efa5a364cffdfd3a62",
            "c038487a302543af802699a78b6f3d9b",
            "5c252e27223140648aa4d21ec772759c",
            "03b3659dc4ef4a138e0d96a480a8ed59",
            "df00dec1ba7e4913a6fa02627491362d",
            "7d63e5edce3f4212859c631a4d0e2e9b",
            "c6640b87aac14545a4dfe13d9d2e8fbd",
            "23312dbfedbf4a0183fbd0f2d7661d40",
            "feeeb4bcf18c4d08804070c6551744ee",
            "a75208ef74f14a0b9edfd218ef533d3f",
            "0c1708ce1d3b4faa82d68d9e6a691a94",
            "1476c0b283fb4e34826c2bd6b9111236",
            "2e64548386774ee48073985ffd5ede1c",
            "912b8386676749068c4813ca3e6c5052",
            "421712b24318428b91078c8551e186d3",
            "46b30e36b24b4100a309fbcc61f98851",
            "423fcae89d484a99b57d72ed39423aad",
            "6ec0ae78bac64de29f1ca25c2ae1aa31",
            "c85186091a864e968aac5b94ebf17aa5",
            "2af09b08940d46e996215bc70871ba21",
            "61b9447c1c914b1dbf90ac567a62f355",
            "113f4af8a8684445b8d18b563b1d78d7",
            "b8264b41ccdb4841a8ff084babf54768",
            "dc2ec6d28dbb41d78cb8c7374d69afce",
            "47e9f64022a64285b779ceba84a12335",
            "9b964bbfbe3a4df68e4889a026b00b2d",
            "13007266cfe349508bcb39d9d171c10e",
            "7a76e699e4d74603a2730844e5a19bab",
            "bc6aa18d66ca4e5c9fbb927b2f8b0fb9",
            "b5adb4b95fc54996909ebd5b9d71f967",
            "c967dbf675e249f3ae379ea1acc3ccc3",
            "a1d201cefa314209810665e833c95c33"
          ]
        },
        "id": "bz1-0XU6qhUL",
        "outputId": "fd36d114-1e8a-4bb4-db6c-4f6f7079474e"
      },
      "execution_count": 7,
      "outputs": [
        {
          "output_type": "stream",
          "name": "stdout",
          "text": [
            "The calculation will take approximately 0:09:00\n",
            "Start for nb_ant: 5 , nb_turn 30\n"
          ]
        },
        {
          "output_type": "display_data",
          "data": {
            "application/vnd.jupyter.widget-view+json": {
              "model_id": "58c2a8cba02c41368345b21db8516c1b",
              "version_minor": 0,
              "version_major": 2
            },
            "text/plain": [
              "map_1:   0%|          | 0/150 [00:00<?, ?ant/s]"
            ]
          },
          "metadata": {}
        },
        {
          "output_type": "stream",
          "name": "stdout",
          "text": [
            "map_1 Done, score: 4641 Nb_city: 1760\n"
          ]
        },
        {
          "output_type": "display_data",
          "data": {
            "application/vnd.jupyter.widget-view+json": {
              "model_id": "0c1708ce1d3b4faa82d68d9e6a691a94",
              "version_minor": 0,
              "version_major": 2
            },
            "text/plain": [
              "map_2:   0%|          | 0/150 [00:00<?, ?ant/s]"
            ]
          },
          "metadata": {}
        },
        {
          "output_type": "stream",
          "name": "stdout",
          "text": [
            "map_2 Done, score: 4761 Nb_city: 1760\n"
          ]
        },
        {
          "output_type": "display_data",
          "data": {
            "application/vnd.jupyter.widget-view+json": {
              "model_id": "113f4af8a8684445b8d18b563b1d78d7",
              "version_minor": 0,
              "version_major": 2
            },
            "text/plain": [
              "map_3:   0%|          | 0/150 [00:00<?, ?ant/s]"
            ]
          },
          "metadata": {}
        },
        {
          "output_type": "stream",
          "name": "stdout",
          "text": [
            "map_3 Done, score: 4714 Nb_city: 1760\n"
          ]
        }
      ]
    },
    {
      "cell_type": "markdown",
      "source": [
        "### 5. Check solution is feasible"
      ],
      "metadata": {
        "id": "7YCr8im3sdaO"
      }
    },
    {
      "cell_type": "code",
      "source": [
        "string1 = (map_1.shortest_path)\n",
        "string2 = (map_2.shortest_path)\n",
        "string3 = (map_3.shortest_path)"
      ],
      "metadata": {
        "id": "uUd0H1m3so-K"
      },
      "execution_count": 8,
      "outputs": []
    },
    {
      "cell_type": "code",
      "source": [
        "all_permutations = [''.join(x) for x in itertools.permutations(['1','2','3','4','5','6','7'], 7)]\n",
        "\n",
        "for p in all_permutations:\n",
        "    if p not in string1 and p not in string2 and p not in string3:\n",
        "        print(p)\n",
        "              \n",
        "for p in mandatory:\n",
        "    if p not in string1 and p not in string2 and p not in string3:\n",
        "        print(p)\n",
        "#No News is good news."
      ],
      "metadata": {
        "id": "tPvN42n2s0TN"
      },
      "execution_count": 9,
      "outputs": []
    },
    {
      "cell_type": "code",
      "source": [
        "result_list = [string1, string2, string3]\n",
        "for i in range(3):\n",
        "  print('The length for group' + str(i+1) + ' without wildcards ' +  str(len(result_list[i])))"
      ],
      "metadata": {
        "colab": {
          "base_uri": "https://localhost:8080/"
        },
        "id": "3KiYBXpHs1xY",
        "outputId": "64bd7910-1f55-4db2-8c02-4f80ebef5fba"
      },
      "execution_count": 10,
      "outputs": [
        {
          "output_type": "stream",
          "name": "stdout",
          "text": [
            "The length for group1 without wildcards 4641\n",
            "The length for group2 without wildcards 4761\n",
            "The length for group3 without wildcards 4714\n"
          ]
        }
      ]
    },
    {
      "cell_type": "code",
      "source": [
        "sub = pd.DataFrame()\n",
        "sub['schedule'] = [string1, string2, string3]\n",
        "schedule = sub.schedule.tolist()"
      ],
      "metadata": {
        "id": "xhpG--lutNtG"
      },
      "execution_count": 11,
      "outputs": []
    },
    {
      "cell_type": "markdown",
      "source": [
        "### 6. Using Dynamic Programming to filling the 🌟"
      ],
      "metadata": {
        "id": "dM0OI3C0tQUE"
      }
    },
    {
      "cell_type": "markdown",
      "source": [
        "#### Create Cost martix"
      ],
      "metadata": {
        "id": "FrN6RED5ttBx"
      }
    },
    {
      "cell_type": "code",
      "source": [
        "perms = list(map(lambda p: \"\".join(p), itertools.permutations(\"1234567\")))\n",
        "perm2id = {p: i for i, p in enumerate(perms)}\n",
        "\n",
        "perms_arr = np.array([list(map(int, p)) for p in perms])\n",
        "perms_arr.shape\n",
        "\n",
        "perms_onehot = np.eye(7)[perms_arr-1, :].transpose(0, 2, 1)\n",
        "assert np.allclose(perms_onehot[:,0,:].astype(np.int64), (perms_arr == 1).astype(np.int64))\n",
        "\n",
        "must_match_left2right = np.array([-1, -1, -1, -1, -1, -1, -1, 7, 6, 5, 4, 3, 2, 1, 0])\n",
        "must_match_right2left = np.array([0, 1, 2, 3, 4, 5, 6, 7, -1, -1, -1, -1, -1, -1, -1])\n",
        "cost_ifmatch = np.array([7, 6, 5, 4, 3, 2, 1, 0, 1, 2, 3, 4, 5, 6, 7])\n",
        "\n",
        "M = F.conv2d(\n",
        "    F.pad(torch.Tensor(perms_onehot[:, None, :, :]), (7, 7)),\n",
        "    torch.Tensor(perms_onehot[:, None, :, :]),\n",
        "    padding=\"valid\"\n",
        ").squeeze().numpy()\n",
        "\n",
        "must_match_left2right = np.array([-1, -1, -1, -1, -1, -1, -1, 7, 6, 5, 4, 3, 2, 1, 0])\n",
        "must_match_left2right_wild = np.array([-1, -1, -1, -1, -1, -1, -1, 6, 5, 4, 3, 2, 1, 0, 0])\n",
        "\n",
        "cost_ifmatch = np.array([7, 6, 5, 4, 3, 2, 1, 0, 1, 2, 3, 4, 5, 6, 7])\n",
        "\n",
        "costMat = np.where(M == must_match_left2right, cost_ifmatch, np.inf).min(axis=-1).astype(np.int8)\n",
        "costMatWild = np.minimum(costMat, np.where(M == must_match_left2right_wild, cost_ifmatch, np.inf).min(axis=-1)).astype(np.int8)"
      ],
      "metadata": {
        "id": "yzPK0LgXtguk"
      },
      "execution_count": 12,
      "outputs": []
    },
    {
      "cell_type": "markdown",
      "source": [
        "#### String decomposition"
      ],
      "metadata": {
        "id": "cwfj4mxHtyT7"
      }
    },
    {
      "cell_type": "code",
      "source": [
        "perms = [''.join(x) for x in itertools.permutations(['1','2','3','4','5','6','7'], 7)]\n",
        "\n",
        "def find_strings_perms(strings, verbose=False):\n",
        "    global perms\n",
        "    found_perms = []\n",
        "    for s in strings:\n",
        "        found_perms.append([])\n",
        "        for i in range(len(s)-6):\n",
        "            p = s[i:i+7]\n",
        "            if p in perms:\n",
        "                found_perms[-1].append(p)\n",
        "    if verbose:\n",
        "        lens = [len(_) for _ in  found_perms]\n",
        "        print(f'There are {lens} permutations in strings, {sum(lens)} in total.')\n",
        "        lens = [len(set(_)) for _ in  found_perms]\n",
        "        print(f'There are {lens} unique permutations in strings, {sum(lens)} in total.')\n",
        "    return found_perms\n",
        "\n",
        "def rebalance_perms(strings_perms, verbose=False):\n",
        "    # convert to dicts for fast lookup and to keep permutations order\n",
        "    strings_perms = [dict.fromkeys(_) for _ in strings_perms] \n",
        "    for p in strings_perms[0].copy():  # iterate over the copy to allow modification during iteration\n",
        "        if p[:2] != \"12\" and (p in strings_perms[1] or p in strings_perms[2]):\n",
        "            strings_perms[0].pop(p)\n",
        "    for p in strings_perms[1].copy():\n",
        "        if p[:2] != \"12\" and p in strings_perms[2]:\n",
        "            strings_perms[1].pop(p)\n",
        "    if verbose:\n",
        "        lens = [len(_) for _ in  strings_perms]\n",
        "        print(f'There are {lens} permutations left in strings after rebalancing, {sum(lens)} in total.')\n",
        "    return [list(_) for _ in strings_perms] "
      ],
      "metadata": {
        "id": "V5y4X783txv5"
      },
      "execution_count": 13,
      "outputs": []
    },
    {
      "cell_type": "code",
      "source": [
        "found_perms = find_strings_perms(schedule, verbose=True)\n",
        "balanced_perms = rebalance_perms(found_perms, verbose=True)"
      ],
      "metadata": {
        "colab": {
          "base_uri": "https://localhost:8080/"
        },
        "id": "8eaiyjqbt4pu",
        "outputId": "63a29e49-444e-4337-93ca-83686cb6bbbd"
      },
      "execution_count": 14,
      "outputs": [
        {
          "output_type": "stream",
          "name": "stdout",
          "text": [
            "There are [2545, 2615, 2624] permutations in strings, 7784 in total.\n",
            "There are [2491, 2560, 2553] unique permutations in strings, 7604 in total.\n",
            "There are [1052, 1675, 2553] permutations left in strings after rebalancing, 5280 in total.\n"
          ]
        }
      ]
    },
    {
      "cell_type": "markdown",
      "source": [
        "#### Run"
      ],
      "metadata": {
        "id": "xSf159JOt9MX"
      }
    },
    {
      "cell_type": "code",
      "source": [
        "nodes_list = []\n",
        "table_list = []\n",
        "for i in range(3):\n",
        "    word = balanced_perms[i]\n",
        "    nodes = [perm2id[p] for p in balanced_perms[i]]\n",
        "\n",
        "    table = np.zeros((len(nodes), 10), np.int64)\n",
        "    table[0, :] = 7\n",
        "    for i in range(1, len(nodes)):\n",
        "        e = costMat[nodes[i-1], nodes[i]]\n",
        "        ew = costMatWild[nodes[i-1], nodes[i]]\n",
        "        table[i,0] = table[i-1,0] + e\n",
        "        table[i,1] = min(table[i-1,1] + e, table[i-1,0] + ew)\n",
        "        table[i,2] = min(table[i-1,2], table[i-1,1]) + e # TODO: better transition\n",
        "        table[i,3] = min(table[i-1,3], table[i-1,2]) + e\n",
        "        table[i,4] = min(table[i-1,4], table[i-1,3]) + e\n",
        "        table[i,5] = min(table[i-1,5], table[i-1,4]) + e\n",
        "        table[i,6] = min(table[i-1,6], table[i-1,5]) + e\n",
        "        table[i,7] = min(table[i-1,7], table[i-1,6]) + e\n",
        "        table[i,8] = min(table[i-1,8], table[i-1,7]) + e\n",
        "        table[i,9] = min(table[i-1,9] + e, table[i-1,8] + ew)\n",
        "    print(table[-1].min(), table[-1])\n",
        "    nodes_list.append(nodes)\n",
        "    table_list.append(table)\n",
        "    \n",
        "# backtrack\n",
        "new_words = []\n",
        "wilds = []\n",
        "for nodes, table in zip(nodes_list, table_list):\n",
        "    ns = [perms[nodes[-1]]]\n",
        "    track = np.argmin(table[-1])\n",
        "    wild = []\n",
        "    for i in range(len(nodes)-2, -1, -1):\n",
        "        e = costMat[nodes[i], nodes[i+1]]\n",
        "        ew = costMatWild[nodes[i], nodes[i+1]]\n",
        "        if track == 0:\n",
        "            ns.append(perms[nodes[i]][:e])\n",
        "        elif track == 1:\n",
        "            if table[i, 1] + e < table[i, 0] + ew:\n",
        "                ns.append(perms[nodes[i]][:e])\n",
        "            else:\n",
        "                left = np.array(list(map(int, perms[nodes[i]][ew:])))\n",
        "                right = np.array(list(map(int, perms[nodes[i+1]][:-ew])))\n",
        "                mis = np.where(left != right)[0][0]\n",
        "                wild.append(table[i, track-1]-7+ew+mis)\n",
        "                ns.append(perms[nodes[i]][:ew])\n",
        "                track = track - 1\n",
        "        elif 2 <= track <= 8:\n",
        "            if table[i, track] >= table[i, track-1]:\n",
        "                track = track - 1\n",
        "            ns.append(perms[nodes[i]][:e])\n",
        "        elif track == 9:\n",
        "            if table[i, 9] + e < table[i, 8] + ew:\n",
        "                ns.append(perms[nodes[i]][:e])\n",
        "            else:\n",
        "                ns.append(perms[nodes[i]][:ew])\n",
        "                left = np.array(list(map(int, perms[nodes[i]][ew:])))\n",
        "                right = np.array(list(map(int, perms[nodes[i+1]][:-ew])))\n",
        "                mis = np.where(left != right)[0][0]\n",
        "                wild.append(table[i, track-1]-7+ew+mis)\n",
        "                track = track - 1\n",
        "        else:\n",
        "            assert False\n",
        "    assert track == 0\n",
        "    wilds.append(wild)\n",
        "    nsw = list(\"\".join(ns[::-1]))\n",
        "    for w in wild:\n",
        "        nsw[w] = \"*\"\n",
        "    new_words.append(\"\".join(nsw))"
      ],
      "metadata": {
        "colab": {
          "base_uri": "https://localhost:8080/"
        },
        "id": "eiV24ymJt7Ru",
        "outputId": "f1a2d26b-cbda-4944-d94f-7fff4b598183"
      },
      "execution_count": 15,
      "outputs": [
        {
          "output_type": "stream",
          "name": "stdout",
          "text": [
            "3814 [3825 3819 3819 3819 3819 3819 3819 3819 3819 3814]\n",
            "4427 [4439 4433 4433 4433 4433 4433 4433 4433 4433 4427]\n",
            "4709 [4714 4710 4710 4710 4710 4710 4710 4710 4710 4709]\n"
          ]
        }
      ]
    },
    {
      "cell_type": "code",
      "source": [
        "endtime = datetime.datetime.now()\n",
        "print(\"score: \", max(map(len, schedule)), \"->\", max(map(len, new_words)))\n",
        "print(\"execution time : \", endtime - starttime)"
      ],
      "metadata": {
        "colab": {
          "base_uri": "https://localhost:8080/"
        },
        "id": "g068ZNRxuAdS",
        "outputId": "35c601ea-f9f6-4b47-9954-b84d3ad0e919"
      },
      "execution_count": 16,
      "outputs": [
        {
          "output_type": "stream",
          "name": "stdout",
          "text": [
            "score:  4761 -> 4709\n",
            "execution time :  0:15:22.160682\n"
          ]
        }
      ]
    },
    {
      "cell_type": "markdown",
      "source": [
        "### 7. Submission"
      ],
      "metadata": {
        "id": "Qeh1CTQmuCLc"
      }
    },
    {
      "cell_type": "code",
      "source": [
        "symbols = \"🎅🤶🦌🧝🎄🎁🎀🌟\"\n",
        "submission = pd.Series([a.translate(str.maketrans(\"1234567*\", symbols)) for a in new_words], name='schedule')\n",
        "submission.to_csv('submission.csv', index=False)"
      ],
      "metadata": {
        "id": "pLjWvinluBiD"
      },
      "execution_count": 17,
      "outputs": []
    }
  ]
}
