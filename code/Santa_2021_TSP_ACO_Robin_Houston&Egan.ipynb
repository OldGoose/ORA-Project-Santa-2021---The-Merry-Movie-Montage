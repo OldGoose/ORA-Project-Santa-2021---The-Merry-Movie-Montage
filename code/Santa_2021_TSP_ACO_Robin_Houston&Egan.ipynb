{
  "nbformat": 4,
  "nbformat_minor": 0,
  "metadata": {
    "colab": {
      "name": "Santa 2021_TSP_ACO_Robin Houston&Egan.ipynb",
      "provenance": [],
      "authorship_tag": "ABX9TyPLTdt5Vt7e26Xh7e5i7pB8",
      "include_colab_link": true
    },
    "kernelspec": {
      "name": "python3",
      "display_name": "Python 3"
    },
    "language_info": {
      "name": "python"
    },
    "widgets": {
      "application/vnd.jupyter.widget-state+json": {
        "fd06cecca7b742eab0ae400e1d54ee66": {
          "model_module": "@jupyter-widgets/controls",
          "model_name": "HBoxModel",
          "model_module_version": "1.5.0",
          "state": {
            "_view_name": "HBoxView",
            "_dom_classes": [],
            "_model_name": "HBoxModel",
            "_view_module": "@jupyter-widgets/controls",
            "_model_module_version": "1.5.0",
            "_view_count": null,
            "_view_module_version": "1.5.0",
            "box_style": "",
            "layout": "IPY_MODEL_e63dc296c2944a13bdfed6542e6f39d6",
            "_model_module": "@jupyter-widgets/controls",
            "children": [
              "IPY_MODEL_9f949e44328c48ce8104851df19dea74",
              "IPY_MODEL_3dee2497413c4d3c9acb88718ef735bd",
              "IPY_MODEL_ea0fdee692d942ca868f6a745fd3fa30"
            ]
          }
        },
        "e63dc296c2944a13bdfed6542e6f39d6": {
          "model_module": "@jupyter-widgets/base",
          "model_name": "LayoutModel",
          "model_module_version": "1.2.0",
          "state": {
            "_view_name": "LayoutView",
            "grid_template_rows": null,
            "right": null,
            "justify_content": null,
            "_view_module": "@jupyter-widgets/base",
            "overflow": null,
            "_model_module_version": "1.2.0",
            "_view_count": null,
            "flex_flow": null,
            "width": null,
            "min_width": null,
            "border": null,
            "align_items": null,
            "bottom": null,
            "_model_module": "@jupyter-widgets/base",
            "top": null,
            "grid_column": null,
            "overflow_y": null,
            "overflow_x": null,
            "grid_auto_flow": null,
            "grid_area": null,
            "grid_template_columns": null,
            "flex": null,
            "_model_name": "LayoutModel",
            "justify_items": null,
            "grid_row": null,
            "max_height": null,
            "align_content": null,
            "visibility": null,
            "align_self": null,
            "height": null,
            "min_height": null,
            "padding": null,
            "grid_auto_rows": null,
            "grid_gap": null,
            "max_width": null,
            "order": null,
            "_view_module_version": "1.2.0",
            "grid_template_areas": null,
            "object_position": null,
            "object_fit": null,
            "grid_auto_columns": null,
            "margin": null,
            "display": null,
            "left": null
          }
        },
        "9f949e44328c48ce8104851df19dea74": {
          "model_module": "@jupyter-widgets/controls",
          "model_name": "HTMLModel",
          "model_module_version": "1.5.0",
          "state": {
            "_view_name": "HTMLView",
            "style": "IPY_MODEL_0a4b9eb897834884966d75f1a2b2ca44",
            "_dom_classes": [],
            "description": "",
            "_model_name": "HTMLModel",
            "placeholder": "​",
            "_view_module": "@jupyter-widgets/controls",
            "_model_module_version": "1.5.0",
            "value": "map_1: 100%",
            "_view_count": null,
            "_view_module_version": "1.5.0",
            "description_tooltip": null,
            "_model_module": "@jupyter-widgets/controls",
            "layout": "IPY_MODEL_c2a8075401df451ca54a9219aa8cd30c"
          }
        },
        "3dee2497413c4d3c9acb88718ef735bd": {
          "model_module": "@jupyter-widgets/controls",
          "model_name": "FloatProgressModel",
          "model_module_version": "1.5.0",
          "state": {
            "_view_name": "ProgressView",
            "style": "IPY_MODEL_e2b5709785ea453f9a3014c37141589c",
            "_dom_classes": [],
            "description": "",
            "_model_name": "FloatProgressModel",
            "bar_style": "success",
            "max": 150,
            "_view_module": "@jupyter-widgets/controls",
            "_model_module_version": "1.5.0",
            "value": 150,
            "_view_count": null,
            "_view_module_version": "1.5.0",
            "orientation": "horizontal",
            "min": 0,
            "description_tooltip": null,
            "_model_module": "@jupyter-widgets/controls",
            "layout": "IPY_MODEL_77ecb5efd6c84da5bf811b4215e88ff5"
          }
        },
        "ea0fdee692d942ca868f6a745fd3fa30": {
          "model_module": "@jupyter-widgets/controls",
          "model_name": "HTMLModel",
          "model_module_version": "1.5.0",
          "state": {
            "_view_name": "HTMLView",
            "style": "IPY_MODEL_cf8c5e2f9be04ddf86e571dd206c6f19",
            "_dom_classes": [],
            "description": "",
            "_model_name": "HTMLModel",
            "placeholder": "​",
            "_view_module": "@jupyter-widgets/controls",
            "_model_module_version": "1.5.0",
            "value": " 150/150 [04:50&lt;00:00,  1.93s/ant]",
            "_view_count": null,
            "_view_module_version": "1.5.0",
            "description_tooltip": null,
            "_model_module": "@jupyter-widgets/controls",
            "layout": "IPY_MODEL_756ca010676e48cb8b022ab0b9c9f658"
          }
        },
        "0a4b9eb897834884966d75f1a2b2ca44": {
          "model_module": "@jupyter-widgets/controls",
          "model_name": "DescriptionStyleModel",
          "model_module_version": "1.5.0",
          "state": {
            "_view_name": "StyleView",
            "_model_name": "DescriptionStyleModel",
            "description_width": "",
            "_view_module": "@jupyter-widgets/base",
            "_model_module_version": "1.5.0",
            "_view_count": null,
            "_view_module_version": "1.2.0",
            "_model_module": "@jupyter-widgets/controls"
          }
        },
        "c2a8075401df451ca54a9219aa8cd30c": {
          "model_module": "@jupyter-widgets/base",
          "model_name": "LayoutModel",
          "model_module_version": "1.2.0",
          "state": {
            "_view_name": "LayoutView",
            "grid_template_rows": null,
            "right": null,
            "justify_content": null,
            "_view_module": "@jupyter-widgets/base",
            "overflow": null,
            "_model_module_version": "1.2.0",
            "_view_count": null,
            "flex_flow": null,
            "width": null,
            "min_width": null,
            "border": null,
            "align_items": null,
            "bottom": null,
            "_model_module": "@jupyter-widgets/base",
            "top": null,
            "grid_column": null,
            "overflow_y": null,
            "overflow_x": null,
            "grid_auto_flow": null,
            "grid_area": null,
            "grid_template_columns": null,
            "flex": null,
            "_model_name": "LayoutModel",
            "justify_items": null,
            "grid_row": null,
            "max_height": null,
            "align_content": null,
            "visibility": null,
            "align_self": null,
            "height": null,
            "min_height": null,
            "padding": null,
            "grid_auto_rows": null,
            "grid_gap": null,
            "max_width": null,
            "order": null,
            "_view_module_version": "1.2.0",
            "grid_template_areas": null,
            "object_position": null,
            "object_fit": null,
            "grid_auto_columns": null,
            "margin": null,
            "display": null,
            "left": null
          }
        },
        "e2b5709785ea453f9a3014c37141589c": {
          "model_module": "@jupyter-widgets/controls",
          "model_name": "ProgressStyleModel",
          "model_module_version": "1.5.0",
          "state": {
            "_view_name": "StyleView",
            "_model_name": "ProgressStyleModel",
            "description_width": "",
            "_view_module": "@jupyter-widgets/base",
            "_model_module_version": "1.5.0",
            "_view_count": null,
            "_view_module_version": "1.2.0",
            "bar_color": null,
            "_model_module": "@jupyter-widgets/controls"
          }
        },
        "77ecb5efd6c84da5bf811b4215e88ff5": {
          "model_module": "@jupyter-widgets/base",
          "model_name": "LayoutModel",
          "model_module_version": "1.2.0",
          "state": {
            "_view_name": "LayoutView",
            "grid_template_rows": null,
            "right": null,
            "justify_content": null,
            "_view_module": "@jupyter-widgets/base",
            "overflow": null,
            "_model_module_version": "1.2.0",
            "_view_count": null,
            "flex_flow": null,
            "width": null,
            "min_width": null,
            "border": null,
            "align_items": null,
            "bottom": null,
            "_model_module": "@jupyter-widgets/base",
            "top": null,
            "grid_column": null,
            "overflow_y": null,
            "overflow_x": null,
            "grid_auto_flow": null,
            "grid_area": null,
            "grid_template_columns": null,
            "flex": null,
            "_model_name": "LayoutModel",
            "justify_items": null,
            "grid_row": null,
            "max_height": null,
            "align_content": null,
            "visibility": null,
            "align_self": null,
            "height": null,
            "min_height": null,
            "padding": null,
            "grid_auto_rows": null,
            "grid_gap": null,
            "max_width": null,
            "order": null,
            "_view_module_version": "1.2.0",
            "grid_template_areas": null,
            "object_position": null,
            "object_fit": null,
            "grid_auto_columns": null,
            "margin": null,
            "display": null,
            "left": null
          }
        },
        "cf8c5e2f9be04ddf86e571dd206c6f19": {
          "model_module": "@jupyter-widgets/controls",
          "model_name": "DescriptionStyleModel",
          "model_module_version": "1.5.0",
          "state": {
            "_view_name": "StyleView",
            "_model_name": "DescriptionStyleModel",
            "description_width": "",
            "_view_module": "@jupyter-widgets/base",
            "_model_module_version": "1.5.0",
            "_view_count": null,
            "_view_module_version": "1.2.0",
            "_model_module": "@jupyter-widgets/controls"
          }
        },
        "756ca010676e48cb8b022ab0b9c9f658": {
          "model_module": "@jupyter-widgets/base",
          "model_name": "LayoutModel",
          "model_module_version": "1.2.0",
          "state": {
            "_view_name": "LayoutView",
            "grid_template_rows": null,
            "right": null,
            "justify_content": null,
            "_view_module": "@jupyter-widgets/base",
            "overflow": null,
            "_model_module_version": "1.2.0",
            "_view_count": null,
            "flex_flow": null,
            "width": null,
            "min_width": null,
            "border": null,
            "align_items": null,
            "bottom": null,
            "_model_module": "@jupyter-widgets/base",
            "top": null,
            "grid_column": null,
            "overflow_y": null,
            "overflow_x": null,
            "grid_auto_flow": null,
            "grid_area": null,
            "grid_template_columns": null,
            "flex": null,
            "_model_name": "LayoutModel",
            "justify_items": null,
            "grid_row": null,
            "max_height": null,
            "align_content": null,
            "visibility": null,
            "align_self": null,
            "height": null,
            "min_height": null,
            "padding": null,
            "grid_auto_rows": null,
            "grid_gap": null,
            "max_width": null,
            "order": null,
            "_view_module_version": "1.2.0",
            "grid_template_areas": null,
            "object_position": null,
            "object_fit": null,
            "grid_auto_columns": null,
            "margin": null,
            "display": null,
            "left": null
          }
        },
        "95a2908b314c46eabf4b7d03b0f955fa": {
          "model_module": "@jupyter-widgets/controls",
          "model_name": "HBoxModel",
          "model_module_version": "1.5.0",
          "state": {
            "_view_name": "HBoxView",
            "_dom_classes": [],
            "_model_name": "HBoxModel",
            "_view_module": "@jupyter-widgets/controls",
            "_model_module_version": "1.5.0",
            "_view_count": null,
            "_view_module_version": "1.5.0",
            "box_style": "",
            "layout": "IPY_MODEL_ed6aa81edeae43f9ba11ff4ca75bcb14",
            "_model_module": "@jupyter-widgets/controls",
            "children": [
              "IPY_MODEL_fed5493a8afa45aca01422f2ed13730b",
              "IPY_MODEL_5f33388d089b4877b62aad074f0337c1",
              "IPY_MODEL_c9ab5ceee78b474a8e3dfc5d1a3912c5"
            ]
          }
        },
        "ed6aa81edeae43f9ba11ff4ca75bcb14": {
          "model_module": "@jupyter-widgets/base",
          "model_name": "LayoutModel",
          "model_module_version": "1.2.0",
          "state": {
            "_view_name": "LayoutView",
            "grid_template_rows": null,
            "right": null,
            "justify_content": null,
            "_view_module": "@jupyter-widgets/base",
            "overflow": null,
            "_model_module_version": "1.2.0",
            "_view_count": null,
            "flex_flow": null,
            "width": null,
            "min_width": null,
            "border": null,
            "align_items": null,
            "bottom": null,
            "_model_module": "@jupyter-widgets/base",
            "top": null,
            "grid_column": null,
            "overflow_y": null,
            "overflow_x": null,
            "grid_auto_flow": null,
            "grid_area": null,
            "grid_template_columns": null,
            "flex": null,
            "_model_name": "LayoutModel",
            "justify_items": null,
            "grid_row": null,
            "max_height": null,
            "align_content": null,
            "visibility": null,
            "align_self": null,
            "height": null,
            "min_height": null,
            "padding": null,
            "grid_auto_rows": null,
            "grid_gap": null,
            "max_width": null,
            "order": null,
            "_view_module_version": "1.2.0",
            "grid_template_areas": null,
            "object_position": null,
            "object_fit": null,
            "grid_auto_columns": null,
            "margin": null,
            "display": null,
            "left": null
          }
        },
        "fed5493a8afa45aca01422f2ed13730b": {
          "model_module": "@jupyter-widgets/controls",
          "model_name": "HTMLModel",
          "model_module_version": "1.5.0",
          "state": {
            "_view_name": "HTMLView",
            "style": "IPY_MODEL_4039b9e5cda0487e8d7d1ae50f5c80c7",
            "_dom_classes": [],
            "description": "",
            "_model_name": "HTMLModel",
            "placeholder": "​",
            "_view_module": "@jupyter-widgets/controls",
            "_model_module_version": "1.5.0",
            "value": "map_2: 100%",
            "_view_count": null,
            "_view_module_version": "1.5.0",
            "description_tooltip": null,
            "_model_module": "@jupyter-widgets/controls",
            "layout": "IPY_MODEL_46e924ef937b4c33bb6d2f8627d11d3d"
          }
        },
        "5f33388d089b4877b62aad074f0337c1": {
          "model_module": "@jupyter-widgets/controls",
          "model_name": "FloatProgressModel",
          "model_module_version": "1.5.0",
          "state": {
            "_view_name": "ProgressView",
            "style": "IPY_MODEL_ae73ebff1d424e3b8e1f330a2dc8e12f",
            "_dom_classes": [],
            "description": "",
            "_model_name": "FloatProgressModel",
            "bar_style": "success",
            "max": 150,
            "_view_module": "@jupyter-widgets/controls",
            "_model_module_version": "1.5.0",
            "value": 150,
            "_view_count": null,
            "_view_module_version": "1.5.0",
            "orientation": "horizontal",
            "min": 0,
            "description_tooltip": null,
            "_model_module": "@jupyter-widgets/controls",
            "layout": "IPY_MODEL_8a00cda5bdc347e4893fb59bd90e49a9"
          }
        },
        "c9ab5ceee78b474a8e3dfc5d1a3912c5": {
          "model_module": "@jupyter-widgets/controls",
          "model_name": "HTMLModel",
          "model_module_version": "1.5.0",
          "state": {
            "_view_name": "HTMLView",
            "style": "IPY_MODEL_e7ea30e2cf654186943e5198b34ccaf7",
            "_dom_classes": [],
            "description": "",
            "_model_name": "HTMLModel",
            "placeholder": "​",
            "_view_module": "@jupyter-widgets/controls",
            "_model_module_version": "1.5.0",
            "value": " 150/150 [04:52&lt;00:00,  1.93s/ant]",
            "_view_count": null,
            "_view_module_version": "1.5.0",
            "description_tooltip": null,
            "_model_module": "@jupyter-widgets/controls",
            "layout": "IPY_MODEL_a04fa3611c78456a9ab88d3c755e05af"
          }
        },
        "4039b9e5cda0487e8d7d1ae50f5c80c7": {
          "model_module": "@jupyter-widgets/controls",
          "model_name": "DescriptionStyleModel",
          "model_module_version": "1.5.0",
          "state": {
            "_view_name": "StyleView",
            "_model_name": "DescriptionStyleModel",
            "description_width": "",
            "_view_module": "@jupyter-widgets/base",
            "_model_module_version": "1.5.0",
            "_view_count": null,
            "_view_module_version": "1.2.0",
            "_model_module": "@jupyter-widgets/controls"
          }
        },
        "46e924ef937b4c33bb6d2f8627d11d3d": {
          "model_module": "@jupyter-widgets/base",
          "model_name": "LayoutModel",
          "model_module_version": "1.2.0",
          "state": {
            "_view_name": "LayoutView",
            "grid_template_rows": null,
            "right": null,
            "justify_content": null,
            "_view_module": "@jupyter-widgets/base",
            "overflow": null,
            "_model_module_version": "1.2.0",
            "_view_count": null,
            "flex_flow": null,
            "width": null,
            "min_width": null,
            "border": null,
            "align_items": null,
            "bottom": null,
            "_model_module": "@jupyter-widgets/base",
            "top": null,
            "grid_column": null,
            "overflow_y": null,
            "overflow_x": null,
            "grid_auto_flow": null,
            "grid_area": null,
            "grid_template_columns": null,
            "flex": null,
            "_model_name": "LayoutModel",
            "justify_items": null,
            "grid_row": null,
            "max_height": null,
            "align_content": null,
            "visibility": null,
            "align_self": null,
            "height": null,
            "min_height": null,
            "padding": null,
            "grid_auto_rows": null,
            "grid_gap": null,
            "max_width": null,
            "order": null,
            "_view_module_version": "1.2.0",
            "grid_template_areas": null,
            "object_position": null,
            "object_fit": null,
            "grid_auto_columns": null,
            "margin": null,
            "display": null,
            "left": null
          }
        },
        "ae73ebff1d424e3b8e1f330a2dc8e12f": {
          "model_module": "@jupyter-widgets/controls",
          "model_name": "ProgressStyleModel",
          "model_module_version": "1.5.0",
          "state": {
            "_view_name": "StyleView",
            "_model_name": "ProgressStyleModel",
            "description_width": "",
            "_view_module": "@jupyter-widgets/base",
            "_model_module_version": "1.5.0",
            "_view_count": null,
            "_view_module_version": "1.2.0",
            "bar_color": null,
            "_model_module": "@jupyter-widgets/controls"
          }
        },
        "8a00cda5bdc347e4893fb59bd90e49a9": {
          "model_module": "@jupyter-widgets/base",
          "model_name": "LayoutModel",
          "model_module_version": "1.2.0",
          "state": {
            "_view_name": "LayoutView",
            "grid_template_rows": null,
            "right": null,
            "justify_content": null,
            "_view_module": "@jupyter-widgets/base",
            "overflow": null,
            "_model_module_version": "1.2.0",
            "_view_count": null,
            "flex_flow": null,
            "width": null,
            "min_width": null,
            "border": null,
            "align_items": null,
            "bottom": null,
            "_model_module": "@jupyter-widgets/base",
            "top": null,
            "grid_column": null,
            "overflow_y": null,
            "overflow_x": null,
            "grid_auto_flow": null,
            "grid_area": null,
            "grid_template_columns": null,
            "flex": null,
            "_model_name": "LayoutModel",
            "justify_items": null,
            "grid_row": null,
            "max_height": null,
            "align_content": null,
            "visibility": null,
            "align_self": null,
            "height": null,
            "min_height": null,
            "padding": null,
            "grid_auto_rows": null,
            "grid_gap": null,
            "max_width": null,
            "order": null,
            "_view_module_version": "1.2.0",
            "grid_template_areas": null,
            "object_position": null,
            "object_fit": null,
            "grid_auto_columns": null,
            "margin": null,
            "display": null,
            "left": null
          }
        },
        "e7ea30e2cf654186943e5198b34ccaf7": {
          "model_module": "@jupyter-widgets/controls",
          "model_name": "DescriptionStyleModel",
          "model_module_version": "1.5.0",
          "state": {
            "_view_name": "StyleView",
            "_model_name": "DescriptionStyleModel",
            "description_width": "",
            "_view_module": "@jupyter-widgets/base",
            "_model_module_version": "1.5.0",
            "_view_count": null,
            "_view_module_version": "1.2.0",
            "_model_module": "@jupyter-widgets/controls"
          }
        },
        "a04fa3611c78456a9ab88d3c755e05af": {
          "model_module": "@jupyter-widgets/base",
          "model_name": "LayoutModel",
          "model_module_version": "1.2.0",
          "state": {
            "_view_name": "LayoutView",
            "grid_template_rows": null,
            "right": null,
            "justify_content": null,
            "_view_module": "@jupyter-widgets/base",
            "overflow": null,
            "_model_module_version": "1.2.0",
            "_view_count": null,
            "flex_flow": null,
            "width": null,
            "min_width": null,
            "border": null,
            "align_items": null,
            "bottom": null,
            "_model_module": "@jupyter-widgets/base",
            "top": null,
            "grid_column": null,
            "overflow_y": null,
            "overflow_x": null,
            "grid_auto_flow": null,
            "grid_area": null,
            "grid_template_columns": null,
            "flex": null,
            "_model_name": "LayoutModel",
            "justify_items": null,
            "grid_row": null,
            "max_height": null,
            "align_content": null,
            "visibility": null,
            "align_self": null,
            "height": null,
            "min_height": null,
            "padding": null,
            "grid_auto_rows": null,
            "grid_gap": null,
            "max_width": null,
            "order": null,
            "_view_module_version": "1.2.0",
            "grid_template_areas": null,
            "object_position": null,
            "object_fit": null,
            "grid_auto_columns": null,
            "margin": null,
            "display": null,
            "left": null
          }
        },
        "e3e7023e3d7b4fd9857d0b1f43c39c6d": {
          "model_module": "@jupyter-widgets/controls",
          "model_name": "HBoxModel",
          "model_module_version": "1.5.0",
          "state": {
            "_view_name": "HBoxView",
            "_dom_classes": [],
            "_model_name": "HBoxModel",
            "_view_module": "@jupyter-widgets/controls",
            "_model_module_version": "1.5.0",
            "_view_count": null,
            "_view_module_version": "1.5.0",
            "box_style": "",
            "layout": "IPY_MODEL_00b1c8e255f7488da68a7f944060ea4f",
            "_model_module": "@jupyter-widgets/controls",
            "children": [
              "IPY_MODEL_86285e81d10741b894af64b4553298fd",
              "IPY_MODEL_49d40fc87cad4641939b6b0ec2d5dda4",
              "IPY_MODEL_0928fa257482466d94f45e6b6fd2a850"
            ]
          }
        },
        "00b1c8e255f7488da68a7f944060ea4f": {
          "model_module": "@jupyter-widgets/base",
          "model_name": "LayoutModel",
          "model_module_version": "1.2.0",
          "state": {
            "_view_name": "LayoutView",
            "grid_template_rows": null,
            "right": null,
            "justify_content": null,
            "_view_module": "@jupyter-widgets/base",
            "overflow": null,
            "_model_module_version": "1.2.0",
            "_view_count": null,
            "flex_flow": null,
            "width": null,
            "min_width": null,
            "border": null,
            "align_items": null,
            "bottom": null,
            "_model_module": "@jupyter-widgets/base",
            "top": null,
            "grid_column": null,
            "overflow_y": null,
            "overflow_x": null,
            "grid_auto_flow": null,
            "grid_area": null,
            "grid_template_columns": null,
            "flex": null,
            "_model_name": "LayoutModel",
            "justify_items": null,
            "grid_row": null,
            "max_height": null,
            "align_content": null,
            "visibility": null,
            "align_self": null,
            "height": null,
            "min_height": null,
            "padding": null,
            "grid_auto_rows": null,
            "grid_gap": null,
            "max_width": null,
            "order": null,
            "_view_module_version": "1.2.0",
            "grid_template_areas": null,
            "object_position": null,
            "object_fit": null,
            "grid_auto_columns": null,
            "margin": null,
            "display": null,
            "left": null
          }
        },
        "86285e81d10741b894af64b4553298fd": {
          "model_module": "@jupyter-widgets/controls",
          "model_name": "HTMLModel",
          "model_module_version": "1.5.0",
          "state": {
            "_view_name": "HTMLView",
            "style": "IPY_MODEL_a772c2177c744f1cb971bb54d72f459c",
            "_dom_classes": [],
            "description": "",
            "_model_name": "HTMLModel",
            "placeholder": "​",
            "_view_module": "@jupyter-widgets/controls",
            "_model_module_version": "1.5.0",
            "value": "map_3: 100%",
            "_view_count": null,
            "_view_module_version": "1.5.0",
            "description_tooltip": null,
            "_model_module": "@jupyter-widgets/controls",
            "layout": "IPY_MODEL_2ef68170ddca4b1abd7a3a0181c19edf"
          }
        },
        "49d40fc87cad4641939b6b0ec2d5dda4": {
          "model_module": "@jupyter-widgets/controls",
          "model_name": "FloatProgressModel",
          "model_module_version": "1.5.0",
          "state": {
            "_view_name": "ProgressView",
            "style": "IPY_MODEL_a678c50a4c8b4675ad98998afd55e963",
            "_dom_classes": [],
            "description": "",
            "_model_name": "FloatProgressModel",
            "bar_style": "success",
            "max": 150,
            "_view_module": "@jupyter-widgets/controls",
            "_model_module_version": "1.5.0",
            "value": 150,
            "_view_count": null,
            "_view_module_version": "1.5.0",
            "orientation": "horizontal",
            "min": 0,
            "description_tooltip": null,
            "_model_module": "@jupyter-widgets/controls",
            "layout": "IPY_MODEL_20a2b673bb264a25a184f188f2869be3"
          }
        },
        "0928fa257482466d94f45e6b6fd2a850": {
          "model_module": "@jupyter-widgets/controls",
          "model_name": "HTMLModel",
          "model_module_version": "1.5.0",
          "state": {
            "_view_name": "HTMLView",
            "style": "IPY_MODEL_d14009a798024396a24de6c79415df3d",
            "_dom_classes": [],
            "description": "",
            "_model_name": "HTMLModel",
            "placeholder": "​",
            "_view_module": "@jupyter-widgets/controls",
            "_model_module_version": "1.5.0",
            "value": " 150/150 [04:56&lt;00:00,  1.96s/ant]",
            "_view_count": null,
            "_view_module_version": "1.5.0",
            "description_tooltip": null,
            "_model_module": "@jupyter-widgets/controls",
            "layout": "IPY_MODEL_e497282ba86646169ff03ea7dee4d75b"
          }
        },
        "a772c2177c744f1cb971bb54d72f459c": {
          "model_module": "@jupyter-widgets/controls",
          "model_name": "DescriptionStyleModel",
          "model_module_version": "1.5.0",
          "state": {
            "_view_name": "StyleView",
            "_model_name": "DescriptionStyleModel",
            "description_width": "",
            "_view_module": "@jupyter-widgets/base",
            "_model_module_version": "1.5.0",
            "_view_count": null,
            "_view_module_version": "1.2.0",
            "_model_module": "@jupyter-widgets/controls"
          }
        },
        "2ef68170ddca4b1abd7a3a0181c19edf": {
          "model_module": "@jupyter-widgets/base",
          "model_name": "LayoutModel",
          "model_module_version": "1.2.0",
          "state": {
            "_view_name": "LayoutView",
            "grid_template_rows": null,
            "right": null,
            "justify_content": null,
            "_view_module": "@jupyter-widgets/base",
            "overflow": null,
            "_model_module_version": "1.2.0",
            "_view_count": null,
            "flex_flow": null,
            "width": null,
            "min_width": null,
            "border": null,
            "align_items": null,
            "bottom": null,
            "_model_module": "@jupyter-widgets/base",
            "top": null,
            "grid_column": null,
            "overflow_y": null,
            "overflow_x": null,
            "grid_auto_flow": null,
            "grid_area": null,
            "grid_template_columns": null,
            "flex": null,
            "_model_name": "LayoutModel",
            "justify_items": null,
            "grid_row": null,
            "max_height": null,
            "align_content": null,
            "visibility": null,
            "align_self": null,
            "height": null,
            "min_height": null,
            "padding": null,
            "grid_auto_rows": null,
            "grid_gap": null,
            "max_width": null,
            "order": null,
            "_view_module_version": "1.2.0",
            "grid_template_areas": null,
            "object_position": null,
            "object_fit": null,
            "grid_auto_columns": null,
            "margin": null,
            "display": null,
            "left": null
          }
        },
        "a678c50a4c8b4675ad98998afd55e963": {
          "model_module": "@jupyter-widgets/controls",
          "model_name": "ProgressStyleModel",
          "model_module_version": "1.5.0",
          "state": {
            "_view_name": "StyleView",
            "_model_name": "ProgressStyleModel",
            "description_width": "",
            "_view_module": "@jupyter-widgets/base",
            "_model_module_version": "1.5.0",
            "_view_count": null,
            "_view_module_version": "1.2.0",
            "bar_color": null,
            "_model_module": "@jupyter-widgets/controls"
          }
        },
        "20a2b673bb264a25a184f188f2869be3": {
          "model_module": "@jupyter-widgets/base",
          "model_name": "LayoutModel",
          "model_module_version": "1.2.0",
          "state": {
            "_view_name": "LayoutView",
            "grid_template_rows": null,
            "right": null,
            "justify_content": null,
            "_view_module": "@jupyter-widgets/base",
            "overflow": null,
            "_model_module_version": "1.2.0",
            "_view_count": null,
            "flex_flow": null,
            "width": null,
            "min_width": null,
            "border": null,
            "align_items": null,
            "bottom": null,
            "_model_module": "@jupyter-widgets/base",
            "top": null,
            "grid_column": null,
            "overflow_y": null,
            "overflow_x": null,
            "grid_auto_flow": null,
            "grid_area": null,
            "grid_template_columns": null,
            "flex": null,
            "_model_name": "LayoutModel",
            "justify_items": null,
            "grid_row": null,
            "max_height": null,
            "align_content": null,
            "visibility": null,
            "align_self": null,
            "height": null,
            "min_height": null,
            "padding": null,
            "grid_auto_rows": null,
            "grid_gap": null,
            "max_width": null,
            "order": null,
            "_view_module_version": "1.2.0",
            "grid_template_areas": null,
            "object_position": null,
            "object_fit": null,
            "grid_auto_columns": null,
            "margin": null,
            "display": null,
            "left": null
          }
        },
        "d14009a798024396a24de6c79415df3d": {
          "model_module": "@jupyter-widgets/controls",
          "model_name": "DescriptionStyleModel",
          "model_module_version": "1.5.0",
          "state": {
            "_view_name": "StyleView",
            "_model_name": "DescriptionStyleModel",
            "description_width": "",
            "_view_module": "@jupyter-widgets/base",
            "_model_module_version": "1.5.0",
            "_view_count": null,
            "_view_module_version": "1.2.0",
            "_model_module": "@jupyter-widgets/controls"
          }
        },
        "e497282ba86646169ff03ea7dee4d75b": {
          "model_module": "@jupyter-widgets/base",
          "model_name": "LayoutModel",
          "model_module_version": "1.2.0",
          "state": {
            "_view_name": "LayoutView",
            "grid_template_rows": null,
            "right": null,
            "justify_content": null,
            "_view_module": "@jupyter-widgets/base",
            "overflow": null,
            "_model_module_version": "1.2.0",
            "_view_count": null,
            "flex_flow": null,
            "width": null,
            "min_width": null,
            "border": null,
            "align_items": null,
            "bottom": null,
            "_model_module": "@jupyter-widgets/base",
            "top": null,
            "grid_column": null,
            "overflow_y": null,
            "overflow_x": null,
            "grid_auto_flow": null,
            "grid_area": null,
            "grid_template_columns": null,
            "flex": null,
            "_model_name": "LayoutModel",
            "justify_items": null,
            "grid_row": null,
            "max_height": null,
            "align_content": null,
            "visibility": null,
            "align_self": null,
            "height": null,
            "min_height": null,
            "padding": null,
            "grid_auto_rows": null,
            "grid_gap": null,
            "max_width": null,
            "order": null,
            "_view_module_version": "1.2.0",
            "grid_template_areas": null,
            "object_position": null,
            "object_fit": null,
            "grid_auto_columns": null,
            "margin": null,
            "display": null,
            "left": null
          }
        }
      }
    }
  },
  "cells": [
    {
      "cell_type": "markdown",
      "metadata": {
        "id": "view-in-github",
        "colab_type": "text"
      },
      "source": [
        "<a href=\"https://colab.research.google.com/github/OldGoose/ORA-Project-Santa-2021---The-Merry-Movie-Montage/blob/main/Santa_2021_TSP_ACO_Robin_Houston%26Egan.ipynb\" target=\"_parent\"><img src=\"https://colab.research.google.com/assets/colab-badge.svg\" alt=\"Open In Colab\"/></a>"
      ]
    },
    {
      "cell_type": "markdown",
      "source": [
        "# Robin Houston & Egan propsed 7! superpertation with ACO."
      ],
      "metadata": {
        "id": "qf1nYGrMaCQR"
      }
    },
    {
      "cell_type": "markdown",
      "source": [
        "In this notebook, we use 7! superpermutation which from Robin Houston to our initial data. The flowchart as below:\n",
        "![image.png](data:image/png;base64,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)\n",
        "#### REFERENCES\n",
        "https://www.kaggle.com/adrienbouvais/ants-for-santa-an-ant-colony-optimization  <br />\n",
        "https://www.kaggle.com/yosshi999/wildcard-postprocessing-using-dynamic-programming"
      ],
      "metadata": {
        "id": "d7gdZ8-lYg40"
      }
    },
    {
      "cell_type": "markdown",
      "source": [
        "### Import Package"
      ],
      "metadata": {
        "id": "QT_hjPJQeO0i"
      }
    },
    {
      "cell_type": "code",
      "execution_count": 1,
      "metadata": {
        "colab": {
          "base_uri": "https://localhost:8080/"
        },
        "id": "oYwQgLkVBQuJ",
        "outputId": "f6dee204-fe19-4b69-8de5-46462ce89a3c"
      },
      "outputs": [
        {
          "output_type": "stream",
          "name": "stdout",
          "text": [
            "Mounted at /content/drive\n"
          ]
        }
      ],
      "source": [
        "import itertools\n",
        "import random\n",
        "import numpy as np\n",
        "import pandas as pd\n",
        "import torch\n",
        "import torch.nn.functional as F\n",
        "import matplotlib.pyplot as plt\n",
        "import datetime\n",
        "from tqdm.notebook import tqdm\n",
        "import os\n",
        "from google.colab import drive\n",
        "drive.mount('/content/drive')\n",
        "os.chdir('/content/drive/My Drive/Santa2021') "
      ]
    },
    {
      "cell_type": "markdown",
      "source": [
        "### 1. 7! Supermutation\n",
        "We can get the superpermutation for n = 7 from Robin Houston and Egan which length 5906 on 27 February 2019."
      ],
      "metadata": {
        "id": "hkI00axjOjfo"
      }
    },
    {
      "cell_type": "code",
      "source": [
        "best = \"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\"\n",
        "len(best)"
      ],
      "metadata": {
        "colab": {
          "base_uri": "https://localhost:8080/"
        },
        "id": "apF-h26hOkDn",
        "outputId": "78c80e6a-b1f8-49c9-e973-c3c12b4340c4"
      },
      "execution_count": 2,
      "outputs": [
        {
          "output_type": "execute_result",
          "data": {
            "text/plain": [
              "5906"
            ]
          },
          "metadata": {},
          "execution_count": 2
        }
      ]
    },
    {
      "cell_type": "markdown",
      "source": [
        "### 1. Divide into 3 groups\n",
        "From this formula $𝑝_𝑘^𝑛 = \\frac{𝑛!}{(𝑛−𝑘)!}$ we can get the following seven symbols (🎅🤶🦌🧝🎄🎁🎀) with a total of 5040 permutations (ie, a total of 5040 movie)\n",
        "Due to the constrain of the problem, there are a total of 120 movies starting with these 🎅🤶 two symbols, and we have to put them into each group.\n",
        "After deducting those 120 films, we divide the remaining 4920 films into three equal parts.\n",
        "\n",
        "First, we need to decide which code is represent 🎅🤶."
      ],
      "metadata": {
        "id": "Po5S4k4dfTe6"
      }
    },
    {
      "cell_type": "code",
      "source": [
        "split_id = [len(best) // 3, len(best)*2//3]\n",
        "t1, t2 = split_id\n",
        "\n",
        "strings = [best[:t1], best[t1:t2], best[t2:]]\n",
        "g1 = strings[0]\n",
        "g2 = strings[1]\n",
        "g3 = strings[2]\n",
        "\n",
        "check = []\n",
        "for i in range(1,8):\n",
        "    for j in range(1,8):\n",
        "        if i != j:\n",
        "            check.append(str(i)+str(j))\n",
        "check = np.array(check)\n",
        "\n",
        "data = pd.DataFrame()\n",
        "column = list(check)\n",
        "index = ['group1','group2','group3']\n",
        "data = pd.DataFrame(columns=column,index=index)\n",
        "\n",
        "for i in list(check):\n",
        "    data[i][0] = (g1.count(i))\n",
        "    data[i][1] = (g2.count(i))\n",
        "    data[i][2] = (g3.count(i))\n",
        "data = data.append(data.std(axis= 0) ,ignore_index=True)\n",
        "data1 = data.T[3]\n",
        "for i in range(len(data1)):\n",
        "    if data1[i] == data1.min(axis=0):\n",
        "        min_id = (data1.index[i]) \n",
        "print(\"The Min Standard Deviation is: \" + str(data.stack().min()) + \" at \"  + (min_id) + \".\")"
      ],
      "metadata": {
        "colab": {
          "base_uri": "https://localhost:8080/"
        },
        "id": "p6GCBldrfSBn",
        "outputId": "f64fbb16-fbc6-4981-fcb8-318c5f358a0a"
      },
      "execution_count": 3,
      "outputs": [
        {
          "output_type": "stream",
          "name": "stdout",
          "text": [
            "The Min Standard Deviation is: 0.5773502691896258 at 24.\n"
          ]
        }
      ]
    },
    {
      "cell_type": "markdown",
      "source": [
        "So, we choose 24 to represent the 🎅🤶."
      ],
      "metadata": {
        "id": "7CvjUufTovsk"
      }
    },
    {
      "cell_type": "code",
      "source": [
        "def is_perm(s):\n",
        "    y = True\n",
        "    for k in range(1,8):\n",
        "        y = y&(str(k) in s)\n",
        "        if not y: break\n",
        "    return y\n",
        "\n",
        "permutations = []\n",
        "\n",
        "for k in range(len(best)-6):\n",
        "    s = best[k:k+7]\n",
        "    if (is_perm(s))&(s not in permutations)&(s[:2]!='24'):\n",
        "        permutations.append(s)\n",
        "        \n",
        "print('There are',len(permutations),'movies')\n",
        "\n",
        "mandatory = ['24'+''.join(x) for x in itertools.permutations(['1','3','5','6','7'], 5)]\n",
        "print('In addition',len(mandatory),'which movie starting with 🎅🤶 must appear in each group.')"
      ],
      "metadata": {
        "colab": {
          "base_uri": "https://localhost:8080/"
        },
        "id": "RtnMNMeBo3G7",
        "outputId": "39eacf8a-6598-4f69-acbe-8b3fe48032c1"
      },
      "execution_count": 4,
      "outputs": [
        {
          "output_type": "stream",
          "name": "stdout",
          "text": [
            "There are 4920 movies\n",
            "In addition 120 which movie starting with 🎅🤶 must appear in each group.\n"
          ]
        }
      ]
    },
    {
      "cell_type": "code",
      "source": [
        "#find the split point\n",
        "split_id = [len(permutations) // 3, len(permutations)*2//3]\n",
        "t1, t2 = split_id\n",
        "\n",
        "adjust1 = 0\n",
        "adjust2 = 0\n",
        "group1 = permutations[:t1-adjust1] + mandatory\n",
        "group2 = permutations[t1-adjust1:t2+adjust2] + mandatory\n",
        "group3 = permutations[t2+adjust2:] + mandatory\n",
        "\n",
        "len(group1), len(group2), len(group3)"
      ],
      "metadata": {
        "colab": {
          "base_uri": "https://localhost:8080/"
        },
        "id": "Aw_JWQHYpn-U",
        "outputId": "9f584bce-5e6d-45a2-f87d-dab3d8ad6fe0"
      },
      "execution_count": 5,
      "outputs": [
        {
          "output_type": "execute_result",
          "data": {
            "text/plain": [
              "(1760, 1760, 1760)"
            ]
          },
          "metadata": {},
          "execution_count": 5
        }
      ]
    },
    {
      "cell_type": "markdown",
      "source": [
        "### 3. Check and add movies with \"🎅🤶\" in all group."
      ],
      "metadata": {
        "id": "EALjv46Lp3IC"
      }
    },
    {
      "cell_type": "code",
      "source": [
        "all_permutations = [''.join(x) for x in itertools.permutations(['1','2','3','4','5','6','7'], 7)]\n",
        "\n",
        "for p in all_permutations:\n",
        "    if p not in group1 and p not in group2 and p not in group3:\n",
        "        print(p)"
      ],
      "metadata": {
        "id": "NXIAD3STqSGc"
      },
      "execution_count": 6,
      "outputs": []
    },
    {
      "cell_type": "markdown",
      "source": [
        "### 4.Execute ACO"
      ],
      "metadata": {
        "id": "t9Fw5hoSo9u-"
      }
    },
    {
      "cell_type": "code",
      "source": [
        "# The ant class\n",
        "class Ant:\n",
        "    def __init__(self, map):\n",
        "        self.map = map\n",
        "        self.visited = np.ones((self.map.nb_city,), dtype = bool)  # Boolean of if the city has been visited\n",
        "        self.position_id = self.map.city.index(random.choice(self.map.city))  # Id of current position\n",
        "        self.visited[self.position_id] = 0\n",
        "        self.dist_trav = 7  # Distance traveled\n",
        "        self.path = self.map.city[self.position_id] # What we are looking for\n",
        "        self.path_id = [0] * self.map.nb_city # History of the path for pheromones\n",
        "        self.path_id[0] = self.position_id\n",
        "        self.path_act_id = 1\n",
        "\n",
        "    def update(self):\n",
        "        dis, phero = self.map.dist_mat[self.position_id, :], self.map.pheros[self.position_id, :]\n",
        "        dis[dis < 0] = self.map.inf_dist\n",
        "\n",
        "        weight = (self.visited * phero) / ((dis * 2) ** self.map.coef_dist_puiss)\n",
        "\n",
        "        next_city_id = random.choices(range(self.map.nb_city), weights=weight, k=1)[0]\n",
        "\n",
        "        self.path += self.map.city[next_city_id][(7-int(dis[next_city_id])):]\n",
        "        self.path_id[self.path_act_id] = next_city_id\n",
        "        self.path_act_id += 1\n",
        "\n",
        "        self.dist_trav += self.map.dist_mat[self.position_id, next_city_id]\n",
        "        self.position_id = next_city_id\n",
        "        self.visited[self.position_id] = 0\n",
        "\n",
        "    def find_path(self):\n",
        "        for i in range(self.map.nb_city-1):\n",
        "            self.update()\n",
        "\n",
        "    def update_pheros(self):\n",
        "        x = 100\n",
        "        coef = -50\n",
        "        for i in range(x):\n",
        "            if self.dist_trav <= (self.map.dist_min + self.map.dist_delta * (i / x)):\n",
        "                coef += 1\n",
        "        for i in range(len(self.path_id)-1):\n",
        "            self.map.pheros[self.path_id[i], self.path_id[i+1]] += coef\n",
        "\n",
        "# The map class\n",
        "class Map:\n",
        "    # Settings\n",
        "    phero_start_fact = 1000\n",
        "    inf_dist = 9999\n",
        "\n",
        "    def __init__(self, city, dist_mat, name, coef_dist_puiss=20,\n",
        "                 nb_ant=20, nb_turn=100, do_print=True):\n",
        "        self.city = city # List of city to travel\n",
        "        self.name = name # Name of the map\n",
        "        self.nb_ant = nb_ant # Number of ants\n",
        "        self.nb_turn = nb_turn # Number of turn to do\n",
        "        self.dist_mat = dist_mat # Distance matrix\n",
        "        \n",
        "        #建立一個Array矩陣，每個欄位並乘以費洛蒙初始值 1000\n",
        "        self.pheros = np.ones(self.dist_mat.shape) * self.phero_start_fact # Pheromones matrix (信息素矩陣)\n",
        "        \n",
        "        self.shortest_path = \"\" #設定初始最短路徑為空值\n",
        "        self.shortest_dist = 9999999999999  #設定初始最短距離為極大值\n",
        "        self.dist_min = 0\n",
        "        self.dist_max = 0\n",
        "        self.dist_delta = 0 #設定距離delta為0\n",
        "        self.nb_city = len(city) #定義一個程式數目的變數\n",
        "\n",
        "        self.coef_dist_puiss = coef_dist_puiss # Coef to use in ant.update, 5-10 is good\n",
        "        self.ants = [] # List of ant\n",
        "        for i in range(self.nb_ant):\n",
        "            self.ants.append(Ant(self))\n",
        "\n",
        "        self.pbar = None # The progress bar\n",
        "\n",
        "    def update(self):\n",
        "        ants_dist = [0] * len(self.ants)\n",
        "        i = 0\n",
        "        \n",
        "        for ant in self.ants:\n",
        "            ant.find_path()\n",
        "            dis = ant.dist_trav\n",
        "            ants_dist[i] = dis\n",
        "            if dis < self.shortest_dist:\n",
        "                self.shortest_dist = dis\n",
        "                self.shortest_path = ant.path\n",
        "            i+=1\n",
        "            self.pbar.update(1)\n",
        "        self.dist_min = min(ants_dist)\n",
        "        self.dist_max = max(ants_dist)\n",
        "        self.dist_delta = self.dist_max - self.dist_min\n",
        "        for ant in self.ants:\n",
        "            ant.update_pheros()\n",
        "            ant.__init__(self)\n",
        "\n",
        "    def start(self):\n",
        "        # Start the simulation\n",
        "        with tqdm(total=self.nb_turn*self.nb_ant, desc=self.name,unit=\"ant\") as pbar:\n",
        "            self.pbar = pbar\n",
        "            for i in range(self.nb_turn):\n",
        "                self.update()"
      ],
      "metadata": {
        "id": "NLg3y5IFpHH0"
      },
      "execution_count": 7,
      "outputs": []
    },
    {
      "cell_type": "code",
      "source": [
        "dist_mat = pd.read_csv(\"distance_matrix.csv\")\n",
        "dist_mat.set_index('Permutation', inplace=True)\n",
        "\n",
        "# 將圖案轉換為數字符號\n",
        "def change(a):\n",
        "    a = a.replace(\"🎅\", \"2\")\n",
        "    a = a.replace('🤶', \"4\")\n",
        "    a = a.replace('🦌', \"1\")\n",
        "    a = a.replace('🧝', \"3\")\n",
        "    a = a.replace('🎄', \"5\")\n",
        "    a = a.replace('🎁', \"6\")\n",
        "    a = a.replace('🎀', \"7\")\n",
        "    return a\n",
        "\n",
        "def rechange(a):\n",
        "    a = a.replace(\"2\", \"🎅\")\n",
        "    a = a.replace(\"4\", '🤶')\n",
        "    a = a.replace(\"1\", '🦌')\n",
        "    a = a.replace(\"3\", '🧝')\n",
        "    a = a.replace(\"5\", '🎄')\n",
        "    a = a.replace(\"6\", '🎁')\n",
        "    a = a.replace(\"7\", '🎀')\n",
        "    return a\n",
        "\n",
        "def get_dist_mat(dist_mat, city):\n",
        "    to_export = pd.DataFrame(columns=city, index=city) #生成一個n x n的dataframe矩陣\n",
        "  \n",
        "    for c in city:\n",
        "        to_export.loc[c] = dist_mat.loc[c] #找出dist_mat之中，相同的city對應的欄位值，將距離填入to_export對應的欄位中(https://codertw.com/%E7%A8%8B%E5%BC%8F%E8%AA%9E%E8%A8%80/462517/)\n",
        "\n",
        "    to_export = to_export.to_numpy() #將to_export型態由dataframe轉為array型態\n",
        "    to_export[to_export==0] = 99999 #將to_export裡面為0的值改為99999\n",
        "\n",
        "    return to_export\n",
        "\n",
        "# 建立字典，將dist_mat裡面的欄跟列的名稱改換為數字字符\n",
        "dic = {}\n",
        "for c in dist_mat.columns:\n",
        "    dic[c] = change(c)\n",
        "dist_mat.rename(dic, axis=1, inplace=True)\n",
        "dist_mat.rename(dic, axis=0, inplace=True)"
      ],
      "metadata": {
        "id": "ur__QAmnqePu"
      },
      "execution_count": 8,
      "outputs": []
    },
    {
      "cell_type": "markdown",
      "source": [
        "#### Set papameter"
      ],
      "metadata": {
        "id": "eEzNhMNkrcYf"
      }
    },
    {
      "cell_type": "code",
      "source": [
        "starttime = datetime.datetime.now()\n",
        "\n",
        "nb_ant = 5 #number of ants\n",
        "nb_turn = 30 # Number of turn to do\n",
        "coef_dist_puiss = 50\n",
        "\n",
        "print(\"The calculation will take approximately \" + str(datetime.timedelta(seconds=(1.2 * 3 * nb_ant * nb_turn))))\n",
        "print('Start for nb_ant:', nb_ant, ', nb_turn', nb_turn, )\n",
        "\n",
        "dist_mat_map_1 = get_dist_mat(dist_mat, group1)\n",
        "map_1 = Map(group1, dist_mat_map_1, \"map_1\", nb_ant=nb_ant, nb_turn=nb_turn,\n",
        "            coef_dist_puiss=coef_dist_puiss, do_print=False)\n",
        "\n",
        "map_1.start()\n",
        "print(\"map_1 Done, score:\", map_1.shortest_dist, 'Nb_city:', len(group1))\n",
        "\n",
        "dist_mat_map_2 = get_dist_mat(dist_mat, group2)\n",
        "map_2 = Map(group2, dist_mat_map_2, \"map_2\", nb_ant=nb_ant, nb_turn=nb_turn,\n",
        "            coef_dist_puiss=coef_dist_puiss, do_print=False)\n",
        "map_2.start()\n",
        "print(\"map_2 Done, score:\", map_2.shortest_dist, 'Nb_city:', len(group2))\n",
        "\n",
        "dist_mat_map_3 = get_dist_mat(dist_mat, group3)\n",
        "map_3 = Map(group3, dist_mat_map_3, \"map_3\", nb_ant=nb_ant, nb_turn=nb_turn,\n",
        "            coef_dist_puiss=coef_dist_puiss, do_print=False)\n",
        "map_3.start()\n",
        "print(\"map_3 Done, score:\", map_3.shortest_dist, 'Nb_city:', len(group3))\n"
      ],
      "metadata": {
        "colab": {
          "base_uri": "https://localhost:8080/",
          "height": 200,
          "referenced_widgets": [
            "fd06cecca7b742eab0ae400e1d54ee66",
            "e63dc296c2944a13bdfed6542e6f39d6",
            "9f949e44328c48ce8104851df19dea74",
            "3dee2497413c4d3c9acb88718ef735bd",
            "ea0fdee692d942ca868f6a745fd3fa30",
            "0a4b9eb897834884966d75f1a2b2ca44",
            "c2a8075401df451ca54a9219aa8cd30c",
            "e2b5709785ea453f9a3014c37141589c",
            "77ecb5efd6c84da5bf811b4215e88ff5",
            "cf8c5e2f9be04ddf86e571dd206c6f19",
            "756ca010676e48cb8b022ab0b9c9f658",
            "95a2908b314c46eabf4b7d03b0f955fa",
            "ed6aa81edeae43f9ba11ff4ca75bcb14",
            "fed5493a8afa45aca01422f2ed13730b",
            "5f33388d089b4877b62aad074f0337c1",
            "c9ab5ceee78b474a8e3dfc5d1a3912c5",
            "4039b9e5cda0487e8d7d1ae50f5c80c7",
            "46e924ef937b4c33bb6d2f8627d11d3d",
            "ae73ebff1d424e3b8e1f330a2dc8e12f",
            "8a00cda5bdc347e4893fb59bd90e49a9",
            "e7ea30e2cf654186943e5198b34ccaf7",
            "a04fa3611c78456a9ab88d3c755e05af",
            "e3e7023e3d7b4fd9857d0b1f43c39c6d",
            "00b1c8e255f7488da68a7f944060ea4f",
            "86285e81d10741b894af64b4553298fd",
            "49d40fc87cad4641939b6b0ec2d5dda4",
            "0928fa257482466d94f45e6b6fd2a850",
            "a772c2177c744f1cb971bb54d72f459c",
            "2ef68170ddca4b1abd7a3a0181c19edf",
            "a678c50a4c8b4675ad98998afd55e963",
            "20a2b673bb264a25a184f188f2869be3",
            "d14009a798024396a24de6c79415df3d",
            "e497282ba86646169ff03ea7dee4d75b"
          ]
        },
        "id": "bz1-0XU6qhUL",
        "outputId": "5830ef31-f16c-47e3-e046-c7520da73363"
      },
      "execution_count": 9,
      "outputs": [
        {
          "output_type": "stream",
          "name": "stdout",
          "text": [
            "The calculation will take approximately 0:09:00\n",
            "Start for nb_ant: 5 , nb_turn 30\n"
          ]
        },
        {
          "output_type": "display_data",
          "data": {
            "application/vnd.jupyter.widget-view+json": {
              "model_id": "fd06cecca7b742eab0ae400e1d54ee66",
              "version_minor": 0,
              "version_major": 2
            },
            "text/plain": [
              "map_1:   0%|          | 0/150 [00:00<?, ?ant/s]"
            ]
          },
          "metadata": {}
        },
        {
          "output_type": "stream",
          "name": "stdout",
          "text": [
            "map_1 Done, score: 2666 Nb_city: 1760\n"
          ]
        },
        {
          "output_type": "display_data",
          "data": {
            "application/vnd.jupyter.widget-view+json": {
              "model_id": "95a2908b314c46eabf4b7d03b0f955fa",
              "version_minor": 0,
              "version_major": 2
            },
            "text/plain": [
              "map_2:   0%|          | 0/150 [00:00<?, ?ant/s]"
            ]
          },
          "metadata": {}
        },
        {
          "output_type": "stream",
          "name": "stdout",
          "text": [
            "map_2 Done, score: 2699 Nb_city: 1760\n"
          ]
        },
        {
          "output_type": "display_data",
          "data": {
            "application/vnd.jupyter.widget-view+json": {
              "model_id": "e3e7023e3d7b4fd9857d0b1f43c39c6d",
              "version_minor": 0,
              "version_major": 2
            },
            "text/plain": [
              "map_3:   0%|          | 0/150 [00:00<?, ?ant/s]"
            ]
          },
          "metadata": {}
        },
        {
          "output_type": "stream",
          "name": "stdout",
          "text": [
            "map_3 Done, score: 2696 Nb_city: 1760\n"
          ]
        }
      ]
    },
    {
      "cell_type": "markdown",
      "source": [
        "### 5. Check solution is feasible"
      ],
      "metadata": {
        "id": "7YCr8im3sdaO"
      }
    },
    {
      "cell_type": "code",
      "source": [
        "string1 = (map_1.shortest_path)\n",
        "string2 = (map_2.shortest_path)\n",
        "string3 = (map_3.shortest_path)"
      ],
      "metadata": {
        "id": "uUd0H1m3so-K"
      },
      "execution_count": 10,
      "outputs": []
    },
    {
      "cell_type": "code",
      "source": [
        "for p in all_permutations:\n",
        "    if p not in string1 and p not in string2 and p not in string3:\n",
        "        print(p)\n",
        "              \n",
        "for p in mandatory:\n",
        "    if p not in string1 and p not in string2 and p not in string3:\n",
        "        print(p)\n",
        "#No News is good news."
      ],
      "metadata": {
        "id": "tPvN42n2s0TN"
      },
      "execution_count": 11,
      "outputs": []
    },
    {
      "cell_type": "code",
      "source": [
        "result_list = [string1, string2, string3]\n",
        "for i in range(3):\n",
        "  print('The length for group' + str(i+1) + ' without wildcards ' +  str(len(result_list[i])))"
      ],
      "metadata": {
        "colab": {
          "base_uri": "https://localhost:8080/"
        },
        "id": "3KiYBXpHs1xY",
        "outputId": "f1ab8c34-2da2-4a99-c1db-941b2754de44"
      },
      "execution_count": 12,
      "outputs": [
        {
          "output_type": "stream",
          "name": "stdout",
          "text": [
            "The length for group1 without wildcards 2666\n",
            "The length for group2 without wildcards 2699\n",
            "The length for group3 without wildcards 2696\n"
          ]
        }
      ]
    },
    {
      "cell_type": "code",
      "source": [
        "sub = pd.DataFrame()\n",
        "sub['schedule'] = [string1, string2, string3]\n",
        "schedule = sub.schedule.tolist()"
      ],
      "metadata": {
        "id": "xhpG--lutNtG"
      },
      "execution_count": 13,
      "outputs": []
    },
    {
      "cell_type": "markdown",
      "source": [
        "### 6. Using Dynamic Programming to filling the 🌟"
      ],
      "metadata": {
        "id": "dM0OI3C0tQUE"
      }
    },
    {
      "cell_type": "markdown",
      "source": [
        "#### Create Cost martix"
      ],
      "metadata": {
        "id": "FrN6RED5ttBx"
      }
    },
    {
      "cell_type": "code",
      "source": [
        "perms = list(map(lambda p: \"\".join(p), itertools.permutations(\"1234567\")))\n",
        "perm2id = {p: i for i, p in enumerate(perms)}\n",
        "\n",
        "perms_arr = np.array([list(map(int, p)) for p in perms])\n",
        "perms_arr.shape\n",
        "\n",
        "perms_onehot = np.eye(7)[perms_arr-1, :].transpose(0, 2, 1)\n",
        "assert np.allclose(perms_onehot[:,0,:].astype(np.int64), (perms_arr == 1).astype(np.int64))\n",
        "\n",
        "must_match_left2right = np.array([-1, -1, -1, -1, -1, -1, -1, 7, 6, 5, 4, 3, 2, 1, 0])\n",
        "must_match_right2left = np.array([0, 1, 2, 3, 4, 5, 6, 7, -1, -1, -1, -1, -1, -1, -1])\n",
        "cost_ifmatch = np.array([7, 6, 5, 4, 3, 2, 1, 0, 1, 2, 3, 4, 5, 6, 7])\n",
        "\n",
        "M = F.conv2d(\n",
        "    F.pad(torch.Tensor(perms_onehot[:, None, :, :]), (7, 7)),\n",
        "    torch.Tensor(perms_onehot[:, None, :, :]),\n",
        "    padding=\"valid\"\n",
        ").squeeze().numpy()\n",
        "\n",
        "must_match_left2right = np.array([-1, -1, -1, -1, -1, -1, -1, 7, 6, 5, 4, 3, 2, 1, 0])\n",
        "must_match_left2right_wild = np.array([-1, -1, -1, -1, -1, -1, -1, 6, 5, 4, 3, 2, 1, 0, 0])\n",
        "\n",
        "cost_ifmatch = np.array([7, 6, 5, 4, 3, 2, 1, 0, 1, 2, 3, 4, 5, 6, 7])\n",
        "\n",
        "costMat = np.where(M == must_match_left2right, cost_ifmatch, np.inf).min(axis=-1).astype(np.int8)\n",
        "costMatWild = np.minimum(costMat, np.where(M == must_match_left2right_wild, cost_ifmatch, np.inf).min(axis=-1)).astype(np.int8)"
      ],
      "metadata": {
        "id": "yzPK0LgXtguk"
      },
      "execution_count": 14,
      "outputs": []
    },
    {
      "cell_type": "markdown",
      "source": [
        "#### String decomposition"
      ],
      "metadata": {
        "id": "cwfj4mxHtyT7"
      }
    },
    {
      "cell_type": "code",
      "source": [
        "perms = [''.join(x) for x in itertools.permutations(['1','2','3','4','5','6','7'], 7)]\n",
        "\n",
        "def find_strings_perms(strings, verbose=False):\n",
        "    global perms\n",
        "    found_perms = []\n",
        "    for s in strings:\n",
        "        found_perms.append([])\n",
        "        for i in range(len(s)-6):\n",
        "            p = s[i:i+7]\n",
        "            if p in perms:\n",
        "                found_perms[-1].append(p)\n",
        "    if verbose:\n",
        "        lens = [len(_) for _ in  found_perms]\n",
        "        print(f'There are {lens} permutations in strings, {sum(lens)} in total.')\n",
        "        lens = [len(set(_)) for _ in  found_perms]\n",
        "        print(f'There are {lens} unique permutations in strings, {sum(lens)} in total.')\n",
        "    return found_perms\n",
        "\n",
        "def rebalance_perms(strings_perms, verbose=False):\n",
        "    # convert to dicts for fast lookup and to keep permutations order\n",
        "    strings_perms = [dict.fromkeys(_) for _ in strings_perms] \n",
        "    for p in strings_perms[0].copy():  # iterate over the copy to allow modification during iteration\n",
        "        if p[:2] != \"12\" and (p in strings_perms[1] or p in strings_perms[2]):\n",
        "            strings_perms[0].pop(p)\n",
        "    for p in strings_perms[1].copy():\n",
        "        if p[:2] != \"12\" and p in strings_perms[2]:\n",
        "            strings_perms[1].pop(p)\n",
        "    if verbose:\n",
        "        lens = [len(_) for _ in  strings_perms]\n",
        "        print(f'There are {lens} permutations left in strings after rebalancing, {sum(lens)} in total.')\n",
        "    return [list(_) for _ in strings_perms] "
      ],
      "metadata": {
        "id": "V5y4X783txv5"
      },
      "execution_count": 15,
      "outputs": []
    },
    {
      "cell_type": "code",
      "source": [
        "found_perms = find_strings_perms(schedule, verbose=True)\n",
        "balanced_perms = rebalance_perms(found_perms, verbose=True)"
      ],
      "metadata": {
        "colab": {
          "base_uri": "https://localhost:8080/"
        },
        "id": "8eaiyjqbt4pu",
        "outputId": "e4184195-95e1-4176-c998-c901860dad9a"
      },
      "execution_count": 16,
      "outputs": [
        {
          "output_type": "stream",
          "name": "stdout",
          "text": [
            "There are [2022, 2009, 1999] permutations in strings, 6030 in total.\n",
            "There are [1955, 1956, 1949] unique permutations in strings, 5860 in total.\n",
            "There are [1527, 1579, 1949] permutations left in strings after rebalancing, 5055 in total.\n"
          ]
        }
      ]
    },
    {
      "cell_type": "markdown",
      "source": [
        "#### Run"
      ],
      "metadata": {
        "id": "xSf159JOt9MX"
      }
    },
    {
      "cell_type": "code",
      "source": [
        "nodes_list = []\n",
        "table_list = []\n",
        "for i in range(3):\n",
        "    word = balanced_perms[i]\n",
        "    nodes = [perm2id[p] for p in balanced_perms[i]]\n",
        "\n",
        "    table = np.zeros((len(nodes), 10), np.int64)\n",
        "    table[0, :] = 7\n",
        "    for i in range(1, len(nodes)):\n",
        "        e = costMat[nodes[i-1], nodes[i]]\n",
        "        ew = costMatWild[nodes[i-1], nodes[i]]\n",
        "        table[i,0] = table[i-1,0] + e\n",
        "        table[i,1] = min(table[i-1,1] + e, table[i-1,0] + ew)\n",
        "        table[i,2] = min(table[i-1,2], table[i-1,1]) + e # TODO: better transition\n",
        "        table[i,3] = min(table[i-1,3], table[i-1,2]) + e\n",
        "        table[i,4] = min(table[i-1,4], table[i-1,3]) + e\n",
        "        table[i,5] = min(table[i-1,5], table[i-1,4]) + e\n",
        "        table[i,6] = min(table[i-1,6], table[i-1,5]) + e\n",
        "        table[i,7] = min(table[i-1,7], table[i-1,6]) + e\n",
        "        table[i,8] = min(table[i-1,8], table[i-1,7]) + e\n",
        "        table[i,9] = min(table[i-1,9] + e, table[i-1,8] + ew)\n",
        "    print(table[-1].min(), table[-1])\n",
        "    nodes_list.append(nodes)\n",
        "    table_list.append(table)\n",
        "    \n",
        "# backtrack\n",
        "new_words = []\n",
        "wilds = []\n",
        "for nodes, table in zip(nodes_list, table_list):\n",
        "    ns = [perms[nodes[-1]]]\n",
        "    track = np.argmin(table[-1])\n",
        "    wild = []\n",
        "    for i in range(len(nodes)-2, -1, -1):\n",
        "        e = costMat[nodes[i], nodes[i+1]]\n",
        "        ew = costMatWild[nodes[i], nodes[i+1]]\n",
        "        if track == 0:\n",
        "            ns.append(perms[nodes[i]][:e])\n",
        "        elif track == 1:\n",
        "            if table[i, 1] + e < table[i, 0] + ew:\n",
        "                ns.append(perms[nodes[i]][:e])\n",
        "            else:\n",
        "                left = np.array(list(map(int, perms[nodes[i]][ew:])))\n",
        "                right = np.array(list(map(int, perms[nodes[i+1]][:-ew])))\n",
        "                mis = np.where(left != right)[0][0]\n",
        "                wild.append(table[i, track-1]-7+ew+mis)\n",
        "                ns.append(perms[nodes[i]][:ew])\n",
        "                track = track - 1\n",
        "        elif 2 <= track <= 8:\n",
        "            if table[i, track] >= table[i, track-1]:\n",
        "                track = track - 1\n",
        "            ns.append(perms[nodes[i]][:e])\n",
        "        elif track == 9:\n",
        "            if table[i, 9] + e < table[i, 8] + ew:\n",
        "                ns.append(perms[nodes[i]][:e])\n",
        "            else:\n",
        "                ns.append(perms[nodes[i]][:ew])\n",
        "                left = np.array(list(map(int, perms[nodes[i]][ew:])))\n",
        "                right = np.array(list(map(int, perms[nodes[i+1]][:-ew])))\n",
        "                mis = np.where(left != right)[0][0]\n",
        "                wild.append(table[i, track-1]-7+ew+mis)\n",
        "                track = track - 1\n",
        "        else:\n",
        "            assert False\n",
        "    assert track == 0\n",
        "    wilds.append(wild)\n",
        "    nsw = list(\"\".join(ns[::-1]))\n",
        "    for w in wild:\n",
        "        nsw[w] = \"*\"\n",
        "    new_words.append(\"\".join(nsw))"
      ],
      "metadata": {
        "colab": {
          "base_uri": "https://localhost:8080/"
        },
        "id": "eiV24ymJt7Ru",
        "outputId": "97689c81-0a42-4f89-a5ea-8c9ee11ea4f0"
      },
      "execution_count": 17,
      "outputs": [
        {
          "output_type": "stream",
          "name": "stdout",
          "text": [
            "2205 [2208 2206 2206 2206 2206 2207 2207 2207 2207 2205]\n",
            "2278 [2286 2282 2282 2282 2282 2282 2282 2282 2282 2278]\n",
            "2695 [2696 2695 2695 2695 2695 2695 2695 2695 2695 2695]\n"
          ]
        }
      ]
    },
    {
      "cell_type": "code",
      "source": [
        "endtime = datetime.datetime.now()\n",
        "print(\"score: \", max(map(len, schedule)), \"->\", max(map(len, new_words)))\n",
        "print(\"execution time : \", endtime - starttime)"
      ],
      "metadata": {
        "colab": {
          "base_uri": "https://localhost:8080/"
        },
        "id": "g068ZNRxuAdS",
        "outputId": "6ddf4314-0605-4734-9d4f-2a4d4cd469e7"
      },
      "execution_count": 18,
      "outputs": [
        {
          "output_type": "stream",
          "name": "stdout",
          "text": [
            "score:  2699 -> 2695\n",
            "execution time :  0:15:00.723675\n"
          ]
        }
      ]
    },
    {
      "cell_type": "markdown",
      "source": [
        "### 7. Submission"
      ],
      "metadata": {
        "id": "Qeh1CTQmuCLc"
      }
    },
    {
      "cell_type": "code",
      "source": [
        "symbols = \"🎅🤶🦌🧝🎄🎁🎀🌟\"\n",
        "submission = pd.Series([a.translate(str.maketrans(\"2413567*\", symbols)) for a in new_words], name='schedule')\n",
        "submission.to_csv('submission.csv', index=False)"
      ],
      "metadata": {
        "id": "pLjWvinluBiD"
      },
      "execution_count": 19,
      "outputs": []
    }
  ]
}
