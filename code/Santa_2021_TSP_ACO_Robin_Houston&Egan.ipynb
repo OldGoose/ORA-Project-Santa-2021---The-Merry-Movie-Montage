{
  "nbformat": 4,
  "nbformat_minor": 0,
  "metadata": {
    "colab": {
      "name": "Santa 2021_TSP_ACO_Robin Houston&Egan.ipynb",
      "provenance": [],
      "authorship_tag": "ABX9TyNeOYCowpLbh9EXHoZh+knL",
      "include_colab_link": true
    },
    "kernelspec": {
      "name": "python3",
      "display_name": "Python 3"
    },
    "language_info": {
      "name": "python"
    },
    "widgets": {
      "application/vnd.jupyter.widget-state+json": {
        "fd06cecca7b742eab0ae400e1d54ee66": {
          "model_module": "@jupyter-widgets/controls",
          "model_name": "HBoxModel",
          "model_module_version": "1.5.0",
          "state": {
            "_view_name": "HBoxView",
            "_dom_classes": [],
            "_model_name": "HBoxModel",
            "_view_module": "@jupyter-widgets/controls",
            "_model_module_version": "1.5.0",
            "_view_count": null,
            "_view_module_version": "1.5.0",
            "box_style": "",
            "layout": "IPY_MODEL_e63dc296c2944a13bdfed6542e6f39d6",
            "_model_module": "@jupyter-widgets/controls",
            "children": [
              "IPY_MODEL_9f949e44328c48ce8104851df19dea74",
              "IPY_MODEL_3dee2497413c4d3c9acb88718ef735bd",
              "IPY_MODEL_ea0fdee692d942ca868f6a745fd3fa30"
            ]
          }
        },
        "e63dc296c2944a13bdfed6542e6f39d6": {
          "model_module": "@jupyter-widgets/base",
          "model_name": "LayoutModel",
          "model_module_version": "1.2.0",
          "state": {
            "_view_name": "LayoutView",
            "grid_template_rows": null,
            "right": null,
            "justify_content": null,
            "_view_module": "@jupyter-widgets/base",
            "overflow": null,
            "_model_module_version": "1.2.0",
            "_view_count": null,
            "flex_flow": null,
            "width": null,
            "min_width": null,
            "border": null,
            "align_items": null,
            "bottom": null,
            "_model_module": "@jupyter-widgets/base",
            "top": null,
            "grid_column": null,
            "overflow_y": null,
            "overflow_x": null,
            "grid_auto_flow": null,
            "grid_area": null,
            "grid_template_columns": null,
            "flex": null,
            "_model_name": "LayoutModel",
            "justify_items": null,
            "grid_row": null,
            "max_height": null,
            "align_content": null,
            "visibility": null,
            "align_self": null,
            "height": null,
            "min_height": null,
            "padding": null,
            "grid_auto_rows": null,
            "grid_gap": null,
            "max_width": null,
            "order": null,
            "_view_module_version": "1.2.0",
            "grid_template_areas": null,
            "object_position": null,
            "object_fit": null,
            "grid_auto_columns": null,
            "margin": null,
            "display": null,
            "left": null
          }
        },
        "9f949e44328c48ce8104851df19dea74": {
          "model_module": "@jupyter-widgets/controls",
          "model_name": "HTMLModel",
          "model_module_version": "1.5.0",
          "state": {
            "_view_name": "HTMLView",
            "style": "IPY_MODEL_0a4b9eb897834884966d75f1a2b2ca44",
            "_dom_classes": [],
            "description": "",
            "_model_name": "HTMLModel",
            "placeholder": "​",
            "_view_module": "@jupyter-widgets/controls",
            "_model_module_version": "1.5.0",
            "value": "map_1: 100%",
            "_view_count": null,
            "_view_module_version": "1.5.0",
            "description_tooltip": null,
            "_model_module": "@jupyter-widgets/controls",
            "layout": "IPY_MODEL_c2a8075401df451ca54a9219aa8cd30c"
          }
        },
        "3dee2497413c4d3c9acb88718ef735bd": {
          "model_module": "@jupyter-widgets/controls",
          "model_name": "FloatProgressModel",
          "model_module_version": "1.5.0",
          "state": {
            "_view_name": "ProgressView",
            "style": "IPY_MODEL_e2b5709785ea453f9a3014c37141589c",
            "_dom_classes": [],
            "description": "",
            "_model_name": "FloatProgressModel",
            "bar_style": "success",
            "max": 150,
            "_view_module": "@jupyter-widgets/controls",
            "_model_module_version": "1.5.0",
            "value": 150,
            "_view_count": null,
            "_view_module_version": "1.5.0",
            "orientation": "horizontal",
            "min": 0,
            "description_tooltip": null,
            "_model_module": "@jupyter-widgets/controls",
            "layout": "IPY_MODEL_77ecb5efd6c84da5bf811b4215e88ff5"
          }
        },
        "ea0fdee692d942ca868f6a745fd3fa30": {
          "model_module": "@jupyter-widgets/controls",
          "model_name": "HTMLModel",
          "model_module_version": "1.5.0",
          "state": {
            "_view_name": "HTMLView",
            "style": "IPY_MODEL_cf8c5e2f9be04ddf86e571dd206c6f19",
            "_dom_classes": [],
            "description": "",
            "_model_name": "HTMLModel",
            "placeholder": "​",
            "_view_module": "@jupyter-widgets/controls",
            "_model_module_version": "1.5.0",
            "value": " 150/150 [04:50&lt;00:00,  1.93s/ant]",
            "_view_count": null,
            "_view_module_version": "1.5.0",
            "description_tooltip": null,
            "_model_module": "@jupyter-widgets/controls",
            "layout": "IPY_MODEL_756ca010676e48cb8b022ab0b9c9f658"
          }
        },
        "0a4b9eb897834884966d75f1a2b2ca44": {
          "model_module": "@jupyter-widgets/controls",
          "model_name": "DescriptionStyleModel",
          "model_module_version": "1.5.0",
          "state": {
            "_view_name": "StyleView",
            "_model_name": "DescriptionStyleModel",
            "description_width": "",
            "_view_module": "@jupyter-widgets/base",
            "_model_module_version": "1.5.0",
            "_view_count": null,
            "_view_module_version": "1.2.0",
            "_model_module": "@jupyter-widgets/controls"
          }
        },
        "c2a8075401df451ca54a9219aa8cd30c": {
          "model_module": "@jupyter-widgets/base",
          "model_name": "LayoutModel",
          "model_module_version": "1.2.0",
          "state": {
            "_view_name": "LayoutView",
            "grid_template_rows": null,
            "right": null,
            "justify_content": null,
            "_view_module": "@jupyter-widgets/base",
            "overflow": null,
            "_model_module_version": "1.2.0",
            "_view_count": null,
            "flex_flow": null,
            "width": null,
            "min_width": null,
            "border": null,
            "align_items": null,
            "bottom": null,
            "_model_module": "@jupyter-widgets/base",
            "top": null,
            "grid_column": null,
            "overflow_y": null,
            "overflow_x": null,
            "grid_auto_flow": null,
            "grid_area": null,
            "grid_template_columns": null,
            "flex": null,
            "_model_name": "LayoutModel",
            "justify_items": null,
            "grid_row": null,
            "max_height": null,
            "align_content": null,
            "visibility": null,
            "align_self": null,
            "height": null,
            "min_height": null,
            "padding": null,
            "grid_auto_rows": null,
            "grid_gap": null,
            "max_width": null,
            "order": null,
            "_view_module_version": "1.2.0",
            "grid_template_areas": null,
            "object_position": null,
            "object_fit": null,
            "grid_auto_columns": null,
            "margin": null,
            "display": null,
            "left": null
          }
        },
        "e2b5709785ea453f9a3014c37141589c": {
          "model_module": "@jupyter-widgets/controls",
          "model_name": "ProgressStyleModel",
          "model_module_version": "1.5.0",
          "state": {
            "_view_name": "StyleView",
            "_model_name": "ProgressStyleModel",
            "description_width": "",
            "_view_module": "@jupyter-widgets/base",
            "_model_module_version": "1.5.0",
            "_view_count": null,
            "_view_module_version": "1.2.0",
            "bar_color": null,
            "_model_module": "@jupyter-widgets/controls"
          }
        },
        "77ecb5efd6c84da5bf811b4215e88ff5": {
          "model_module": "@jupyter-widgets/base",
          "model_name": "LayoutModel",
          "model_module_version": "1.2.0",
          "state": {
            "_view_name": "LayoutView",
            "grid_template_rows": null,
            "right": null,
            "justify_content": null,
            "_view_module": "@jupyter-widgets/base",
            "overflow": null,
            "_model_module_version": "1.2.0",
            "_view_count": null,
            "flex_flow": null,
            "width": null,
            "min_width": null,
            "border": null,
            "align_items": null,
            "bottom": null,
            "_model_module": "@jupyter-widgets/base",
            "top": null,
            "grid_column": null,
            "overflow_y": null,
            "overflow_x": null,
            "grid_auto_flow": null,
            "grid_area": null,
            "grid_template_columns": null,
            "flex": null,
            "_model_name": "LayoutModel",
            "justify_items": null,
            "grid_row": null,
            "max_height": null,
            "align_content": null,
            "visibility": null,
            "align_self": null,
            "height": null,
            "min_height": null,
            "padding": null,
            "grid_auto_rows": null,
            "grid_gap": null,
            "max_width": null,
            "order": null,
            "_view_module_version": "1.2.0",
            "grid_template_areas": null,
            "object_position": null,
            "object_fit": null,
            "grid_auto_columns": null,
            "margin": null,
            "display": null,
            "left": null
          }
        },
        "cf8c5e2f9be04ddf86e571dd206c6f19": {
          "model_module": "@jupyter-widgets/controls",
          "model_name": "DescriptionStyleModel",
          "model_module_version": "1.5.0",
          "state": {
            "_view_name": "StyleView",
            "_model_name": "DescriptionStyleModel",
            "description_width": "",
            "_view_module": "@jupyter-widgets/base",
            "_model_module_version": "1.5.0",
            "_view_count": null,
            "_view_module_version": "1.2.0",
            "_model_module": "@jupyter-widgets/controls"
          }
        },
        "756ca010676e48cb8b022ab0b9c9f658": {
          "model_module": "@jupyter-widgets/base",
          "model_name": "LayoutModel",
          "model_module_version": "1.2.0",
          "state": {
            "_view_name": "LayoutView",
            "grid_template_rows": null,
            "right": null,
            "justify_content": null,
            "_view_module": "@jupyter-widgets/base",
            "overflow": null,
            "_model_module_version": "1.2.0",
            "_view_count": null,
            "flex_flow": null,
            "width": null,
            "min_width": null,
            "border": null,
            "align_items": null,
            "bottom": null,
            "_model_module": "@jupyter-widgets/base",
            "top": null,
            "grid_column": null,
            "overflow_y": null,
            "overflow_x": null,
            "grid_auto_flow": null,
            "grid_area": null,
            "grid_template_columns": null,
            "flex": null,
            "_model_name": "LayoutModel",
            "justify_items": null,
            "grid_row": null,
            "max_height": null,
            "align_content": null,
            "visibility": null,
            "align_self": null,
            "height": null,
            "min_height": null,
            "padding": null,
            "grid_auto_rows": null,
            "grid_gap": null,
            "max_width": null,
            "order": null,
            "_view_module_version": "1.2.0",
            "grid_template_areas": null,
            "object_position": null,
            "object_fit": null,
            "grid_auto_columns": null,
            "margin": null,
            "display": null,
            "left": null
          }
        },
        "95a2908b314c46eabf4b7d03b0f955fa": {
          "model_module": "@jupyter-widgets/controls",
          "model_name": "HBoxModel",
          "model_module_version": "1.5.0",
          "state": {
            "_view_name": "HBoxView",
            "_dom_classes": [],
            "_model_name": "HBoxModel",
            "_view_module": "@jupyter-widgets/controls",
            "_model_module_version": "1.5.0",
            "_view_count": null,
            "_view_module_version": "1.5.0",
            "box_style": "",
            "layout": "IPY_MODEL_ed6aa81edeae43f9ba11ff4ca75bcb14",
            "_model_module": "@jupyter-widgets/controls",
            "children": [
              "IPY_MODEL_fed5493a8afa45aca01422f2ed13730b",
              "IPY_MODEL_5f33388d089b4877b62aad074f0337c1",
              "IPY_MODEL_c9ab5ceee78b474a8e3dfc5d1a3912c5"
            ]
          }
        },
        "ed6aa81edeae43f9ba11ff4ca75bcb14": {
          "model_module": "@jupyter-widgets/base",
          "model_name": "LayoutModel",
          "model_module_version": "1.2.0",
          "state": {
            "_view_name": "LayoutView",
            "grid_template_rows": null,
            "right": null,
            "justify_content": null,
            "_view_module": "@jupyter-widgets/base",
            "overflow": null,
            "_model_module_version": "1.2.0",
            "_view_count": null,
            "flex_flow": null,
            "width": null,
            "min_width": null,
            "border": null,
            "align_items": null,
            "bottom": null,
            "_model_module": "@jupyter-widgets/base",
            "top": null,
            "grid_column": null,
            "overflow_y": null,
            "overflow_x": null,
            "grid_auto_flow": null,
            "grid_area": null,
            "grid_template_columns": null,
            "flex": null,
            "_model_name": "LayoutModel",
            "justify_items": null,
            "grid_row": null,
            "max_height": null,
            "align_content": null,
            "visibility": null,
            "align_self": null,
            "height": null,
            "min_height": null,
            "padding": null,
            "grid_auto_rows": null,
            "grid_gap": null,
            "max_width": null,
            "order": null,
            "_view_module_version": "1.2.0",
            "grid_template_areas": null,
            "object_position": null,
            "object_fit": null,
            "grid_auto_columns": null,
            "margin": null,
            "display": null,
            "left": null
          }
        },
        "fed5493a8afa45aca01422f2ed13730b": {
          "model_module": "@jupyter-widgets/controls",
          "model_name": "HTMLModel",
          "model_module_version": "1.5.0",
          "state": {
            "_view_name": "HTMLView",
            "style": "IPY_MODEL_4039b9e5cda0487e8d7d1ae50f5c80c7",
            "_dom_classes": [],
            "description": "",
            "_model_name": "HTMLModel",
            "placeholder": "​",
            "_view_module": "@jupyter-widgets/controls",
            "_model_module_version": "1.5.0",
            "value": "map_2: 100%",
            "_view_count": null,
            "_view_module_version": "1.5.0",
            "description_tooltip": null,
            "_model_module": "@jupyter-widgets/controls",
            "layout": "IPY_MODEL_46e924ef937b4c33bb6d2f8627d11d3d"
          }
        },
        "5f33388d089b4877b62aad074f0337c1": {
          "model_module": "@jupyter-widgets/controls",
          "model_name": "FloatProgressModel",
          "model_module_version": "1.5.0",
          "state": {
            "_view_name": "ProgressView",
            "style": "IPY_MODEL_ae73ebff1d424e3b8e1f330a2dc8e12f",
            "_dom_classes": [],
            "description": "",
            "_model_name": "FloatProgressModel",
            "bar_style": "success",
            "max": 150,
            "_view_module": "@jupyter-widgets/controls",
            "_model_module_version": "1.5.0",
            "value": 150,
            "_view_count": null,
            "_view_module_version": "1.5.0",
            "orientation": "horizontal",
            "min": 0,
            "description_tooltip": null,
            "_model_module": "@jupyter-widgets/controls",
            "layout": "IPY_MODEL_8a00cda5bdc347e4893fb59bd90e49a9"
          }
        },
        "c9ab5ceee78b474a8e3dfc5d1a3912c5": {
          "model_module": "@jupyter-widgets/controls",
          "model_name": "HTMLModel",
          "model_module_version": "1.5.0",
          "state": {
            "_view_name": "HTMLView",
            "style": "IPY_MODEL_e7ea30e2cf654186943e5198b34ccaf7",
            "_dom_classes": [],
            "description": "",
            "_model_name": "HTMLModel",
            "placeholder": "​",
            "_view_module": "@jupyter-widgets/controls",
            "_model_module_version": "1.5.0",
            "value": " 150/150 [04:52&lt;00:00,  1.93s/ant]",
            "_view_count": null,
            "_view_module_version": "1.5.0",
            "description_tooltip": null,
            "_model_module": "@jupyter-widgets/controls",
            "layout": "IPY_MODEL_a04fa3611c78456a9ab88d3c755e05af"
          }
        },
        "4039b9e5cda0487e8d7d1ae50f5c80c7": {
          "model_module": "@jupyter-widgets/controls",
          "model_name": "DescriptionStyleModel",
          "model_module_version": "1.5.0",
          "state": {
            "_view_name": "StyleView",
            "_model_name": "DescriptionStyleModel",
            "description_width": "",
            "_view_module": "@jupyter-widgets/base",
            "_model_module_version": "1.5.0",
            "_view_count": null,
            "_view_module_version": "1.2.0",
            "_model_module": "@jupyter-widgets/controls"
          }
        },
        "46e924ef937b4c33bb6d2f8627d11d3d": {
          "model_module": "@jupyter-widgets/base",
          "model_name": "LayoutModel",
          "model_module_version": "1.2.0",
          "state": {
            "_view_name": "LayoutView",
            "grid_template_rows": null,
            "right": null,
            "justify_content": null,
            "_view_module": "@jupyter-widgets/base",
            "overflow": null,
            "_model_module_version": "1.2.0",
            "_view_count": null,
            "flex_flow": null,
            "width": null,
            "min_width": null,
            "border": null,
            "align_items": null,
            "bottom": null,
            "_model_module": "@jupyter-widgets/base",
            "top": null,
            "grid_column": null,
            "overflow_y": null,
            "overflow_x": null,
            "grid_auto_flow": null,
            "grid_area": null,
            "grid_template_columns": null,
            "flex": null,
            "_model_name": "LayoutModel",
            "justify_items": null,
            "grid_row": null,
            "max_height": null,
            "align_content": null,
            "visibility": null,
            "align_self": null,
            "height": null,
            "min_height": null,
            "padding": null,
            "grid_auto_rows": null,
            "grid_gap": null,
            "max_width": null,
            "order": null,
            "_view_module_version": "1.2.0",
            "grid_template_areas": null,
            "object_position": null,
            "object_fit": null,
            "grid_auto_columns": null,
            "margin": null,
            "display": null,
            "left": null
          }
        },
        "ae73ebff1d424e3b8e1f330a2dc8e12f": {
          "model_module": "@jupyter-widgets/controls",
          "model_name": "ProgressStyleModel",
          "model_module_version": "1.5.0",
          "state": {
            "_view_name": "StyleView",
            "_model_name": "ProgressStyleModel",
            "description_width": "",
            "_view_module": "@jupyter-widgets/base",
            "_model_module_version": "1.5.0",
            "_view_count": null,
            "_view_module_version": "1.2.0",
            "bar_color": null,
            "_model_module": "@jupyter-widgets/controls"
          }
        },
        "8a00cda5bdc347e4893fb59bd90e49a9": {
          "model_module": "@jupyter-widgets/base",
          "model_name": "LayoutModel",
          "model_module_version": "1.2.0",
          "state": {
            "_view_name": "LayoutView",
            "grid_template_rows": null,
            "right": null,
            "justify_content": null,
            "_view_module": "@jupyter-widgets/base",
            "overflow": null,
            "_model_module_version": "1.2.0",
            "_view_count": null,
            "flex_flow": null,
            "width": null,
            "min_width": null,
            "border": null,
            "align_items": null,
            "bottom": null,
            "_model_module": "@jupyter-widgets/base",
            "top": null,
            "grid_column": null,
            "overflow_y": null,
            "overflow_x": null,
            "grid_auto_flow": null,
            "grid_area": null,
            "grid_template_columns": null,
            "flex": null,
            "_model_name": "LayoutModel",
            "justify_items": null,
            "grid_row": null,
            "max_height": null,
            "align_content": null,
            "visibility": null,
            "align_self": null,
            "height": null,
            "min_height": null,
            "padding": null,
            "grid_auto_rows": null,
            "grid_gap": null,
            "max_width": null,
            "order": null,
            "_view_module_version": "1.2.0",
            "grid_template_areas": null,
            "object_position": null,
            "object_fit": null,
            "grid_auto_columns": null,
            "margin": null,
            "display": null,
            "left": null
          }
        },
        "e7ea30e2cf654186943e5198b34ccaf7": {
          "model_module": "@jupyter-widgets/controls",
          "model_name": "DescriptionStyleModel",
          "model_module_version": "1.5.0",
          "state": {
            "_view_name": "StyleView",
            "_model_name": "DescriptionStyleModel",
            "description_width": "",
            "_view_module": "@jupyter-widgets/base",
            "_model_module_version": "1.5.0",
            "_view_count": null,
            "_view_module_version": "1.2.0",
            "_model_module": "@jupyter-widgets/controls"
          }
        },
        "a04fa3611c78456a9ab88d3c755e05af": {
          "model_module": "@jupyter-widgets/base",
          "model_name": "LayoutModel",
          "model_module_version": "1.2.0",
          "state": {
            "_view_name": "LayoutView",
            "grid_template_rows": null,
            "right": null,
            "justify_content": null,
            "_view_module": "@jupyter-widgets/base",
            "overflow": null,
            "_model_module_version": "1.2.0",
            "_view_count": null,
            "flex_flow": null,
            "width": null,
            "min_width": null,
            "border": null,
            "align_items": null,
            "bottom": null,
            "_model_module": "@jupyter-widgets/base",
            "top": null,
            "grid_column": null,
            "overflow_y": null,
            "overflow_x": null,
            "grid_auto_flow": null,
            "grid_area": null,
            "grid_template_columns": null,
            "flex": null,
            "_model_name": "LayoutModel",
            "justify_items": null,
            "grid_row": null,
            "max_height": null,
            "align_content": null,
            "visibility": null,
            "align_self": null,
            "height": null,
            "min_height": null,
            "padding": null,
            "grid_auto_rows": null,
            "grid_gap": null,
            "max_width": null,
            "order": null,
            "_view_module_version": "1.2.0",
            "grid_template_areas": null,
            "object_position": null,
            "object_fit": null,
            "grid_auto_columns": null,
            "margin": null,
            "display": null,
            "left": null
          }
        },
        "e3e7023e3d7b4fd9857d0b1f43c39c6d": {
          "model_module": "@jupyter-widgets/controls",
          "model_name": "HBoxModel",
          "model_module_version": "1.5.0",
          "state": {
            "_view_name": "HBoxView",
            "_dom_classes": [],
            "_model_name": "HBoxModel",
            "_view_module": "@jupyter-widgets/controls",
            "_model_module_version": "1.5.0",
            "_view_count": null,
            "_view_module_version": "1.5.0",
            "box_style": "",
            "layout": "IPY_MODEL_00b1c8e255f7488da68a7f944060ea4f",
            "_model_module": "@jupyter-widgets/controls",
            "children": [
              "IPY_MODEL_86285e81d10741b894af64b4553298fd",
              "IPY_MODEL_49d40fc87cad4641939b6b0ec2d5dda4",
              "IPY_MODEL_0928fa257482466d94f45e6b6fd2a850"
            ]
          }
        },
        "00b1c8e255f7488da68a7f944060ea4f": {
          "model_module": "@jupyter-widgets/base",
          "model_name": "LayoutModel",
          "model_module_version": "1.2.0",
          "state": {
            "_view_name": "LayoutView",
            "grid_template_rows": null,
            "right": null,
            "justify_content": null,
            "_view_module": "@jupyter-widgets/base",
            "overflow": null,
            "_model_module_version": "1.2.0",
            "_view_count": null,
            "flex_flow": null,
            "width": null,
            "min_width": null,
            "border": null,
            "align_items": null,
            "bottom": null,
            "_model_module": "@jupyter-widgets/base",
            "top": null,
            "grid_column": null,
            "overflow_y": null,
            "overflow_x": null,
            "grid_auto_flow": null,
            "grid_area": null,
            "grid_template_columns": null,
            "flex": null,
            "_model_name": "LayoutModel",
            "justify_items": null,
            "grid_row": null,
            "max_height": null,
            "align_content": null,
            "visibility": null,
            "align_self": null,
            "height": null,
            "min_height": null,
            "padding": null,
            "grid_auto_rows": null,
            "grid_gap": null,
            "max_width": null,
            "order": null,
            "_view_module_version": "1.2.0",
            "grid_template_areas": null,
            "object_position": null,
            "object_fit": null,
            "grid_auto_columns": null,
            "margin": null,
            "display": null,
            "left": null
          }
        },
        "86285e81d10741b894af64b4553298fd": {
          "model_module": "@jupyter-widgets/controls",
          "model_name": "HTMLModel",
          "model_module_version": "1.5.0",
          "state": {
            "_view_name": "HTMLView",
            "style": "IPY_MODEL_a772c2177c744f1cb971bb54d72f459c",
            "_dom_classes": [],
            "description": "",
            "_model_name": "HTMLModel",
            "placeholder": "​",
            "_view_module": "@jupyter-widgets/controls",
            "_model_module_version": "1.5.0",
            "value": "map_3: 100%",
            "_view_count": null,
            "_view_module_version": "1.5.0",
            "description_tooltip": null,
            "_model_module": "@jupyter-widgets/controls",
            "layout": "IPY_MODEL_2ef68170ddca4b1abd7a3a0181c19edf"
          }
        },
        "49d40fc87cad4641939b6b0ec2d5dda4": {
          "model_module": "@jupyter-widgets/controls",
          "model_name": "FloatProgressModel",
          "model_module_version": "1.5.0",
          "state": {
            "_view_name": "ProgressView",
            "style": "IPY_MODEL_a678c50a4c8b4675ad98998afd55e963",
            "_dom_classes": [],
            "description": "",
            "_model_name": "FloatProgressModel",
            "bar_style": "success",
            "max": 150,
            "_view_module": "@jupyter-widgets/controls",
            "_model_module_version": "1.5.0",
            "value": 150,
            "_view_count": null,
            "_view_module_version": "1.5.0",
            "orientation": "horizontal",
            "min": 0,
            "description_tooltip": null,
            "_model_module": "@jupyter-widgets/controls",
            "layout": "IPY_MODEL_20a2b673bb264a25a184f188f2869be3"
          }
        },
        "0928fa257482466d94f45e6b6fd2a850": {
          "model_module": "@jupyter-widgets/controls",
          "model_name": "HTMLModel",
          "model_module_version": "1.5.0",
          "state": {
            "_view_name": "HTMLView",
            "style": "IPY_MODEL_d14009a798024396a24de6c79415df3d",
            "_dom_classes": [],
            "description": "",
            "_model_name": "HTMLModel",
            "placeholder": "​",
            "_view_module": "@jupyter-widgets/controls",
            "_model_module_version": "1.5.0",
            "value": " 150/150 [04:56&lt;00:00,  1.96s/ant]",
            "_view_count": null,
            "_view_module_version": "1.5.0",
            "description_tooltip": null,
            "_model_module": "@jupyter-widgets/controls",
            "layout": "IPY_MODEL_e497282ba86646169ff03ea7dee4d75b"
          }
        },
        "a772c2177c744f1cb971bb54d72f459c": {
          "model_module": "@jupyter-widgets/controls",
          "model_name": "DescriptionStyleModel",
          "model_module_version": "1.5.0",
          "state": {
            "_view_name": "StyleView",
            "_model_name": "DescriptionStyleModel",
            "description_width": "",
            "_view_module": "@jupyter-widgets/base",
            "_model_module_version": "1.5.0",
            "_view_count": null,
            "_view_module_version": "1.2.0",
            "_model_module": "@jupyter-widgets/controls"
          }
        },
        "2ef68170ddca4b1abd7a3a0181c19edf": {
          "model_module": "@jupyter-widgets/base",
          "model_name": "LayoutModel",
          "model_module_version": "1.2.0",
          "state": {
            "_view_name": "LayoutView",
            "grid_template_rows": null,
            "right": null,
            "justify_content": null,
            "_view_module": "@jupyter-widgets/base",
            "overflow": null,
            "_model_module_version": "1.2.0",
            "_view_count": null,
            "flex_flow": null,
            "width": null,
            "min_width": null,
            "border": null,
            "align_items": null,
            "bottom": null,
            "_model_module": "@jupyter-widgets/base",
            "top": null,
            "grid_column": null,
            "overflow_y": null,
            "overflow_x": null,
            "grid_auto_flow": null,
            "grid_area": null,
            "grid_template_columns": null,
            "flex": null,
            "_model_name": "LayoutModel",
            "justify_items": null,
            "grid_row": null,
            "max_height": null,
            "align_content": null,
            "visibility": null,
            "align_self": null,
            "height": null,
            "min_height": null,
            "padding": null,
            "grid_auto_rows": null,
            "grid_gap": null,
            "max_width": null,
            "order": null,
            "_view_module_version": "1.2.0",
            "grid_template_areas": null,
            "object_position": null,
            "object_fit": null,
            "grid_auto_columns": null,
            "margin": null,
            "display": null,
            "left": null
          }
        },
        "a678c50a4c8b4675ad98998afd55e963": {
          "model_module": "@jupyter-widgets/controls",
          "model_name": "ProgressStyleModel",
          "model_module_version": "1.5.0",
          "state": {
            "_view_name": "StyleView",
            "_model_name": "ProgressStyleModel",
            "description_width": "",
            "_view_module": "@jupyter-widgets/base",
            "_model_module_version": "1.5.0",
            "_view_count": null,
            "_view_module_version": "1.2.0",
            "bar_color": null,
            "_model_module": "@jupyter-widgets/controls"
          }
        },
        "20a2b673bb264a25a184f188f2869be3": {
          "model_module": "@jupyter-widgets/base",
          "model_name": "LayoutModel",
          "model_module_version": "1.2.0",
          "state": {
            "_view_name": "LayoutView",
            "grid_template_rows": null,
            "right": null,
            "justify_content": null,
            "_view_module": "@jupyter-widgets/base",
            "overflow": null,
            "_model_module_version": "1.2.0",
            "_view_count": null,
            "flex_flow": null,
            "width": null,
            "min_width": null,
            "border": null,
            "align_items": null,
            "bottom": null,
            "_model_module": "@jupyter-widgets/base",
            "top": null,
            "grid_column": null,
            "overflow_y": null,
            "overflow_x": null,
            "grid_auto_flow": null,
            "grid_area": null,
            "grid_template_columns": null,
            "flex": null,
            "_model_name": "LayoutModel",
            "justify_items": null,
            "grid_row": null,
            "max_height": null,
            "align_content": null,
            "visibility": null,
            "align_self": null,
            "height": null,
            "min_height": null,
            "padding": null,
            "grid_auto_rows": null,
            "grid_gap": null,
            "max_width": null,
            "order": null,
            "_view_module_version": "1.2.0",
            "grid_template_areas": null,
            "object_position": null,
            "object_fit": null,
            "grid_auto_columns": null,
            "margin": null,
            "display": null,
            "left": null
          }
        },
        "d14009a798024396a24de6c79415df3d": {
          "model_module": "@jupyter-widgets/controls",
          "model_name": "DescriptionStyleModel",
          "model_module_version": "1.5.0",
          "state": {
            "_view_name": "StyleView",
            "_model_name": "DescriptionStyleModel",
            "description_width": "",
            "_view_module": "@jupyter-widgets/base",
            "_model_module_version": "1.5.0",
            "_view_count": null,
            "_view_module_version": "1.2.0",
            "_model_module": "@jupyter-widgets/controls"
          }
        },
        "e497282ba86646169ff03ea7dee4d75b": {
          "model_module": "@jupyter-widgets/base",
          "model_name": "LayoutModel",
          "model_module_version": "1.2.0",
          "state": {
            "_view_name": "LayoutView",
            "grid_template_rows": null,
            "right": null,
            "justify_content": null,
            "_view_module": "@jupyter-widgets/base",
            "overflow": null,
            "_model_module_version": "1.2.0",
            "_view_count": null,
            "flex_flow": null,
            "width": null,
            "min_width": null,
            "border": null,
            "align_items": null,
            "bottom": null,
            "_model_module": "@jupyter-widgets/base",
            "top": null,
            "grid_column": null,
            "overflow_y": null,
            "overflow_x": null,
            "grid_auto_flow": null,
            "grid_area": null,
            "grid_template_columns": null,
            "flex": null,
            "_model_name": "LayoutModel",
            "justify_items": null,
            "grid_row": null,
            "max_height": null,
            "align_content": null,
            "visibility": null,
            "align_self": null,
            "height": null,
            "min_height": null,
            "padding": null,
            "grid_auto_rows": null,
            "grid_gap": null,
            "max_width": null,
            "order": null,
            "_view_module_version": "1.2.0",
            "grid_template_areas": null,
            "object_position": null,
            "object_fit": null,
            "grid_auto_columns": null,
            "margin": null,
            "display": null,
            "left": null
          }
        }
      }
    }
  },
  "cells": [
    {
      "cell_type": "markdown",
      "metadata": {
        "id": "view-in-github",
        "colab_type": "text"
      },
      "source": [
        "<a href=\"https://colab.research.google.com/github/OldGoose/ORA-Project-Santa-2021---The-Merry-Movie-Montage/blob/main/Santa_2021_TSP_ACO_Robin_Houston%26Egan.ipynb\" target=\"_parent\"><img src=\"https://colab.research.google.com/assets/colab-badge.svg\" alt=\"Open In Colab\"/></a>"
      ]
    },
    {
      "cell_type": "markdown",
      "source": [
        "# Robin Houston & Egan propsed 7! superpertation with ACO."
      ],
      "metadata": {
        "id": "qf1nYGrMaCQR"
      }
    },
    {
      "cell_type": "markdown",
      "source": [
        "In this notebook, we use 7! superpermutation which from Robin Houston to our initial data. The flowchart as below:\n",
        "![image.png](data:image/png;base64,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)\n",
        "#### REFERENCES\n",
        "https://www.kaggle.com/adrienbouvais/ants-for-santa-an-ant-colony-optimization  <br />\n",
        "https://www.kaggle.com/yosshi999/wildcard-postprocessing-using-dynamic-programming"
      ],
      "metadata": {
        "id": "d7gdZ8-lYg40"
      }
    },
    {
      "cell_type": "markdown",
      "source": [
        "### Import Package"
      ],
      "metadata": {
        "id": "QT_hjPJQeO0i"
      }
    },
    {
      "cell_type": "code",
      "execution_count": null,
      "metadata": {
        "colab": {
          "base_uri": "https://localhost:8080/"
        },
        "id": "oYwQgLkVBQuJ",
        "outputId": "f6dee204-fe19-4b69-8de5-46462ce89a3c"
      },
      "outputs": [
        {
          "output_type": "stream",
          "name": "stdout",
          "text": [
            "Mounted at /content/drive\n"
          ]
        }
      ],
      "source": [
        "import itertools\n",
        "import random\n",
        "import numpy as np\n",
        "import pandas as pd\n",
        "import torch\n",
        "import torch.nn.functional as F\n",
        "import matplotlib.pyplot as plt\n",
        "import datetime\n",
        "from tqdm.notebook import tqdm\n",
        "import os\n",
        "from google.colab import drive\n",
        "drive.mount('/content/drive')\n",
        "os.chdir('/content/drive/My Drive/Santa2021') "
      ]
    },
    {
      "cell_type": "markdown",
      "source": [
        "### 1. 7! Supermutation\n",
        "We can get the superpermutation for n = 7 from Robin Houston and Egan which length 5906 on 27 February 2019."
      ],
      "metadata": {
        "id": "hkI00axjOjfo"
      }
    },
    {
      "cell_type": "code",
      "source": [
        "best = \"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\"\n",
        "len(best)"
      ],
      "metadata": {
        "colab": {
          "base_uri": "https://localhost:8080/"
        },
        "id": "apF-h26hOkDn",
        "outputId": "78c80e6a-b1f8-49c9-e973-c3c12b4340c4"
      },
      "execution_count": null,
      "outputs": [
        {
          "output_type": "execute_result",
          "data": {
            "text/plain": [
              "5906"
            ]
          },
          "metadata": {},
          "execution_count": 2
        }
      ]
    },
    {
      "cell_type": "markdown",
      "source": [
        "### 1. Divide into 3 groups\n",
        "From this formula $𝑝_𝑘^𝑛 = \\frac{𝑛!}{(𝑛−𝑘)!}$ we can get the following seven symbols (🎅🤶🦌🧝🎄🎁🎀) with a total of 5040 permutations (ie, a total of 5040 movie)\n",
        "Due to the constrain of the problem, there are a total of 120 movies starting with these 🎅🤶 two symbols, and we have to put them into each group.\n",
        "After deducting those 120 films, we divide the remaining 4920 films into three equal parts.\n",
        "\n",
        "First, we need to decide which code is represent 🎅🤶."
      ],
      "metadata": {
        "id": "Po5S4k4dfTe6"
      }
    },
    {
      "cell_type": "code",
      "source": [
        "split_id = [len(best) // 3, len(best)*2//3]\n",
        "t1, t2 = split_id\n",
        "\n",
        "strings = [best[:t1], best[t1:t2], best[t2:]]\n",
        "g1 = strings[0]\n",
        "g2 = strings[1]\n",
        "g3 = strings[2]\n",
        "\n",
        "check = []\n",
        "for i in range(1,8):\n",
        "    for j in range(1,8):\n",
        "        if i != j:\n",
        "            check.append(str(i)+str(j))\n",
        "check = np.array(check)\n",
        "\n",
        "data = pd.DataFrame()\n",
        "column = list(check)\n",
        "index = ['group1','group2','group3']\n",
        "data = pd.DataFrame(columns=column,index=index)\n",
        "\n",
        "for i in list(check):\n",
        "    data[i][0] = (g1.count(i))\n",
        "    data[i][1] = (g2.count(i))\n",
        "    data[i][2] = (g3.count(i))\n",
        "data = data.append(data.std(axis= 0) ,ignore_index=True)\n",
        "data1 = data.T[3]\n",
        "for i in range(len(data1)):\n",
        "    if data1[i] == data1.min(axis=0):\n",
        "        min_id = (data1.index[i]) \n",
        "print(\"The Min Standard Deviation is: \" + str(data.stack().min()) + \" at \"  + (min_id) + \".\")"
      ],
      "metadata": {
        "colab": {
          "base_uri": "https://localhost:8080/"
        },
        "id": "p6GCBldrfSBn",
        "outputId": "f64fbb16-fbc6-4981-fcb8-318c5f358a0a"
      },
      "execution_count": null,
      "outputs": [
        {
          "output_type": "stream",
          "name": "stdout",
          "text": [
            "The Min Standard Deviation is: 0.5773502691896258 at 24.\n"
          ]
        }
      ]
    },
    {
      "cell_type": "markdown",
      "source": [
        "So, we choose 24 to represent the 🎅🤶."
      ],
      "metadata": {
        "id": "7CvjUufTovsk"
      }
    },
    {
      "cell_type": "code",
      "source": [
        "def is_perm(s):\n",
        "    y = True\n",
        "    for k in range(1,8):\n",
        "        y = y&(str(k) in s)\n",
        "        if not y: break\n",
        "    return y\n",
        "\n",
        "permutations = []\n",
        "\n",
        "for k in range(len(best)-6):\n",
        "    s = best[k:k+7]\n",
        "    if (is_perm(s))&(s not in permutations)&(s[:2]!='24'):\n",
        "        permutations.append(s)\n",
        "        \n",
        "print('There are',len(permutations),'movies')\n",
        "\n",
        "mandatory = ['24'+''.join(x) for x in itertools.permutations(['1','3','5','6','7'], 5)]\n",
        "print('In addition',len(mandatory),'which movie starting with 🎅🤶 must appear in each group.')"
      ],
      "metadata": {
        "colab": {
          "base_uri": "https://localhost:8080/"
        },
        "id": "RtnMNMeBo3G7",
        "outputId": "39eacf8a-6598-4f69-acbe-8b3fe48032c1"
      },
      "execution_count": null,
      "outputs": [
        {
          "output_type": "stream",
          "name": "stdout",
          "text": [
            "There are 4920 movies\n",
            "In addition 120 which movie starting with 🎅🤶 must appear in each group.\n"
          ]
        }
      ]
    },
    {
      "cell_type": "code",
      "source": [
        "#find the split point\n",
        "split_id = [len(permutations) // 3, len(permutations)*2//3]\n",
        "t1, t2 = split_id\n",
        "\n",
        "adjust1 = 0\n",
        "adjust2 = 0\n",
        "group1 = permutations[:t1-adjust1] + mandatory\n",
        "group2 = permutations[t1-adjust1:t2+adjust2] + mandatory\n",
        "group3 = permutations[t2+adjust2:] + mandatory\n",
        "\n",
        "len(group1), len(group2), len(group3)"
      ],
      "metadata": {
        "colab": {
          "base_uri": "https://localhost:8080/"
        },
        "id": "Aw_JWQHYpn-U",
        "outputId": "9f584bce-5e6d-45a2-f87d-dab3d8ad6fe0"
      },
      "execution_count": null,
      "outputs": [
        {
          "output_type": "execute_result",
          "data": {
            "text/plain": [
              "(1760, 1760, 1760)"
            ]
          },
          "metadata": {},
          "execution_count": 5
        }
      ]
    },
    {
      "cell_type": "markdown",
      "source": [
        "### 3. Check and add movies with \"🎅🤶\" in all group."
      ],
      "metadata": {
        "id": "EALjv46Lp3IC"
      }
    },
    {
      "cell_type": "code",
      "source": [
        "all_permutations = [''.join(x) for x in itertools.permutations(['1','2','3','4','5','6','7'], 7)]\n",
        "\n",
        "for p in all_permutations:\n",
        "    if p not in group1 and p not in group2 and p not in group3:\n",
        "        print(p)"
      ],
      "metadata": {
        "id": "NXIAD3STqSGc"
      },
      "execution_count": null,
      "outputs": []
    },
    {
      "cell_type": "markdown",
      "source": [
        "### 4.Execute ACO"
      ],
      "metadata": {
        "id": "t9Fw5hoSo9u-"
      }
    },
    {
      "cell_type": "code",
      "source": [
        "# The ant class\n",
        "class Ant:\n",
        "    def __init__(self, map):\n",
        "        self.map = map\n",
        "        self.visited = np.ones((self.map.nb_city,), dtype = bool)  # Boolean of if the city has been visited\n",
        "        self.position_id = self.map.city.index(random.choice(self.map.city))  # Id of current position\n",
        "        self.visited[self.position_id] = 0\n",
        "        self.dist_trav = 7  # Distance traveled\n",
        "        self.path = self.map.city[self.position_id] # What we are looking for\n",
        "        self.path_id = [0] * self.map.nb_city # History of the path for pheromones\n",
        "        self.path_id[0] = self.position_id\n",
        "        self.path_act_id = 1\n",
        "\n",
        "    def update(self):\n",
        "        dis, phero = self.map.dist_mat[self.position_id, :], self.map.pheros[self.position_id, :]\n",
        "        dis[dis < 0] = self.map.inf_dist\n",
        "\n",
        "        weight = (self.visited * phero) / ((dis * 2) ** self.map.coef_dist_puiss)\n",
        "\n",
        "        next_city_id = random.choices(range(self.map.nb_city), weights=weight, k=1)[0]\n",
        "\n",
        "        self.path += self.map.city[next_city_id][(7-int(dis[next_city_id])):]\n",
        "        self.path_id[self.path_act_id] = next_city_id\n",
        "        self.path_act_id += 1\n",
        "\n",
        "        self.dist_trav += self.map.dist_mat[self.position_id, next_city_id]\n",
        "        self.position_id = next_city_id\n",
        "        self.visited[self.position_id] = 0\n",
        "\n",
        "    def find_path(self):\n",
        "        for i in range(self.map.nb_city-1):\n",
        "            self.update()\n",
        "\n",
        "    def update_pheros(self):\n",
        "        x = 100\n",
        "        coef = -50\n",
        "        for i in range(x):\n",
        "            if self.dist_trav <= (self.map.dist_min + self.map.dist_delta * (i / x)):\n",
        "                coef += 1\n",
        "        for i in range(len(self.path_id)-1):\n",
        "            self.map.pheros[self.path_id[i], self.path_id[i+1]] += coef\n",
        "\n",
        "# The map class\n",
        "class Map:\n",
        "    # Settings\n",
        "    phero_start_fact = 1000\n",
        "    inf_dist = 9999\n",
        "\n",
        "    def __init__(self, city, dist_mat, name, coef_dist_puiss=20,\n",
        "                 nb_ant=20, nb_turn=100, do_print=True):\n",
        "        self.city = city # List of city to travel\n",
        "        self.name = name # Name of the map\n",
        "        self.nb_ant = nb_ant # Number of ants\n",
        "        self.nb_turn = nb_turn # Number of turn to do\n",
        "        self.dist_mat = dist_mat # Distance matrix\n",
        "        \n",
        "        #建立一個Array矩陣，每個欄位並乘以費洛蒙初始值 1000\n",
        "        self.pheros = np.ones(self.dist_mat.shape) * self.phero_start_fact # Pheromones matrix (信息素矩陣)\n",
        "        \n",
        "        self.shortest_path = \"\" #設定初始最短路徑為空值\n",
        "        self.shortest_dist = 9999999999999  #設定初始最短距離為極大值\n",
        "        self.dist_min = 0\n",
        "        self.dist_max = 0\n",
        "        self.dist_delta = 0 #設定距離delta為0\n",
        "        self.nb_city = len(city) #定義一個程式數目的變數\n",
        "\n",
        "        self.coef_dist_puiss = coef_dist_puiss # Coef to use in ant.update, 5-10 is good\n",
        "        self.ants = [] # List of ant\n",
        "        for i in range(self.nb_ant):\n",
        "            self.ants.append(Ant(self))\n",
        "\n",
        "        self.pbar = None # The progress bar\n",
        "\n",
        "    def update(self):\n",
        "        ants_dist = [0] * len(self.ants)\n",
        "        i = 0\n",
        "        \n",
        "        for ant in self.ants:\n",
        "            ant.find_path()\n",
        "            dis = ant.dist_trav\n",
        "            ants_dist[i] = dis\n",
        "            if dis < self.shortest_dist:\n",
        "                self.shortest_dist = dis\n",
        "                self.shortest_path = ant.path\n",
        "            i+=1\n",
        "            self.pbar.update(1)\n",
        "        self.dist_min = min(ants_dist)\n",
        "        self.dist_max = max(ants_dist)\n",
        "        self.dist_delta = self.dist_max - self.dist_min\n",
        "        for ant in self.ants:\n",
        "            ant.update_pheros()\n",
        "            ant.__init__(self)\n",
        "\n",
        "    def start(self):\n",
        "        # Start the simulation\n",
        "        with tqdm(total=self.nb_turn*self.nb_ant, desc=self.name,unit=\"ant\") as pbar:\n",
        "            self.pbar = pbar\n",
        "            for i in range(self.nb_turn):\n",
        "                self.update()"
      ],
      "metadata": {
        "id": "NLg3y5IFpHH0"
      },
      "execution_count": null,
      "outputs": []
    },
    {
      "cell_type": "code",
      "source": [
        "dist_mat = pd.read_csv(\"distance_matrix.csv\")\n",
        "dist_mat.set_index('Permutation', inplace=True)\n",
        "\n",
        "# 將圖案轉換為數字符號\n",
        "def change(a):\n",
        "    a = a.replace(\"🎅\", \"2\")\n",
        "    a = a.replace('🤶', \"4\")\n",
        "    a = a.replace('🦌', \"1\")\n",
        "    a = a.replace('🧝', \"3\")\n",
        "    a = a.replace('🎄', \"5\")\n",
        "    a = a.replace('🎁', \"6\")\n",
        "    a = a.replace('🎀', \"7\")\n",
        "    return a\n",
        "\n",
        "def rechange(a):\n",
        "    a = a.replace(\"2\", \"🎅\")\n",
        "    a = a.replace(\"4\", '🤶')\n",
        "    a = a.replace(\"1\", '🦌')\n",
        "    a = a.replace(\"3\", '🧝')\n",
        "    a = a.replace(\"5\", '🎄')\n",
        "    a = a.replace(\"6\", '🎁')\n",
        "    a = a.replace(\"7\", '🎀')\n",
        "    return a\n",
        "\n",
        "def get_dist_mat(dist_mat, city):\n",
        "    to_export = pd.DataFrame(columns=city, index=city) #生成一個n x n的dataframe矩陣\n",
        "  \n",
        "    for c in city:\n",
        "        to_export.loc[c] = dist_mat.loc[c] #找出dist_mat之中，相同的city對應的欄位值，將距離填入to_export對應的欄位中(https://codertw.com/%E7%A8%8B%E5%BC%8F%E8%AA%9E%E8%A8%80/462517/)\n",
        "\n",
        "    to_export = to_export.to_numpy() #將to_export型態由dataframe轉為array型態\n",
        "    to_export[to_export==0] = 99999 #將to_export裡面為0的值改為99999\n",
        "\n",
        "    return to_export\n",
        "\n",
        "# 建立字典，將dist_mat裡面的欄跟列的名稱改換為數字字符\n",
        "dic = {}\n",
        "for c in dist_mat.columns:\n",
        "    dic[c] = change(c)\n",
        "dist_mat.rename(dic, axis=1, inplace=True)\n",
        "dist_mat.rename(dic, axis=0, inplace=True)"
      ],
      "metadata": {
        "id": "ur__QAmnqePu"
      },
      "execution_count": null,
      "outputs": []
    },
    {
      "cell_type": "markdown",
      "source": [
        "#### Set papameter"
      ],
      "metadata": {
        "id": "eEzNhMNkrcYf"
      }
    },
    {
      "cell_type": "code",
      "source": [
        "starttime = datetime.datetime.now()\n",
        "\n",
        "nb_ant = 5 #number of ants\n",
        "nb_turn = 30 # Number of turn to do\n",
        "coef_dist_puiss = 50\n",
        "\n",
        "print(\"The calculation will take approximately \" + str(datetime.timedelta(seconds=(1.2 * 3 * nb_ant * nb_turn))))\n",
        "print('Start for nb_ant:', nb_ant, ', nb_turn', nb_turn, )\n",
        "\n",
        "dist_mat_map_1 = get_dist_mat(dist_mat, group1)\n",
        "map_1 = Map(group1, dist_mat_map_1, \"map_1\", nb_ant=nb_ant, nb_turn=nb_turn,\n",
        "            coef_dist_puiss=coef_dist_puiss, do_print=False)\n",
        "\n",
        "map_1.start()\n",
        "print(\"map_1 Done, score:\", map_1.shortest_dist, 'Nb_city:', len(group1))\n",
        "\n",
        "dist_mat_map_2 = get_dist_mat(dist_mat, group2)\n",
        "map_2 = Map(group2, dist_mat_map_2, \"map_2\", nb_ant=nb_ant, nb_turn=nb_turn,\n",
        "            coef_dist_puiss=coef_dist_puiss, do_print=False)\n",
        "map_2.start()\n",
        "print(\"map_2 Done, score:\", map_2.shortest_dist, 'Nb_city:', len(group2))\n",
        "\n",
        "dist_mat_map_3 = get_dist_mat(dist_mat, group3)\n",
        "map_3 = Map(group3, dist_mat_map_3, \"map_3\", nb_ant=nb_ant, nb_turn=nb_turn,\n",
        "            coef_dist_puiss=coef_dist_puiss, do_print=False)\n",
        "map_3.start()\n",
        "print(\"map_3 Done, score:\", map_3.shortest_dist, 'Nb_city:', len(group3))\n"
      ],
      "metadata": {
        "colab": {
          "base_uri": "https://localhost:8080/",
          "height": 200,
          "referenced_widgets": [
            "fd06cecca7b742eab0ae400e1d54ee66",
            "e63dc296c2944a13bdfed6542e6f39d6",
            "9f949e44328c48ce8104851df19dea74",
            "3dee2497413c4d3c9acb88718ef735bd",
            "ea0fdee692d942ca868f6a745fd3fa30",
            "0a4b9eb897834884966d75f1a2b2ca44",
            "c2a8075401df451ca54a9219aa8cd30c",
            "e2b5709785ea453f9a3014c37141589c",
            "77ecb5efd6c84da5bf811b4215e88ff5",
            "cf8c5e2f9be04ddf86e571dd206c6f19",
            "756ca010676e48cb8b022ab0b9c9f658",
            "95a2908b314c46eabf4b7d03b0f955fa",
            "ed6aa81edeae43f9ba11ff4ca75bcb14",
            "fed5493a8afa45aca01422f2ed13730b",
            "5f33388d089b4877b62aad074f0337c1",
            "c9ab5ceee78b474a8e3dfc5d1a3912c5",
            "4039b9e5cda0487e8d7d1ae50f5c80c7",
            "46e924ef937b4c33bb6d2f8627d11d3d",
            "ae73ebff1d424e3b8e1f330a2dc8e12f",
            "8a00cda5bdc347e4893fb59bd90e49a9",
            "e7ea30e2cf654186943e5198b34ccaf7",
            "a04fa3611c78456a9ab88d3c755e05af",
            "e3e7023e3d7b4fd9857d0b1f43c39c6d",
            "00b1c8e255f7488da68a7f944060ea4f",
            "86285e81d10741b894af64b4553298fd",
            "49d40fc87cad4641939b6b0ec2d5dda4",
            "0928fa257482466d94f45e6b6fd2a850",
            "a772c2177c744f1cb971bb54d72f459c",
            "2ef68170ddca4b1abd7a3a0181c19edf",
            "a678c50a4c8b4675ad98998afd55e963",
            "20a2b673bb264a25a184f188f2869be3",
            "d14009a798024396a24de6c79415df3d",
            "e497282ba86646169ff03ea7dee4d75b"
          ]
        },
        "id": "bz1-0XU6qhUL",
        "outputId": "5830ef31-f16c-47e3-e046-c7520da73363"
      },
      "execution_count": null,
      "outputs": [
        {
          "output_type": "stream",
          "name": "stdout",
          "text": [
            "The calculation will take approximately 0:09:00\n",
            "Start for nb_ant: 5 , nb_turn 30\n"
          ]
        },
        {
          "output_type": "display_data",
          "data": {
            "application/vnd.jupyter.widget-view+json": {
              "model_id": "fd06cecca7b742eab0ae400e1d54ee66",
              "version_minor": 0,
              "version_major": 2
            },
            "text/plain": [
              "map_1:   0%|          | 0/150 [00:00<?, ?ant/s]"
            ]
          },
          "metadata": {}
        },
        {
          "output_type": "stream",
          "name": "stdout",
          "text": [
            "map_1 Done, score: 2666 Nb_city: 1760\n"
          ]
        },
        {
          "output_type": "display_data",
          "data": {
            "application/vnd.jupyter.widget-view+json": {
              "model_id": "95a2908b314c46eabf4b7d03b0f955fa",
              "version_minor": 0,
              "version_major": 2
            },
            "text/plain": [
              "map_2:   0%|          | 0/150 [00:00<?, ?ant/s]"
            ]
          },
          "metadata": {}
        },
        {
          "output_type": "stream",
          "name": "stdout",
          "text": [
            "map_2 Done, score: 2699 Nb_city: 1760\n"
          ]
        },
        {
          "output_type": "display_data",
          "data": {
            "application/vnd.jupyter.widget-view+json": {
              "model_id": "e3e7023e3d7b4fd9857d0b1f43c39c6d",
              "version_minor": 0,
              "version_major": 2
            },
            "text/plain": [
              "map_3:   0%|          | 0/150 [00:00<?, ?ant/s]"
            ]
          },
          "metadata": {}
        },
        {
          "output_type": "stream",
          "name": "stdout",
          "text": [
            "map_3 Done, score: 2696 Nb_city: 1760\n"
          ]
        }
      ]
    },
    {
      "cell_type": "markdown",
      "source": [
        "### 5. Check solution is feasible"
      ],
      "metadata": {
        "id": "7YCr8im3sdaO"
      }
    },
    {
      "cell_type": "code",
      "source": [
        "string1 = (map_1.shortest_path)\n",
        "string2 = (map_2.shortest_path)\n",
        "string3 = (map_3.shortest_path)"
      ],
      "metadata": {
        "id": "uUd0H1m3so-K"
      },
      "execution_count": null,
      "outputs": []
    },
    {
      "cell_type": "code",
      "source": [
        "for p in all_permutations:\n",
        "    if p not in string1 and p not in string2 and p not in string3:\n",
        "        print(p)\n",
        "              \n",
        "for p in mandatory:\n",
        "    if p not in string1 and p not in string2 and p not in string3:\n",
        "        print(p)\n",
        "#No News is good news."
      ],
      "metadata": {
        "id": "tPvN42n2s0TN"
      },
      "execution_count": null,
      "outputs": []
    },
    {
      "cell_type": "code",
      "source": [
        "result_list = [string1, string2, string3]\n",
        "for i in range(3):\n",
        "  print('The length for group' + str(i+1) + ' without wildcards ' +  str(len(result_list[i])))"
      ],
      "metadata": {
        "colab": {
          "base_uri": "https://localhost:8080/"
        },
        "id": "3KiYBXpHs1xY",
        "outputId": "f1ab8c34-2da2-4a99-c1db-941b2754de44"
      },
      "execution_count": null,
      "outputs": [
        {
          "output_type": "stream",
          "name": "stdout",
          "text": [
            "The length for group1 without wildcards 2666\n",
            "The length for group2 without wildcards 2699\n",
            "The length for group3 without wildcards 2696\n"
          ]
        }
      ]
    },
    {
      "cell_type": "code",
      "source": [
        "sub = pd.DataFrame()\n",
        "sub['schedule'] = [string1, string2, string3]\n",
        "schedule = sub.schedule.tolist()"
      ],
      "metadata": {
        "id": "xhpG--lutNtG"
      },
      "execution_count": null,
      "outputs": []
    },
    {
      "cell_type": "markdown",
      "source": [
        "### 6. Using Dynamic Programming to filling the 🌟"
      ],
      "metadata": {
        "id": "dM0OI3C0tQUE"
      }
    },
    {
      "cell_type": "markdown",
      "source": [
        "#### Create Cost martix"
      ],
      "metadata": {
        "id": "FrN6RED5ttBx"
      }
    },
    {
      "cell_type": "code",
      "source": [
        "perms = list(map(lambda p: \"\".join(p), itertools.permutations(\"1234567\")))\n",
        "perm2id = {p: i for i, p in enumerate(perms)}\n",
        "\n",
        "perms_arr = np.array([list(map(int, p)) for p in perms])\n",
        "perms_arr.shape\n",
        "\n",
        "perms_onehot = np.eye(7)[perms_arr-1, :].transpose(0, 2, 1)\n",
        "assert np.allclose(perms_onehot[:,0,:].astype(np.int64), (perms_arr == 1).astype(np.int64))\n",
        "\n",
        "must_match_left2right = np.array([-1, -1, -1, -1, -1, -1, -1, 7, 6, 5, 4, 3, 2, 1, 0])\n",
        "must_match_right2left = np.array([0, 1, 2, 3, 4, 5, 6, 7, -1, -1, -1, -1, -1, -1, -1])\n",
        "cost_ifmatch = np.array([7, 6, 5, 4, 3, 2, 1, 0, 1, 2, 3, 4, 5, 6, 7])\n",
        "\n",
        "M = F.conv2d(\n",
        "    F.pad(torch.Tensor(perms_onehot[:, None, :, :]), (7, 7)),\n",
        "    torch.Tensor(perms_onehot[:, None, :, :]),\n",
        "    padding=\"valid\"\n",
        ").squeeze().numpy()\n",
        "\n",
        "must_match_left2right = np.array([-1, -1, -1, -1, -1, -1, -1, 7, 6, 5, 4, 3, 2, 1, 0])\n",
        "must_match_left2right_wild = np.array([-1, -1, -1, -1, -1, -1, -1, 6, 5, 4, 3, 2, 1, 0, 0])\n",
        "\n",
        "cost_ifmatch = np.array([7, 6, 5, 4, 3, 2, 1, 0, 1, 2, 3, 4, 5, 6, 7])\n",
        "\n",
        "costMat = np.where(M == must_match_left2right, cost_ifmatch, np.inf).min(axis=-1).astype(np.int8)\n",
        "costMatWild = np.minimum(costMat, np.where(M == must_match_left2right_wild, cost_ifmatch, np.inf).min(axis=-1)).astype(np.int8)"
      ],
      "metadata": {
        "id": "yzPK0LgXtguk"
      },
      "execution_count": null,
      "outputs": []
    },
    {
      "cell_type": "markdown",
      "source": [
        "#### String decomposition"
      ],
      "metadata": {
        "id": "cwfj4mxHtyT7"
      }
    },
    {
      "cell_type": "code",
      "source": [
        "perms = [''.join(x) for x in itertools.permutations(['1','2','3','4','5','6','7'], 7)]\n",
        "\n",
        "def find_strings_perms(strings, verbose=False):\n",
        "    global perms\n",
        "    found_perms = []\n",
        "    for s in strings:\n",
        "        found_perms.append([])\n",
        "        for i in range(len(s)-6):\n",
        "            p = s[i:i+7]\n",
        "            if p in perms:\n",
        "                found_perms[-1].append(p)\n",
        "    if verbose:\n",
        "        lens = [len(_) for _ in  found_perms]\n",
        "        print(f'There are {lens} permutations in strings, {sum(lens)} in total.')\n",
        "        lens = [len(set(_)) for _ in  found_perms]\n",
        "        print(f'There are {lens} unique permutations in strings, {sum(lens)} in total.')\n",
        "    return found_perms\n",
        "\n",
        "def rebalance_perms(strings_perms, verbose=False):\n",
        "    # convert to dicts for fast lookup and to keep permutations order\n",
        "    strings_perms = [dict.fromkeys(_) for _ in strings_perms] \n",
        "    for p in strings_perms[0].copy():  # iterate over the copy to allow modification during iteration\n",
        "        if p[:2] != \"12\" and (p in strings_perms[1] or p in strings_perms[2]):\n",
        "            strings_perms[0].pop(p)\n",
        "    for p in strings_perms[1].copy():\n",
        "        if p[:2] != \"12\" and p in strings_perms[2]:\n",
        "            strings_perms[1].pop(p)\n",
        "    if verbose:\n",
        "        lens = [len(_) for _ in  strings_perms]\n",
        "        print(f'There are {lens} permutations left in strings after rebalancing, {sum(lens)} in total.')\n",
        "    return [list(_) for _ in strings_perms] "
      ],
      "metadata": {
        "id": "V5y4X783txv5"
      },
      "execution_count": null,
      "outputs": []
    },
    {
      "cell_type": "code",
      "source": [
        "found_perms = find_strings_perms(schedule, verbose=True)\n",
        "balanced_perms = rebalance_perms(found_perms, verbose=True)"
      ],
      "metadata": {
        "colab": {
          "base_uri": "https://localhost:8080/"
        },
        "id": "8eaiyjqbt4pu",
        "outputId": "e4184195-95e1-4176-c998-c901860dad9a"
      },
      "execution_count": null,
      "outputs": [
        {
          "output_type": "stream",
          "name": "stdout",
          "text": [
            "There are [2022, 2009, 1999] permutations in strings, 6030 in total.\n",
            "There are [1955, 1956, 1949] unique permutations in strings, 5860 in total.\n",
            "There are [1527, 1579, 1949] permutations left in strings after rebalancing, 5055 in total.\n"
          ]
        }
      ]
    },
    {
      "cell_type": "markdown",
      "source": [
        "#### Run"
      ],
      "metadata": {
        "id": "xSf159JOt9MX"
      }
    },
    {
      "cell_type": "code",
      "source": [
        "nodes_list = []\n",
        "table_list = []\n",
        "for i in range(3):\n",
        "    word = balanced_perms[i]\n",
        "    nodes = [perm2id[p] for p in balanced_perms[i]]\n",
        "\n",
        "    table = np.zeros((len(nodes), 10), np.int64)\n",
        "    table[0, :] = 7\n",
        "    for i in range(1, len(nodes)):\n",
        "        e = costMat[nodes[i-1], nodes[i]]\n",
        "        ew = costMatWild[nodes[i-1], nodes[i]]\n",
        "        table[i,0] = table[i-1,0] + e\n",
        "        table[i,1] = min(table[i-1,1] + e, table[i-1,0] + ew)\n",
        "        table[i,2] = min(table[i-1,2], table[i-1,1]) + e # TODO: better transition\n",
        "        table[i,3] = min(table[i-1,3], table[i-1,2]) + e\n",
        "        table[i,4] = min(table[i-1,4], table[i-1,3]) + e\n",
        "        table[i,5] = min(table[i-1,5], table[i-1,4]) + e\n",
        "        table[i,6] = min(table[i-1,6], table[i-1,5]) + e\n",
        "        table[i,7] = min(table[i-1,7], table[i-1,6]) + e\n",
        "        table[i,8] = min(table[i-1,8], table[i-1,7]) + e\n",
        "        table[i,9] = min(table[i-1,9] + e, table[i-1,8] + ew)\n",
        "    print(table[-1].min(), table[-1])\n",
        "    nodes_list.append(nodes)\n",
        "    table_list.append(table)\n",
        "    \n",
        "# backtrack\n",
        "new_words = []\n",
        "wilds = []\n",
        "for nodes, table in zip(nodes_list, table_list):\n",
        "    ns = [perms[nodes[-1]]]\n",
        "    track = np.argmin(table[-1])\n",
        "    wild = []\n",
        "    for i in range(len(nodes)-2, -1, -1):\n",
        "        e = costMat[nodes[i], nodes[i+1]]\n",
        "        ew = costMatWild[nodes[i], nodes[i+1]]\n",
        "        if track == 0:\n",
        "            ns.append(perms[nodes[i]][:e])\n",
        "        elif track == 1:\n",
        "            if table[i, 1] + e < table[i, 0] + ew:\n",
        "                ns.append(perms[nodes[i]][:e])\n",
        "            else:\n",
        "                left = np.array(list(map(int, perms[nodes[i]][ew:])))\n",
        "                right = np.array(list(map(int, perms[nodes[i+1]][:-ew])))\n",
        "                mis = np.where(left != right)[0][0]\n",
        "                wild.append(table[i, track-1]-7+ew+mis)\n",
        "                ns.append(perms[nodes[i]][:ew])\n",
        "                track = track - 1\n",
        "        elif 2 <= track <= 8:\n",
        "            if table[i, track] >= table[i, track-1]:\n",
        "                track = track - 1\n",
        "            ns.append(perms[nodes[i]][:e])\n",
        "        elif track == 9:\n",
        "            if table[i, 9] + e < table[i, 8] + ew:\n",
        "                ns.append(perms[nodes[i]][:e])\n",
        "            else:\n",
        "                ns.append(perms[nodes[i]][:ew])\n",
        "                left = np.array(list(map(int, perms[nodes[i]][ew:])))\n",
        "                right = np.array(list(map(int, perms[nodes[i+1]][:-ew])))\n",
        "                mis = np.where(left != right)[0][0]\n",
        "                wild.append(table[i, track-1]-7+ew+mis)\n",
        "                track = track - 1\n",
        "        else:\n",
        "            assert False\n",
        "    assert track == 0\n",
        "    wilds.append(wild)\n",
        "    nsw = list(\"\".join(ns[::-1]))\n",
        "    for w in wild:\n",
        "        nsw[w] = \"*\"\n",
        "    new_words.append(\"\".join(nsw))"
      ],
      "metadata": {
        "colab": {
          "base_uri": "https://localhost:8080/"
        },
        "id": "eiV24ymJt7Ru",
        "outputId": "97689c81-0a42-4f89-a5ea-8c9ee11ea4f0"
      },
      "execution_count": null,
      "outputs": [
        {
          "output_type": "stream",
          "name": "stdout",
          "text": [
            "2205 [2208 2206 2206 2206 2206 2207 2207 2207 2207 2205]\n",
            "2278 [2286 2282 2282 2282 2282 2282 2282 2282 2282 2278]\n",
            "2695 [2696 2695 2695 2695 2695 2695 2695 2695 2695 2695]\n"
          ]
        }
      ]
    },
    {
      "cell_type": "code",
      "source": [
        "endtime = datetime.datetime.now()\n",
        "print(\"score: \", max(map(len, schedule)), \"->\", max(map(len, new_words)))\n",
        "print(\"execution time : \", endtime - starttime)"
      ],
      "metadata": {
        "colab": {
          "base_uri": "https://localhost:8080/"
        },
        "id": "g068ZNRxuAdS",
        "outputId": "6ddf4314-0605-4734-9d4f-2a4d4cd469e7"
      },
      "execution_count": null,
      "outputs": [
        {
          "output_type": "stream",
          "name": "stdout",
          "text": [
            "score:  2699 -> 2695\n",
            "execution time :  0:15:00.723675\n"
          ]
        }
      ]
    },
    {
      "cell_type": "markdown",
      "source": [
        "### 7. Submission"
      ],
      "metadata": {
        "id": "Qeh1CTQmuCLc"
      }
    },
    {
      "cell_type": "code",
      "source": [
        "symbols = \"🎅🤶🦌🧝🎄🎁🎀🌟\"\n",
        "submission = pd.Series([a.translate(str.maketrans(\"2413567*\", symbols)) for a in new_words], name='schedule')\n",
        "submission.to_csv('submission.csv', index=False)"
      ],
      "metadata": {
        "id": "pLjWvinluBiD"
      },
      "execution_count": null,
      "outputs": []
    }
  ]
}
