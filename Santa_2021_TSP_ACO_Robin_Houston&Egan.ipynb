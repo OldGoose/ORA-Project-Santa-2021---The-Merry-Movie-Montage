{
  "nbformat": 4,
  "nbformat_minor": 0,
  "metadata": {
    "colab": {
      "name": "Santa 2021_TSP_ACO_Robin Houston&Egan.ipynb",
      "provenance": [],
      "authorship_tag": "ABX9TyNiG0ONQ+cQRV2SNfAAWRz2",
      "include_colab_link": true
    },
    "kernelspec": {
      "name": "python3",
      "display_name": "Python 3"
    },
    "language_info": {
      "name": "python"
    },
    "widgets": {
      "application/vnd.jupyter.widget-state+json": {
        "9013ec79c3ad4bb295c6db8cf21b101d": {
          "model_module": "@jupyter-widgets/controls",
          "model_name": "HBoxModel",
          "model_module_version": "1.5.0",
          "state": {
            "_view_name": "HBoxView",
            "_dom_classes": [],
            "_model_name": "HBoxModel",
            "_view_module": "@jupyter-widgets/controls",
            "_model_module_version": "1.5.0",
            "_view_count": null,
            "_view_module_version": "1.5.0",
            "box_style": "",
            "layout": "IPY_MODEL_3536231645ef4aaa9a2be1fddb774453",
            "_model_module": "@jupyter-widgets/controls",
            "children": [
              "IPY_MODEL_1ad05bc8aee14a45b693513cc2b5baec",
              "IPY_MODEL_da430400008b4289830023e9c4079a22",
              "IPY_MODEL_9bb61fdfecc24aefa79a7fbd15ef4d74"
            ]
          }
        },
        "3536231645ef4aaa9a2be1fddb774453": {
          "model_module": "@jupyter-widgets/base",
          "model_name": "LayoutModel",
          "model_module_version": "1.2.0",
          "state": {
            "_view_name": "LayoutView",
            "grid_template_rows": null,
            "right": null,
            "justify_content": null,
            "_view_module": "@jupyter-widgets/base",
            "overflow": null,
            "_model_module_version": "1.2.0",
            "_view_count": null,
            "flex_flow": null,
            "width": null,
            "min_width": null,
            "border": null,
            "align_items": null,
            "bottom": null,
            "_model_module": "@jupyter-widgets/base",
            "top": null,
            "grid_column": null,
            "overflow_y": null,
            "overflow_x": null,
            "grid_auto_flow": null,
            "grid_area": null,
            "grid_template_columns": null,
            "flex": null,
            "_model_name": "LayoutModel",
            "justify_items": null,
            "grid_row": null,
            "max_height": null,
            "align_content": null,
            "visibility": null,
            "align_self": null,
            "height": null,
            "min_height": null,
            "padding": null,
            "grid_auto_rows": null,
            "grid_gap": null,
            "max_width": null,
            "order": null,
            "_view_module_version": "1.2.0",
            "grid_template_areas": null,
            "object_position": null,
            "object_fit": null,
            "grid_auto_columns": null,
            "margin": null,
            "display": null,
            "left": null
          }
        },
        "1ad05bc8aee14a45b693513cc2b5baec": {
          "model_module": "@jupyter-widgets/controls",
          "model_name": "HTMLModel",
          "model_module_version": "1.5.0",
          "state": {
            "_view_name": "HTMLView",
            "style": "IPY_MODEL_1d91033d439d44c3a4f5a2e2960c456c",
            "_dom_classes": [],
            "description": "",
            "_model_name": "HTMLModel",
            "placeholder": "​",
            "_view_module": "@jupyter-widgets/controls",
            "_model_module_version": "1.5.0",
            "value": "map_1: 100%",
            "_view_count": null,
            "_view_module_version": "1.5.0",
            "description_tooltip": null,
            "_model_module": "@jupyter-widgets/controls",
            "layout": "IPY_MODEL_2b7956f9a2204c42a52c8091fbd1a4ae"
          }
        },
        "da430400008b4289830023e9c4079a22": {
          "model_module": "@jupyter-widgets/controls",
          "model_name": "FloatProgressModel",
          "model_module_version": "1.5.0",
          "state": {
            "_view_name": "ProgressView",
            "style": "IPY_MODEL_7682fc913e2341b3bfaaa4fb04e1a61f",
            "_dom_classes": [],
            "description": "",
            "_model_name": "FloatProgressModel",
            "bar_style": "success",
            "max": 150,
            "_view_module": "@jupyter-widgets/controls",
            "_model_module_version": "1.5.0",
            "value": 150,
            "_view_count": null,
            "_view_module_version": "1.5.0",
            "orientation": "horizontal",
            "min": 0,
            "description_tooltip": null,
            "_model_module": "@jupyter-widgets/controls",
            "layout": "IPY_MODEL_d0dc16ff19c14cb7b05e79a5cfe7ca54"
          }
        },
        "9bb61fdfecc24aefa79a7fbd15ef4d74": {
          "model_module": "@jupyter-widgets/controls",
          "model_name": "HTMLModel",
          "model_module_version": "1.5.0",
          "state": {
            "_view_name": "HTMLView",
            "style": "IPY_MODEL_5ac8a8ee08bd4829a4e22d331a998c23",
            "_dom_classes": [],
            "description": "",
            "_model_name": "HTMLModel",
            "placeholder": "​",
            "_view_module": "@jupyter-widgets/controls",
            "_model_module_version": "1.5.0",
            "value": " 150/150 [05:26&lt;00:00,  2.17s/ant]",
            "_view_count": null,
            "_view_module_version": "1.5.0",
            "description_tooltip": null,
            "_model_module": "@jupyter-widgets/controls",
            "layout": "IPY_MODEL_98581b2fc8574fcdaa8c2acfd5e59620"
          }
        },
        "1d91033d439d44c3a4f5a2e2960c456c": {
          "model_module": "@jupyter-widgets/controls",
          "model_name": "DescriptionStyleModel",
          "model_module_version": "1.5.0",
          "state": {
            "_view_name": "StyleView",
            "_model_name": "DescriptionStyleModel",
            "description_width": "",
            "_view_module": "@jupyter-widgets/base",
            "_model_module_version": "1.5.0",
            "_view_count": null,
            "_view_module_version": "1.2.0",
            "_model_module": "@jupyter-widgets/controls"
          }
        },
        "2b7956f9a2204c42a52c8091fbd1a4ae": {
          "model_module": "@jupyter-widgets/base",
          "model_name": "LayoutModel",
          "model_module_version": "1.2.0",
          "state": {
            "_view_name": "LayoutView",
            "grid_template_rows": null,
            "right": null,
            "justify_content": null,
            "_view_module": "@jupyter-widgets/base",
            "overflow": null,
            "_model_module_version": "1.2.0",
            "_view_count": null,
            "flex_flow": null,
            "width": null,
            "min_width": null,
            "border": null,
            "align_items": null,
            "bottom": null,
            "_model_module": "@jupyter-widgets/base",
            "top": null,
            "grid_column": null,
            "overflow_y": null,
            "overflow_x": null,
            "grid_auto_flow": null,
            "grid_area": null,
            "grid_template_columns": null,
            "flex": null,
            "_model_name": "LayoutModel",
            "justify_items": null,
            "grid_row": null,
            "max_height": null,
            "align_content": null,
            "visibility": null,
            "align_self": null,
            "height": null,
            "min_height": null,
            "padding": null,
            "grid_auto_rows": null,
            "grid_gap": null,
            "max_width": null,
            "order": null,
            "_view_module_version": "1.2.0",
            "grid_template_areas": null,
            "object_position": null,
            "object_fit": null,
            "grid_auto_columns": null,
            "margin": null,
            "display": null,
            "left": null
          }
        },
        "7682fc913e2341b3bfaaa4fb04e1a61f": {
          "model_module": "@jupyter-widgets/controls",
          "model_name": "ProgressStyleModel",
          "model_module_version": "1.5.0",
          "state": {
            "_view_name": "StyleView",
            "_model_name": "ProgressStyleModel",
            "description_width": "",
            "_view_module": "@jupyter-widgets/base",
            "_model_module_version": "1.5.0",
            "_view_count": null,
            "_view_module_version": "1.2.0",
            "bar_color": null,
            "_model_module": "@jupyter-widgets/controls"
          }
        },
        "d0dc16ff19c14cb7b05e79a5cfe7ca54": {
          "model_module": "@jupyter-widgets/base",
          "model_name": "LayoutModel",
          "model_module_version": "1.2.0",
          "state": {
            "_view_name": "LayoutView",
            "grid_template_rows": null,
            "right": null,
            "justify_content": null,
            "_view_module": "@jupyter-widgets/base",
            "overflow": null,
            "_model_module_version": "1.2.0",
            "_view_count": null,
            "flex_flow": null,
            "width": null,
            "min_width": null,
            "border": null,
            "align_items": null,
            "bottom": null,
            "_model_module": "@jupyter-widgets/base",
            "top": null,
            "grid_column": null,
            "overflow_y": null,
            "overflow_x": null,
            "grid_auto_flow": null,
            "grid_area": null,
            "grid_template_columns": null,
            "flex": null,
            "_model_name": "LayoutModel",
            "justify_items": null,
            "grid_row": null,
            "max_height": null,
            "align_content": null,
            "visibility": null,
            "align_self": null,
            "height": null,
            "min_height": null,
            "padding": null,
            "grid_auto_rows": null,
            "grid_gap": null,
            "max_width": null,
            "order": null,
            "_view_module_version": "1.2.0",
            "grid_template_areas": null,
            "object_position": null,
            "object_fit": null,
            "grid_auto_columns": null,
            "margin": null,
            "display": null,
            "left": null
          }
        },
        "5ac8a8ee08bd4829a4e22d331a998c23": {
          "model_module": "@jupyter-widgets/controls",
          "model_name": "DescriptionStyleModel",
          "model_module_version": "1.5.0",
          "state": {
            "_view_name": "StyleView",
            "_model_name": "DescriptionStyleModel",
            "description_width": "",
            "_view_module": "@jupyter-widgets/base",
            "_model_module_version": "1.5.0",
            "_view_count": null,
            "_view_module_version": "1.2.0",
            "_model_module": "@jupyter-widgets/controls"
          }
        },
        "98581b2fc8574fcdaa8c2acfd5e59620": {
          "model_module": "@jupyter-widgets/base",
          "model_name": "LayoutModel",
          "model_module_version": "1.2.0",
          "state": {
            "_view_name": "LayoutView",
            "grid_template_rows": null,
            "right": null,
            "justify_content": null,
            "_view_module": "@jupyter-widgets/base",
            "overflow": null,
            "_model_module_version": "1.2.0",
            "_view_count": null,
            "flex_flow": null,
            "width": null,
            "min_width": null,
            "border": null,
            "align_items": null,
            "bottom": null,
            "_model_module": "@jupyter-widgets/base",
            "top": null,
            "grid_column": null,
            "overflow_y": null,
            "overflow_x": null,
            "grid_auto_flow": null,
            "grid_area": null,
            "grid_template_columns": null,
            "flex": null,
            "_model_name": "LayoutModel",
            "justify_items": null,
            "grid_row": null,
            "max_height": null,
            "align_content": null,
            "visibility": null,
            "align_self": null,
            "height": null,
            "min_height": null,
            "padding": null,
            "grid_auto_rows": null,
            "grid_gap": null,
            "max_width": null,
            "order": null,
            "_view_module_version": "1.2.0",
            "grid_template_areas": null,
            "object_position": null,
            "object_fit": null,
            "grid_auto_columns": null,
            "margin": null,
            "display": null,
            "left": null
          }
        },
        "db642bce46f34b0c8ee1575495072a81": {
          "model_module": "@jupyter-widgets/controls",
          "model_name": "HBoxModel",
          "model_module_version": "1.5.0",
          "state": {
            "_view_name": "HBoxView",
            "_dom_classes": [],
            "_model_name": "HBoxModel",
            "_view_module": "@jupyter-widgets/controls",
            "_model_module_version": "1.5.0",
            "_view_count": null,
            "_view_module_version": "1.5.0",
            "box_style": "",
            "layout": "IPY_MODEL_b89c271197fb4c81a26ccde079ac320a",
            "_model_module": "@jupyter-widgets/controls",
            "children": [
              "IPY_MODEL_2e8e543a343041b796e031912640986e",
              "IPY_MODEL_a078c8130ab64caeab53cb4fdab5aef8",
              "IPY_MODEL_0e45340a3c3146e786a22c1857d1b4e8"
            ]
          }
        },
        "b89c271197fb4c81a26ccde079ac320a": {
          "model_module": "@jupyter-widgets/base",
          "model_name": "LayoutModel",
          "model_module_version": "1.2.0",
          "state": {
            "_view_name": "LayoutView",
            "grid_template_rows": null,
            "right": null,
            "justify_content": null,
            "_view_module": "@jupyter-widgets/base",
            "overflow": null,
            "_model_module_version": "1.2.0",
            "_view_count": null,
            "flex_flow": null,
            "width": null,
            "min_width": null,
            "border": null,
            "align_items": null,
            "bottom": null,
            "_model_module": "@jupyter-widgets/base",
            "top": null,
            "grid_column": null,
            "overflow_y": null,
            "overflow_x": null,
            "grid_auto_flow": null,
            "grid_area": null,
            "grid_template_columns": null,
            "flex": null,
            "_model_name": "LayoutModel",
            "justify_items": null,
            "grid_row": null,
            "max_height": null,
            "align_content": null,
            "visibility": null,
            "align_self": null,
            "height": null,
            "min_height": null,
            "padding": null,
            "grid_auto_rows": null,
            "grid_gap": null,
            "max_width": null,
            "order": null,
            "_view_module_version": "1.2.0",
            "grid_template_areas": null,
            "object_position": null,
            "object_fit": null,
            "grid_auto_columns": null,
            "margin": null,
            "display": null,
            "left": null
          }
        },
        "2e8e543a343041b796e031912640986e": {
          "model_module": "@jupyter-widgets/controls",
          "model_name": "HTMLModel",
          "model_module_version": "1.5.0",
          "state": {
            "_view_name": "HTMLView",
            "style": "IPY_MODEL_83b05c98d18b47db997755262264dbfe",
            "_dom_classes": [],
            "description": "",
            "_model_name": "HTMLModel",
            "placeholder": "​",
            "_view_module": "@jupyter-widgets/controls",
            "_model_module_version": "1.5.0",
            "value": "map_2: 100%",
            "_view_count": null,
            "_view_module_version": "1.5.0",
            "description_tooltip": null,
            "_model_module": "@jupyter-widgets/controls",
            "layout": "IPY_MODEL_40e4ca9bbbad4858abb81bee08f277f9"
          }
        },
        "a078c8130ab64caeab53cb4fdab5aef8": {
          "model_module": "@jupyter-widgets/controls",
          "model_name": "FloatProgressModel",
          "model_module_version": "1.5.0",
          "state": {
            "_view_name": "ProgressView",
            "style": "IPY_MODEL_e8e7168afb024ccb8d8132181fbc189d",
            "_dom_classes": [],
            "description": "",
            "_model_name": "FloatProgressModel",
            "bar_style": "success",
            "max": 150,
            "_view_module": "@jupyter-widgets/controls",
            "_model_module_version": "1.5.0",
            "value": 150,
            "_view_count": null,
            "_view_module_version": "1.5.0",
            "orientation": "horizontal",
            "min": 0,
            "description_tooltip": null,
            "_model_module": "@jupyter-widgets/controls",
            "layout": "IPY_MODEL_e6842e11e6e3474b94b4955ae34d074f"
          }
        },
        "0e45340a3c3146e786a22c1857d1b4e8": {
          "model_module": "@jupyter-widgets/controls",
          "model_name": "HTMLModel",
          "model_module_version": "1.5.0",
          "state": {
            "_view_name": "HTMLView",
            "style": "IPY_MODEL_15c6e76064e844f8a2e75b1e784f4b13",
            "_dom_classes": [],
            "description": "",
            "_model_name": "HTMLModel",
            "placeholder": "​",
            "_view_module": "@jupyter-widgets/controls",
            "_model_module_version": "1.5.0",
            "value": " 150/150 [05:09&lt;00:00,  2.06s/ant]",
            "_view_count": null,
            "_view_module_version": "1.5.0",
            "description_tooltip": null,
            "_model_module": "@jupyter-widgets/controls",
            "layout": "IPY_MODEL_0e8401a7b2834ddf8b29d80cbd77465a"
          }
        },
        "83b05c98d18b47db997755262264dbfe": {
          "model_module": "@jupyter-widgets/controls",
          "model_name": "DescriptionStyleModel",
          "model_module_version": "1.5.0",
          "state": {
            "_view_name": "StyleView",
            "_model_name": "DescriptionStyleModel",
            "description_width": "",
            "_view_module": "@jupyter-widgets/base",
            "_model_module_version": "1.5.0",
            "_view_count": null,
            "_view_module_version": "1.2.0",
            "_model_module": "@jupyter-widgets/controls"
          }
        },
        "40e4ca9bbbad4858abb81bee08f277f9": {
          "model_module": "@jupyter-widgets/base",
          "model_name": "LayoutModel",
          "model_module_version": "1.2.0",
          "state": {
            "_view_name": "LayoutView",
            "grid_template_rows": null,
            "right": null,
            "justify_content": null,
            "_view_module": "@jupyter-widgets/base",
            "overflow": null,
            "_model_module_version": "1.2.0",
            "_view_count": null,
            "flex_flow": null,
            "width": null,
            "min_width": null,
            "border": null,
            "align_items": null,
            "bottom": null,
            "_model_module": "@jupyter-widgets/base",
            "top": null,
            "grid_column": null,
            "overflow_y": null,
            "overflow_x": null,
            "grid_auto_flow": null,
            "grid_area": null,
            "grid_template_columns": null,
            "flex": null,
            "_model_name": "LayoutModel",
            "justify_items": null,
            "grid_row": null,
            "max_height": null,
            "align_content": null,
            "visibility": null,
            "align_self": null,
            "height": null,
            "min_height": null,
            "padding": null,
            "grid_auto_rows": null,
            "grid_gap": null,
            "max_width": null,
            "order": null,
            "_view_module_version": "1.2.0",
            "grid_template_areas": null,
            "object_position": null,
            "object_fit": null,
            "grid_auto_columns": null,
            "margin": null,
            "display": null,
            "left": null
          }
        },
        "e8e7168afb024ccb8d8132181fbc189d": {
          "model_module": "@jupyter-widgets/controls",
          "model_name": "ProgressStyleModel",
          "model_module_version": "1.5.0",
          "state": {
            "_view_name": "StyleView",
            "_model_name": "ProgressStyleModel",
            "description_width": "",
            "_view_module": "@jupyter-widgets/base",
            "_model_module_version": "1.5.0",
            "_view_count": null,
            "_view_module_version": "1.2.0",
            "bar_color": null,
            "_model_module": "@jupyter-widgets/controls"
          }
        },
        "e6842e11e6e3474b94b4955ae34d074f": {
          "model_module": "@jupyter-widgets/base",
          "model_name": "LayoutModel",
          "model_module_version": "1.2.0",
          "state": {
            "_view_name": "LayoutView",
            "grid_template_rows": null,
            "right": null,
            "justify_content": null,
            "_view_module": "@jupyter-widgets/base",
            "overflow": null,
            "_model_module_version": "1.2.0",
            "_view_count": null,
            "flex_flow": null,
            "width": null,
            "min_width": null,
            "border": null,
            "align_items": null,
            "bottom": null,
            "_model_module": "@jupyter-widgets/base",
            "top": null,
            "grid_column": null,
            "overflow_y": null,
            "overflow_x": null,
            "grid_auto_flow": null,
            "grid_area": null,
            "grid_template_columns": null,
            "flex": null,
            "_model_name": "LayoutModel",
            "justify_items": null,
            "grid_row": null,
            "max_height": null,
            "align_content": null,
            "visibility": null,
            "align_self": null,
            "height": null,
            "min_height": null,
            "padding": null,
            "grid_auto_rows": null,
            "grid_gap": null,
            "max_width": null,
            "order": null,
            "_view_module_version": "1.2.0",
            "grid_template_areas": null,
            "object_position": null,
            "object_fit": null,
            "grid_auto_columns": null,
            "margin": null,
            "display": null,
            "left": null
          }
        },
        "15c6e76064e844f8a2e75b1e784f4b13": {
          "model_module": "@jupyter-widgets/controls",
          "model_name": "DescriptionStyleModel",
          "model_module_version": "1.5.0",
          "state": {
            "_view_name": "StyleView",
            "_model_name": "DescriptionStyleModel",
            "description_width": "",
            "_view_module": "@jupyter-widgets/base",
            "_model_module_version": "1.5.0",
            "_view_count": null,
            "_view_module_version": "1.2.0",
            "_model_module": "@jupyter-widgets/controls"
          }
        },
        "0e8401a7b2834ddf8b29d80cbd77465a": {
          "model_module": "@jupyter-widgets/base",
          "model_name": "LayoutModel",
          "model_module_version": "1.2.0",
          "state": {
            "_view_name": "LayoutView",
            "grid_template_rows": null,
            "right": null,
            "justify_content": null,
            "_view_module": "@jupyter-widgets/base",
            "overflow": null,
            "_model_module_version": "1.2.0",
            "_view_count": null,
            "flex_flow": null,
            "width": null,
            "min_width": null,
            "border": null,
            "align_items": null,
            "bottom": null,
            "_model_module": "@jupyter-widgets/base",
            "top": null,
            "grid_column": null,
            "overflow_y": null,
            "overflow_x": null,
            "grid_auto_flow": null,
            "grid_area": null,
            "grid_template_columns": null,
            "flex": null,
            "_model_name": "LayoutModel",
            "justify_items": null,
            "grid_row": null,
            "max_height": null,
            "align_content": null,
            "visibility": null,
            "align_self": null,
            "height": null,
            "min_height": null,
            "padding": null,
            "grid_auto_rows": null,
            "grid_gap": null,
            "max_width": null,
            "order": null,
            "_view_module_version": "1.2.0",
            "grid_template_areas": null,
            "object_position": null,
            "object_fit": null,
            "grid_auto_columns": null,
            "margin": null,
            "display": null,
            "left": null
          }
        },
        "81a4162ca2a5443b92403abf6f5d80b9": {
          "model_module": "@jupyter-widgets/controls",
          "model_name": "HBoxModel",
          "model_module_version": "1.5.0",
          "state": {
            "_view_name": "HBoxView",
            "_dom_classes": [],
            "_model_name": "HBoxModel",
            "_view_module": "@jupyter-widgets/controls",
            "_model_module_version": "1.5.0",
            "_view_count": null,
            "_view_module_version": "1.5.0",
            "box_style": "",
            "layout": "IPY_MODEL_4cd81415d50f46498fe5d53efb65c6fa",
            "_model_module": "@jupyter-widgets/controls",
            "children": [
              "IPY_MODEL_d629b3f066564caeb42845c8c08c78ee",
              "IPY_MODEL_af90dfaca2834ffba50cec7e08ab35ce",
              "IPY_MODEL_624ae44ad1e14486893e989682050d7b"
            ]
          }
        },
        "4cd81415d50f46498fe5d53efb65c6fa": {
          "model_module": "@jupyter-widgets/base",
          "model_name": "LayoutModel",
          "model_module_version": "1.2.0",
          "state": {
            "_view_name": "LayoutView",
            "grid_template_rows": null,
            "right": null,
            "justify_content": null,
            "_view_module": "@jupyter-widgets/base",
            "overflow": null,
            "_model_module_version": "1.2.0",
            "_view_count": null,
            "flex_flow": null,
            "width": null,
            "min_width": null,
            "border": null,
            "align_items": null,
            "bottom": null,
            "_model_module": "@jupyter-widgets/base",
            "top": null,
            "grid_column": null,
            "overflow_y": null,
            "overflow_x": null,
            "grid_auto_flow": null,
            "grid_area": null,
            "grid_template_columns": null,
            "flex": null,
            "_model_name": "LayoutModel",
            "justify_items": null,
            "grid_row": null,
            "max_height": null,
            "align_content": null,
            "visibility": null,
            "align_self": null,
            "height": null,
            "min_height": null,
            "padding": null,
            "grid_auto_rows": null,
            "grid_gap": null,
            "max_width": null,
            "order": null,
            "_view_module_version": "1.2.0",
            "grid_template_areas": null,
            "object_position": null,
            "object_fit": null,
            "grid_auto_columns": null,
            "margin": null,
            "display": null,
            "left": null
          }
        },
        "d629b3f066564caeb42845c8c08c78ee": {
          "model_module": "@jupyter-widgets/controls",
          "model_name": "HTMLModel",
          "model_module_version": "1.5.0",
          "state": {
            "_view_name": "HTMLView",
            "style": "IPY_MODEL_8be1c36ba5e24192a75bf691ddb04d4c",
            "_dom_classes": [],
            "description": "",
            "_model_name": "HTMLModel",
            "placeholder": "​",
            "_view_module": "@jupyter-widgets/controls",
            "_model_module_version": "1.5.0",
            "value": "map_3: 100%",
            "_view_count": null,
            "_view_module_version": "1.5.0",
            "description_tooltip": null,
            "_model_module": "@jupyter-widgets/controls",
            "layout": "IPY_MODEL_476e6fe82ebe46fe832f2d1b4eaa83e3"
          }
        },
        "af90dfaca2834ffba50cec7e08ab35ce": {
          "model_module": "@jupyter-widgets/controls",
          "model_name": "FloatProgressModel",
          "model_module_version": "1.5.0",
          "state": {
            "_view_name": "ProgressView",
            "style": "IPY_MODEL_9cc33fbf59a6463d9aa9580026bc05f3",
            "_dom_classes": [],
            "description": "",
            "_model_name": "FloatProgressModel",
            "bar_style": "success",
            "max": 150,
            "_view_module": "@jupyter-widgets/controls",
            "_model_module_version": "1.5.0",
            "value": 150,
            "_view_count": null,
            "_view_module_version": "1.5.0",
            "orientation": "horizontal",
            "min": 0,
            "description_tooltip": null,
            "_model_module": "@jupyter-widgets/controls",
            "layout": "IPY_MODEL_c90fc2f5860e4a07b4fab8f071226ca8"
          }
        },
        "624ae44ad1e14486893e989682050d7b": {
          "model_module": "@jupyter-widgets/controls",
          "model_name": "HTMLModel",
          "model_module_version": "1.5.0",
          "state": {
            "_view_name": "HTMLView",
            "style": "IPY_MODEL_f12af0ccd60647eaa878ef6c7326d2c8",
            "_dom_classes": [],
            "description": "",
            "_model_name": "HTMLModel",
            "placeholder": "​",
            "_view_module": "@jupyter-widgets/controls",
            "_model_module_version": "1.5.0",
            "value": " 150/150 [05:09&lt;00:00,  2.07s/ant]",
            "_view_count": null,
            "_view_module_version": "1.5.0",
            "description_tooltip": null,
            "_model_module": "@jupyter-widgets/controls",
            "layout": "IPY_MODEL_56d801e981bd41819bd00b30edf8f5dc"
          }
        },
        "8be1c36ba5e24192a75bf691ddb04d4c": {
          "model_module": "@jupyter-widgets/controls",
          "model_name": "DescriptionStyleModel",
          "model_module_version": "1.5.0",
          "state": {
            "_view_name": "StyleView",
            "_model_name": "DescriptionStyleModel",
            "description_width": "",
            "_view_module": "@jupyter-widgets/base",
            "_model_module_version": "1.5.0",
            "_view_count": null,
            "_view_module_version": "1.2.0",
            "_model_module": "@jupyter-widgets/controls"
          }
        },
        "476e6fe82ebe46fe832f2d1b4eaa83e3": {
          "model_module": "@jupyter-widgets/base",
          "model_name": "LayoutModel",
          "model_module_version": "1.2.0",
          "state": {
            "_view_name": "LayoutView",
            "grid_template_rows": null,
            "right": null,
            "justify_content": null,
            "_view_module": "@jupyter-widgets/base",
            "overflow": null,
            "_model_module_version": "1.2.0",
            "_view_count": null,
            "flex_flow": null,
            "width": null,
            "min_width": null,
            "border": null,
            "align_items": null,
            "bottom": null,
            "_model_module": "@jupyter-widgets/base",
            "top": null,
            "grid_column": null,
            "overflow_y": null,
            "overflow_x": null,
            "grid_auto_flow": null,
            "grid_area": null,
            "grid_template_columns": null,
            "flex": null,
            "_model_name": "LayoutModel",
            "justify_items": null,
            "grid_row": null,
            "max_height": null,
            "align_content": null,
            "visibility": null,
            "align_self": null,
            "height": null,
            "min_height": null,
            "padding": null,
            "grid_auto_rows": null,
            "grid_gap": null,
            "max_width": null,
            "order": null,
            "_view_module_version": "1.2.0",
            "grid_template_areas": null,
            "object_position": null,
            "object_fit": null,
            "grid_auto_columns": null,
            "margin": null,
            "display": null,
            "left": null
          }
        },
        "9cc33fbf59a6463d9aa9580026bc05f3": {
          "model_module": "@jupyter-widgets/controls",
          "model_name": "ProgressStyleModel",
          "model_module_version": "1.5.0",
          "state": {
            "_view_name": "StyleView",
            "_model_name": "ProgressStyleModel",
            "description_width": "",
            "_view_module": "@jupyter-widgets/base",
            "_model_module_version": "1.5.0",
            "_view_count": null,
            "_view_module_version": "1.2.0",
            "bar_color": null,
            "_model_module": "@jupyter-widgets/controls"
          }
        },
        "c90fc2f5860e4a07b4fab8f071226ca8": {
          "model_module": "@jupyter-widgets/base",
          "model_name": "LayoutModel",
          "model_module_version": "1.2.0",
          "state": {
            "_view_name": "LayoutView",
            "grid_template_rows": null,
            "right": null,
            "justify_content": null,
            "_view_module": "@jupyter-widgets/base",
            "overflow": null,
            "_model_module_version": "1.2.0",
            "_view_count": null,
            "flex_flow": null,
            "width": null,
            "min_width": null,
            "border": null,
            "align_items": null,
            "bottom": null,
            "_model_module": "@jupyter-widgets/base",
            "top": null,
            "grid_column": null,
            "overflow_y": null,
            "overflow_x": null,
            "grid_auto_flow": null,
            "grid_area": null,
            "grid_template_columns": null,
            "flex": null,
            "_model_name": "LayoutModel",
            "justify_items": null,
            "grid_row": null,
            "max_height": null,
            "align_content": null,
            "visibility": null,
            "align_self": null,
            "height": null,
            "min_height": null,
            "padding": null,
            "grid_auto_rows": null,
            "grid_gap": null,
            "max_width": null,
            "order": null,
            "_view_module_version": "1.2.0",
            "grid_template_areas": null,
            "object_position": null,
            "object_fit": null,
            "grid_auto_columns": null,
            "margin": null,
            "display": null,
            "left": null
          }
        },
        "f12af0ccd60647eaa878ef6c7326d2c8": {
          "model_module": "@jupyter-widgets/controls",
          "model_name": "DescriptionStyleModel",
          "model_module_version": "1.5.0",
          "state": {
            "_view_name": "StyleView",
            "_model_name": "DescriptionStyleModel",
            "description_width": "",
            "_view_module": "@jupyter-widgets/base",
            "_model_module_version": "1.5.0",
            "_view_count": null,
            "_view_module_version": "1.2.0",
            "_model_module": "@jupyter-widgets/controls"
          }
        },
        "56d801e981bd41819bd00b30edf8f5dc": {
          "model_module": "@jupyter-widgets/base",
          "model_name": "LayoutModel",
          "model_module_version": "1.2.0",
          "state": {
            "_view_name": "LayoutView",
            "grid_template_rows": null,
            "right": null,
            "justify_content": null,
            "_view_module": "@jupyter-widgets/base",
            "overflow": null,
            "_model_module_version": "1.2.0",
            "_view_count": null,
            "flex_flow": null,
            "width": null,
            "min_width": null,
            "border": null,
            "align_items": null,
            "bottom": null,
            "_model_module": "@jupyter-widgets/base",
            "top": null,
            "grid_column": null,
            "overflow_y": null,
            "overflow_x": null,
            "grid_auto_flow": null,
            "grid_area": null,
            "grid_template_columns": null,
            "flex": null,
            "_model_name": "LayoutModel",
            "justify_items": null,
            "grid_row": null,
            "max_height": null,
            "align_content": null,
            "visibility": null,
            "align_self": null,
            "height": null,
            "min_height": null,
            "padding": null,
            "grid_auto_rows": null,
            "grid_gap": null,
            "max_width": null,
            "order": null,
            "_view_module_version": "1.2.0",
            "grid_template_areas": null,
            "object_position": null,
            "object_fit": null,
            "grid_auto_columns": null,
            "margin": null,
            "display": null,
            "left": null
          }
        }
      }
    }
  },
  "cells": [
    {
      "cell_type": "markdown",
      "metadata": {
        "id": "view-in-github",
        "colab_type": "text"
      },
      "source": [
        "<a href=\"https://colab.research.google.com/github/OldGoose/ORA-Project-Santa-2021---The-Merry-Movie-Montage/blob/main/Santa_2021_TSP_ACO_Robin_Houston%26Egan.ipynb\" target=\"_parent\"><img src=\"https://colab.research.google.com/assets/colab-badge.svg\" alt=\"Open In Colab\"/></a>"
      ]
    },
    {
      "cell_type": "markdown",
      "source": [
        "# Best superpermutation with ACO"
      ],
      "metadata": {
        "id": "qf1nYGrMaCQR"
      }
    },
    {
      "cell_type": "markdown",
      "source": [
        "In this notebook, we use 7! superpermutation which from Robin Houston to our initial data. The flowchart as below:\n",
        "![image.png](data:image/png;base64,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)\n",
        "\n",
        "#### REFERENCES\n",
        "https://www.kaggle.com/adrienbouvais/ants-for-santa-an-ant-colony-optimization   \\\n",
        "https://www.kaggle.com/yosshi999/wildcard-postprocessing-using-dynamic-programming"
      ],
      "metadata": {
        "id": "d7gdZ8-lYg40"
      }
    },
    {
      "cell_type": "markdown",
      "source": [
        "### Import Package"
      ],
      "metadata": {
        "id": "QT_hjPJQeO0i"
      }
    },
    {
      "cell_type": "code",
      "execution_count": 22,
      "metadata": {
        "colab": {
          "base_uri": "https://localhost:8080/"
        },
        "id": "oYwQgLkVBQuJ",
        "outputId": "54bb55f3-4f68-4646-8525-f27417cf197e"
      },
      "outputs": [
        {
          "output_type": "stream",
          "name": "stdout",
          "text": [
            "Drive already mounted at /content/drive; to attempt to forcibly remount, call drive.mount(\"/content/drive\", force_remount=True).\n"
          ]
        }
      ],
      "source": [
        "import itertools\n",
        "import random\n",
        "import numpy as np\n",
        "import pandas as pd\n",
        "import torch\n",
        "import torch.nn.functional as F\n",
        "import matplotlib.pyplot as plt\n",
        "import datetime\n",
        "from tqdm.notebook import tqdm\n",
        "import os\n",
        "from google.colab import drive\n",
        "drive.mount('/content/drive')\n",
        "os.chdir('/content/drive/My Drive/Santa2021') "
      ]
    },
    {
      "cell_type": "markdown",
      "source": [
        "### 1. 7! Supermutation\n",
        "We can get the superpermutation for n = 7 from Robin Houston and Egan which length 5906 on 27 February 2019."
      ],
      "metadata": {
        "id": "hkI00axjOjfo"
      }
    },
    {
      "cell_type": "code",
      "source": [
        "best = \"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\"\n",
        "len(best)"
      ],
      "metadata": {
        "colab": {
          "base_uri": "https://localhost:8080/"
        },
        "id": "apF-h26hOkDn",
        "outputId": "c9f4b296-fee1-4277-a54f-a4fc3843f4f9"
      },
      "execution_count": 23,
      "outputs": [
        {
          "output_type": "execute_result",
          "data": {
            "text/plain": [
              "5906"
            ]
          },
          "metadata": {},
          "execution_count": 23
        }
      ]
    },
    {
      "cell_type": "markdown",
      "source": [
        "### 1. Divide into 3 groups\n",
        "From this formula $𝑝_𝑘^𝑛 = \\frac{𝑛!}{(𝑛−𝑘)!}$ we can get the following seven symbols (🎅🤶🦌🧝🎄🎁🎀) with a total of 5040 permutations (ie, a total of 5040 movie)\n",
        "Due to the constrain of the problem, there are a total of 120 movies starting with these 🎅🤶 two symbols, and we have to put them into each group.\n",
        "After deducting those 120 films, we divide the remaining 4920 films into three equal parts.\n",
        "\n",
        "First, we need to decide which code is represent 🎅🤶."
      ],
      "metadata": {
        "id": "Po5S4k4dfTe6"
      }
    },
    {
      "cell_type": "code",
      "source": [
        "split_id = [len(best) // 3, len(best)*2//3]\n",
        "t1, t2 = split_id\n",
        "\n",
        "strings = [best[:t1], best[t1:t2], best[t2:]]\n",
        "g1 = strings[0]\n",
        "g2 = strings[1]\n",
        "g3 = strings[2]\n",
        "\n",
        "check = []\n",
        "for i in range(1,8):\n",
        "    for j in range(1,8):\n",
        "        if i != j:\n",
        "            check.append(str(i)+str(j))\n",
        "check = np.array(check)\n",
        "\n",
        "data = pd.DataFrame()\n",
        "column = list(check)\n",
        "index = ['group1','group2','group3']\n",
        "data = pd.DataFrame(columns=column,index=index)\n",
        "\n",
        "for i in list(check):\n",
        "    data[i][0] = (g1.count(i))\n",
        "    data[i][1] = (g2.count(i))\n",
        "    data[i][2] = (g3.count(i))\n",
        "data = data.append(data.std(axis= 0) ,ignore_index=True)\n",
        "data1 = data.T[3]\n",
        "for i in range(len(data1)):\n",
        "    if data1[i] == data1.min(axis=0):\n",
        "        min_id = (data1.index[i]) \n",
        "print(\"The Min Standard Deviation is: \" + str(data.stack().min()) + \" at \"  + (min_id) + \".\")"
      ],
      "metadata": {
        "colab": {
          "base_uri": "https://localhost:8080/"
        },
        "id": "p6GCBldrfSBn",
        "outputId": "afcfd38c-d472-484e-e4cb-6fb45efc2259"
      },
      "execution_count": 24,
      "outputs": [
        {
          "output_type": "stream",
          "name": "stdout",
          "text": [
            "The Min Standard Deviation is: 0.5773502691896258 at 24.\n"
          ]
        }
      ]
    },
    {
      "cell_type": "markdown",
      "source": [
        "So, we choose 24 to represent the 🎅🤶."
      ],
      "metadata": {
        "id": "7CvjUufTovsk"
      }
    },
    {
      "cell_type": "code",
      "source": [
        "def is_perm(s):\n",
        "    y = True\n",
        "    for k in range(1,8):\n",
        "        y = y&(str(k) in s)\n",
        "        if not y: break\n",
        "    return y\n",
        "\n",
        "permutations = []\n",
        "\n",
        "for k in range(len(best)-6):\n",
        "    s = best[k:k+7]\n",
        "    if (is_perm(s))&(s not in permutations)&(s[:2]!='24'):\n",
        "        permutations.append(s)\n",
        "        \n",
        "print('There are',len(permutations),'movies')\n",
        "\n",
        "mandatory = ['24'+''.join(x) for x in itertools.permutations(['1','3','5','6','7'], 5)]\n",
        "print('In addition',len(mandatory),'which movie starting with 🎅🤶 must appear in each group.')"
      ],
      "metadata": {
        "colab": {
          "base_uri": "https://localhost:8080/"
        },
        "id": "RtnMNMeBo3G7",
        "outputId": "31e55fb3-4590-4877-ee2a-0869609d3375"
      },
      "execution_count": 25,
      "outputs": [
        {
          "output_type": "stream",
          "name": "stdout",
          "text": [
            "There are 4920 movies\n",
            "In addition 120 which movie starting with 🎅🤶 must appear in each group.\n"
          ]
        }
      ]
    },
    {
      "cell_type": "code",
      "source": [
        "#find the split point\n",
        "split_id = [len(permutations) // 3, len(permutations)*2//3]\n",
        "t1, t2 = split_id\n",
        "\n",
        "adjust1 = 0\n",
        "adjust2 = 0\n",
        "group1 = permutations[:t1-adjust1] + mandatory\n",
        "group2 = permutations[t1-adjust1:t2+adjust2] + mandatory\n",
        "group3 = permutations[t2+adjust2:] + mandatory\n",
        "\n",
        "len(group1), len(group2), len(group3)"
      ],
      "metadata": {
        "colab": {
          "base_uri": "https://localhost:8080/"
        },
        "id": "Aw_JWQHYpn-U",
        "outputId": "acfb862b-9eba-42b9-8fba-cc0501476543"
      },
      "execution_count": 26,
      "outputs": [
        {
          "output_type": "execute_result",
          "data": {
            "text/plain": [
              "(1760, 1760, 1760)"
            ]
          },
          "metadata": {},
          "execution_count": 26
        }
      ]
    },
    {
      "cell_type": "markdown",
      "source": [
        "### 3. Check and add movies with \"🎅🤶\" in all group."
      ],
      "metadata": {
        "id": "EALjv46Lp3IC"
      }
    },
    {
      "cell_type": "code",
      "source": [
        "all_permutations = [''.join(x) for x in itertools.permutations(['1','2','3','4','5','6','7'], 7)]\n",
        "\n",
        "for p in all_permutations:\n",
        "    if p not in group1 and p not in group2 and p not in group3:\n",
        "        print(p)"
      ],
      "metadata": {
        "id": "NXIAD3STqSGc"
      },
      "execution_count": 27,
      "outputs": []
    },
    {
      "cell_type": "markdown",
      "source": [
        "### 4.Execute ACO"
      ],
      "metadata": {
        "id": "t9Fw5hoSo9u-"
      }
    },
    {
      "cell_type": "code",
      "source": [
        "# The ant class\n",
        "class Ant:\n",
        "    def __init__(self, map):\n",
        "        self.map = map\n",
        "        self.visited = np.ones((self.map.nb_city,), dtype = bool)  # Boolean of if the city has been visited\n",
        "        self.position_id = self.map.city.index(random.choice(self.map.city))  # Id of current position\n",
        "        self.visited[self.position_id] = 0\n",
        "        self.dist_trav = 7  # Distance traveled\n",
        "        self.path = self.map.city[self.position_id] # What we are looking for\n",
        "        self.path_id = [0] * self.map.nb_city # History of the path for pheromones\n",
        "        self.path_id[0] = self.position_id\n",
        "        self.path_act_id = 1\n",
        "\n",
        "    def update(self):\n",
        "        dis, phero = self.map.dist_mat[self.position_id, :], self.map.pheros[self.position_id, :]\n",
        "        dis[dis < 0] = self.map.inf_dist\n",
        "\n",
        "        weight = (self.visited * phero) / ((dis * 2) ** self.map.coef_dist_puiss)\n",
        "\n",
        "        next_city_id = random.choices(range(self.map.nb_city), weights=weight, k=1)[0]\n",
        "\n",
        "        self.path += self.map.city[next_city_id][(7-int(dis[next_city_id])):]\n",
        "        self.path_id[self.path_act_id] = next_city_id\n",
        "        self.path_act_id += 1\n",
        "\n",
        "        self.dist_trav += self.map.dist_mat[self.position_id, next_city_id]\n",
        "        self.position_id = next_city_id\n",
        "        self.visited[self.position_id] = 0\n",
        "\n",
        "    def find_path(self):\n",
        "        for i in range(self.map.nb_city-1):\n",
        "            self.update()\n",
        "\n",
        "    def update_pheros(self):\n",
        "        x = 100\n",
        "        coef = -50\n",
        "        for i in range(x):\n",
        "            if self.dist_trav <= (self.map.dist_min + self.map.dist_delta * (i / x)):\n",
        "                coef += 1\n",
        "        for i in range(len(self.path_id)-1):\n",
        "            self.map.pheros[self.path_id[i], self.path_id[i+1]] += coef\n",
        "\n",
        "# The map class\n",
        "class Map:\n",
        "    # Settings\n",
        "    phero_start_fact = 1000\n",
        "    inf_dist = 9999\n",
        "\n",
        "    def __init__(self, city, dist_mat, name, coef_dist_puiss=20,\n",
        "                 nb_ant=20, nb_turn=100, do_print=True):\n",
        "        self.city = city # List of city to travel\n",
        "        self.name = name # Name of the map\n",
        "        self.nb_ant = nb_ant # Number of ants\n",
        "        self.nb_turn = nb_turn # Number of turn to do\n",
        "        self.dist_mat = dist_mat # Distance matrix\n",
        "        \n",
        "        #建立一個Array矩陣，每個欄位並乘以費洛蒙初始值 1000\n",
        "        self.pheros = np.ones(self.dist_mat.shape) * self.phero_start_fact # Pheromones matrix (信息素矩陣)\n",
        "        \n",
        "        self.shortest_path = \"\" #設定初始最短路徑為空值\n",
        "        self.shortest_dist = 9999999999999  #設定初始最短距離為極大值\n",
        "        self.dist_min = 0\n",
        "        self.dist_max = 0\n",
        "        self.dist_delta = 0 #設定距離delta為0\n",
        "        self.nb_city = len(city) #定義一個程式數目的變數\n",
        "\n",
        "        self.coef_dist_puiss = coef_dist_puiss # Coef to use in ant.update, 5-10 is good\n",
        "        self.ants = [] # List of ant\n",
        "        for i in range(self.nb_ant):\n",
        "            self.ants.append(Ant(self))\n",
        "\n",
        "        self.pbar = None # The progress bar\n",
        "\n",
        "    def update(self):\n",
        "        ants_dist = [0] * len(self.ants)\n",
        "        i = 0\n",
        "        \n",
        "        for ant in self.ants:\n",
        "            ant.find_path()\n",
        "            dis = ant.dist_trav\n",
        "            ants_dist[i] = dis\n",
        "            if dis < self.shortest_dist:\n",
        "                self.shortest_dist = dis\n",
        "                self.shortest_path = ant.path\n",
        "            i+=1\n",
        "            self.pbar.update(1)\n",
        "        self.dist_min = min(ants_dist)\n",
        "        self.dist_max = max(ants_dist)\n",
        "        self.dist_delta = self.dist_max - self.dist_min\n",
        "        for ant in self.ants:\n",
        "            ant.update_pheros()\n",
        "            ant.__init__(self)\n",
        "\n",
        "    def start(self):\n",
        "        # Start the simulation\n",
        "        with tqdm(total=self.nb_turn*self.nb_ant, desc=self.name,unit=\"ant\") as pbar:\n",
        "            self.pbar = pbar\n",
        "            for i in range(self.nb_turn):\n",
        "                self.update()"
      ],
      "metadata": {
        "id": "NLg3y5IFpHH0"
      },
      "execution_count": 28,
      "outputs": []
    },
    {
      "cell_type": "code",
      "source": [
        "dist_mat = pd.read_csv(\"distance_matrix.csv\")\n",
        "dist_mat.set_index('Permutation', inplace=True)\n",
        "\n",
        "# 將圖案轉換為數字符號\n",
        "def change(a):\n",
        "    a = a.replace(\"🎅\", \"2\")\n",
        "    a = a.replace('🤶', \"4\")\n",
        "    a = a.replace('🦌', \"1\")\n",
        "    a = a.replace('🧝', \"3\")\n",
        "    a = a.replace('🎄', \"5\")\n",
        "    a = a.replace('🎁', \"6\")\n",
        "    a = a.replace('🎀', \"7\")\n",
        "    return a\n",
        "\n",
        "def rechange(a):\n",
        "    a = a.replace(\"2\", \"🎅\")\n",
        "    a = a.replace(\"4\", '🤶')\n",
        "    a = a.replace(\"1\", '🦌')\n",
        "    a = a.replace(\"3\", '🧝')\n",
        "    a = a.replace(\"5\", '🎄')\n",
        "    a = a.replace(\"6\", '🎁')\n",
        "    a = a.replace(\"7\", '🎀')\n",
        "    return a\n",
        "\n",
        "def get_dist_mat(dist_mat, city):\n",
        "    to_export = pd.DataFrame(columns=city, index=city) #生成一個n x n的dataframe矩陣\n",
        "  \n",
        "    for c in city:\n",
        "        to_export.loc[c] = dist_mat.loc[c] #找出dist_mat之中，相同的city對應的欄位值，將距離填入to_export對應的欄位中(https://codertw.com/%E7%A8%8B%E5%BC%8F%E8%AA%9E%E8%A8%80/462517/)\n",
        "\n",
        "    to_export = to_export.to_numpy() #將to_export型態由dataframe轉為array型態\n",
        "    to_export[to_export==0] = 99999 #將to_export裡面為0的值改為99999\n",
        "\n",
        "    return to_export\n",
        "\n",
        "# 建立字典，將dist_mat裡面的欄跟列的名稱改換為數字字符\n",
        "dic = {}\n",
        "for c in dist_mat.columns:\n",
        "    dic[c] = change(c)\n",
        "dist_mat.rename(dic, axis=1, inplace=True)\n",
        "dist_mat.rename(dic, axis=0, inplace=True)"
      ],
      "metadata": {
        "id": "ur__QAmnqePu"
      },
      "execution_count": 29,
      "outputs": []
    },
    {
      "cell_type": "markdown",
      "source": [
        "#### Set papameter"
      ],
      "metadata": {
        "id": "eEzNhMNkrcYf"
      }
    },
    {
      "cell_type": "code",
      "source": [
        "nb_ant = 5 #number of ants\n",
        "nb_turn = 30 # Number of turn to do\n",
        "coef_dist_puiss = 55\n",
        "\n",
        "print(\"The calculation will take approximately \" + str(datetime.timedelta(seconds=(1.2 * 3 * nb_ant * nb_turn))))\n",
        "print('Start for nb_ant:', nb_ant, ', nb_turn', nb_turn, )\n",
        "\n",
        "dist_mat_map_1 = get_dist_mat(dist_mat, group1)\n",
        "map_1 = Map(group1, dist_mat_map_1, \"map_1\", nb_ant=nb_ant, nb_turn=nb_turn,\n",
        "            coef_dist_puiss=coef_dist_puiss, do_print=False)\n",
        "\n",
        "map_1.start()\n",
        "print(\"map_1 Done, score:\", map_1.shortest_dist, 'Nb_city:', len(group1))\n",
        "\n",
        "dist_mat_map_2 = get_dist_mat(dist_mat, group2)\n",
        "map_2 = Map(group2, dist_mat_map_2, \"map_2\", nb_ant=nb_ant, nb_turn=nb_turn,\n",
        "            coef_dist_puiss=coef_dist_puiss, do_print=False)\n",
        "map_2.start()\n",
        "print(\"map_2 Done, score:\", map_2.shortest_dist, 'Nb_city:', len(group2))\n",
        "\n",
        "dist_mat_map_3 = get_dist_mat(dist_mat, group3)\n",
        "map_3 = Map(group3, dist_mat_map_3, \"map_3\", nb_ant=nb_ant, nb_turn=nb_turn,\n",
        "            coef_dist_puiss=coef_dist_puiss, do_print=False)\n",
        "map_3.start()\n",
        "print(\"map_3 Done, score:\", map_3.shortest_dist, 'Nb_city:', len(group3))\n"
      ],
      "metadata": {
        "colab": {
          "base_uri": "https://localhost:8080/",
          "height": 200,
          "referenced_widgets": [
            "9013ec79c3ad4bb295c6db8cf21b101d",
            "3536231645ef4aaa9a2be1fddb774453",
            "1ad05bc8aee14a45b693513cc2b5baec",
            "da430400008b4289830023e9c4079a22",
            "9bb61fdfecc24aefa79a7fbd15ef4d74",
            "1d91033d439d44c3a4f5a2e2960c456c",
            "2b7956f9a2204c42a52c8091fbd1a4ae",
            "7682fc913e2341b3bfaaa4fb04e1a61f",
            "d0dc16ff19c14cb7b05e79a5cfe7ca54",
            "5ac8a8ee08bd4829a4e22d331a998c23",
            "98581b2fc8574fcdaa8c2acfd5e59620",
            "db642bce46f34b0c8ee1575495072a81",
            "b89c271197fb4c81a26ccde079ac320a",
            "2e8e543a343041b796e031912640986e",
            "a078c8130ab64caeab53cb4fdab5aef8",
            "0e45340a3c3146e786a22c1857d1b4e8",
            "83b05c98d18b47db997755262264dbfe",
            "40e4ca9bbbad4858abb81bee08f277f9",
            "e8e7168afb024ccb8d8132181fbc189d",
            "e6842e11e6e3474b94b4955ae34d074f",
            "15c6e76064e844f8a2e75b1e784f4b13",
            "0e8401a7b2834ddf8b29d80cbd77465a",
            "81a4162ca2a5443b92403abf6f5d80b9",
            "4cd81415d50f46498fe5d53efb65c6fa",
            "d629b3f066564caeb42845c8c08c78ee",
            "af90dfaca2834ffba50cec7e08ab35ce",
            "624ae44ad1e14486893e989682050d7b",
            "8be1c36ba5e24192a75bf691ddb04d4c",
            "476e6fe82ebe46fe832f2d1b4eaa83e3",
            "9cc33fbf59a6463d9aa9580026bc05f3",
            "c90fc2f5860e4a07b4fab8f071226ca8",
            "f12af0ccd60647eaa878ef6c7326d2c8",
            "56d801e981bd41819bd00b30edf8f5dc"
          ]
        },
        "id": "bz1-0XU6qhUL",
        "outputId": "6d745daf-a11c-4402-e2ed-94e7ed726810"
      },
      "execution_count": 30,
      "outputs": [
        {
          "output_type": "stream",
          "name": "stdout",
          "text": [
            "The calculation will take approximately 0:09:00\n",
            "Start for nb_ant: 5 , nb_turn 30\n"
          ]
        },
        {
          "output_type": "display_data",
          "data": {
            "application/vnd.jupyter.widget-view+json": {
              "model_id": "9013ec79c3ad4bb295c6db8cf21b101d",
              "version_minor": 0,
              "version_major": 2
            },
            "text/plain": [
              "map_1:   0%|          | 0/150 [00:00<?, ?ant/s]"
            ]
          },
          "metadata": {}
        },
        {
          "output_type": "stream",
          "name": "stdout",
          "text": [
            "map_1 Done, score: 2693 Nb_city: 1760\n"
          ]
        },
        {
          "output_type": "display_data",
          "data": {
            "application/vnd.jupyter.widget-view+json": {
              "model_id": "db642bce46f34b0c8ee1575495072a81",
              "version_minor": 0,
              "version_major": 2
            },
            "text/plain": [
              "map_2:   0%|          | 0/150 [00:00<?, ?ant/s]"
            ]
          },
          "metadata": {}
        },
        {
          "output_type": "stream",
          "name": "stdout",
          "text": [
            "map_2 Done, score: 2683 Nb_city: 1760\n"
          ]
        },
        {
          "output_type": "display_data",
          "data": {
            "application/vnd.jupyter.widget-view+json": {
              "model_id": "81a4162ca2a5443b92403abf6f5d80b9",
              "version_minor": 0,
              "version_major": 2
            },
            "text/plain": [
              "map_3:   0%|          | 0/150 [00:00<?, ?ant/s]"
            ]
          },
          "metadata": {}
        },
        {
          "output_type": "stream",
          "name": "stdout",
          "text": [
            "map_3 Done, score: 2683 Nb_city: 1760\n"
          ]
        }
      ]
    },
    {
      "cell_type": "markdown",
      "source": [
        "### 5. Check solution is feasible"
      ],
      "metadata": {
        "id": "7YCr8im3sdaO"
      }
    },
    {
      "cell_type": "code",
      "source": [
        "string1 = (map_1.shortest_path)\n",
        "string2 = (map_2.shortest_path)\n",
        "string3 = (map_3.shortest_path)"
      ],
      "metadata": {
        "id": "uUd0H1m3so-K"
      },
      "execution_count": 31,
      "outputs": []
    },
    {
      "cell_type": "code",
      "source": [
        "all_permutations = [''.join(x) for x in itertools.permutations(['1','2','3','4','5','6','7'], 7)]\n",
        "\n",
        "for p in all_permutations:\n",
        "    if p not in string1 and p not in string2 and p not in string3:\n",
        "        print(p)\n",
        "              \n",
        "for p in mandatory:\n",
        "    if p not in string1 and p not in string2 and p not in string3:\n",
        "        print(p)\n",
        "#No News is good news."
      ],
      "metadata": {
        "id": "tPvN42n2s0TN"
      },
      "execution_count": 32,
      "outputs": []
    },
    {
      "cell_type": "code",
      "source": [
        "result_list = [string1, string2, string3]\n",
        "for i in result_list:\n",
        "  print('The length for each grop without wildcards' +  str(len(i)))"
      ],
      "metadata": {
        "colab": {
          "base_uri": "https://localhost:8080/"
        },
        "id": "3KiYBXpHs1xY",
        "outputId": "cfb63ae9-e781-4aa6-aaab-8497d57dac17"
      },
      "execution_count": 33,
      "outputs": [
        {
          "output_type": "stream",
          "name": "stdout",
          "text": [
            "The length for each grop without wildcards2693\n",
            "The length for each grop without wildcards2683\n",
            "The length for each grop without wildcards2683\n"
          ]
        }
      ]
    },
    {
      "cell_type": "code",
      "source": [
        "sub = pd.DataFrame()\n",
        "sub['schedule'] = [string1, string2, string3]\n",
        "schedule = sub.schedule.tolist()"
      ],
      "metadata": {
        "id": "xhpG--lutNtG"
      },
      "execution_count": 34,
      "outputs": []
    },
    {
      "cell_type": "markdown",
      "source": [
        "### 6. Using Dynamic Programming to filling the 🌟"
      ],
      "metadata": {
        "id": "dM0OI3C0tQUE"
      }
    },
    {
      "cell_type": "markdown",
      "source": [
        "#### Create Cost martix"
      ],
      "metadata": {
        "id": "FrN6RED5ttBx"
      }
    },
    {
      "cell_type": "code",
      "source": [
        "perms = list(map(lambda p: \"\".join(p), itertools.permutations(\"1234567\")))\n",
        "perm2id = {p: i for i, p in enumerate(perms)}\n",
        "\n",
        "perms_arr = np.array([list(map(int, p)) for p in perms])\n",
        "perms_arr.shape\n",
        "\n",
        "perms_onehot = np.eye(7)[perms_arr-1, :].transpose(0, 2, 1)\n",
        "assert np.allclose(perms_onehot[:,0,:].astype(np.int64), (perms_arr == 1).astype(np.int64))\n",
        "\n",
        "must_match_left2right = np.array([-1, -1, -1, -1, -1, -1, -1, 7, 6, 5, 4, 3, 2, 1, 0])\n",
        "must_match_right2left = np.array([0, 1, 2, 3, 4, 5, 6, 7, -1, -1, -1, -1, -1, -1, -1])\n",
        "cost_ifmatch = np.array([7, 6, 5, 4, 3, 2, 1, 0, 1, 2, 3, 4, 5, 6, 7])\n",
        "\n",
        "M = F.conv2d(\n",
        "    F.pad(torch.Tensor(perms_onehot[:, None, :, :]), (7, 7)),\n",
        "    torch.Tensor(perms_onehot[:, None, :, :]),\n",
        "    padding=\"valid\"\n",
        ").squeeze().numpy()\n",
        "\n",
        "must_match_left2right = np.array([-1, -1, -1, -1, -1, -1, -1, 7, 6, 5, 4, 3, 2, 1, 0])\n",
        "must_match_left2right_wild = np.array([-1, -1, -1, -1, -1, -1, -1, 6, 5, 4, 3, 2, 1, 0, 0])\n",
        "\n",
        "cost_ifmatch = np.array([7, 6, 5, 4, 3, 2, 1, 0, 1, 2, 3, 4, 5, 6, 7])\n",
        "\n",
        "costMat = np.where(M == must_match_left2right, cost_ifmatch, np.inf).min(axis=-1).astype(np.int8)\n",
        "costMatWild = np.minimum(costMat, np.where(M == must_match_left2right_wild, cost_ifmatch, np.inf).min(axis=-1)).astype(np.int8)"
      ],
      "metadata": {
        "id": "yzPK0LgXtguk"
      },
      "execution_count": 35,
      "outputs": []
    },
    {
      "cell_type": "markdown",
      "source": [
        "#### String decomposition"
      ],
      "metadata": {
        "id": "cwfj4mxHtyT7"
      }
    },
    {
      "cell_type": "code",
      "source": [
        "perms = [''.join(x) for x in itertools.permutations(['1','2','3','4','5','6','7'], 7)]\n",
        "\n",
        "def find_strings_perms(strings, verbose=False):\n",
        "    global perms\n",
        "    found_perms = []\n",
        "    for s in strings:\n",
        "        found_perms.append([])\n",
        "        for i in range(len(s)-6):\n",
        "            p = s[i:i+7]\n",
        "            if p in perms:\n",
        "                found_perms[-1].append(p)\n",
        "    if verbose:\n",
        "        lens = [len(_) for _ in  found_perms]\n",
        "        print(f'There are {lens} permutations in strings, {sum(lens)} in total.')\n",
        "        lens = [len(set(_)) for _ in  found_perms]\n",
        "        print(f'There are {lens} unique permutations in strings, {sum(lens)} in total.')\n",
        "    return found_perms\n",
        "\n",
        "def rebalance_perms(strings_perms, verbose=False):\n",
        "    # convert to dicts for fast lookup and to keep permutations order\n",
        "    strings_perms = [dict.fromkeys(_) for _ in strings_perms] \n",
        "    for p in strings_perms[0].copy():  # iterate over the copy to allow modification during iteration\n",
        "        if p[:2] != \"12\" and (p in strings_perms[1] or p in strings_perms[2]):\n",
        "            strings_perms[0].pop(p)\n",
        "    for p in strings_perms[1].copy():\n",
        "        if p[:2] != \"12\" and p in strings_perms[2]:\n",
        "            strings_perms[1].pop(p)\n",
        "    if verbose:\n",
        "        lens = [len(_) for _ in  strings_perms]\n",
        "        print(f'There are {lens} permutations left in strings after rebalancing, {sum(lens)} in total.')\n",
        "    return [list(_) for _ in strings_perms] "
      ],
      "metadata": {
        "id": "V5y4X783txv5"
      },
      "execution_count": 36,
      "outputs": []
    },
    {
      "cell_type": "code",
      "source": [
        "found_perms = find_strings_perms(schedule, verbose=True)\n",
        "balanced_perms = rebalance_perms(found_perms, verbose=True)"
      ],
      "metadata": {
        "colab": {
          "base_uri": "https://localhost:8080/"
        },
        "id": "8eaiyjqbt4pu",
        "outputId": "6689da69-9306-435b-eb1b-0dc5a118fb68"
      },
      "execution_count": 38,
      "outputs": [
        {
          "output_type": "stream",
          "name": "stdout",
          "text": [
            "There are [1988, 2007, 2012] permutations in strings, 6007 in total.\n",
            "There are [1936, 1946, 1955] unique permutations in strings, 5837 in total.\n",
            "There are [1518, 1581, 1955] permutations left in strings after rebalancing, 5054 in total.\n"
          ]
        }
      ]
    },
    {
      "cell_type": "markdown",
      "source": [
        "#### Run"
      ],
      "metadata": {
        "id": "xSf159JOt9MX"
      }
    },
    {
      "cell_type": "code",
      "source": [
        "nodes_list = []\n",
        "table_list = []\n",
        "for i in range(3):\n",
        "    word = balanced_perms[i]\n",
        "    nodes = [perm2id[p] for p in balanced_perms[i]]\n",
        "\n",
        "    table = np.zeros((len(nodes), 10), np.int64)\n",
        "    table[0, :] = 7\n",
        "    for i in range(1, len(nodes)):\n",
        "        e = costMat[nodes[i-1], nodes[i]]\n",
        "        ew = costMatWild[nodes[i-1], nodes[i]]\n",
        "        table[i,0] = table[i-1,0] + e\n",
        "        table[i,1] = min(table[i-1,1] + e, table[i-1,0] + ew)\n",
        "        table[i,2] = min(table[i-1,2], table[i-1,1]) + e # TODO: better transition\n",
        "        table[i,3] = min(table[i-1,3], table[i-1,2]) + e\n",
        "        table[i,4] = min(table[i-1,4], table[i-1,3]) + e\n",
        "        table[i,5] = min(table[i-1,5], table[i-1,4]) + e\n",
        "        table[i,6] = min(table[i-1,6], table[i-1,5]) + e\n",
        "        table[i,7] = min(table[i-1,7], table[i-1,6]) + e\n",
        "        table[i,8] = min(table[i-1,8], table[i-1,7]) + e\n",
        "        table[i,9] = min(table[i-1,9] + e, table[i-1,8] + ew)\n",
        "    print(table[-1].min(), table[-1])\n",
        "    nodes_list.append(nodes)\n",
        "    table_list.append(table)\n",
        "    \n",
        "# backtrack\n",
        "new_words = []\n",
        "wilds = []\n",
        "for nodes, table in zip(nodes_list, table_list):\n",
        "    ns = [perms[nodes[-1]]]\n",
        "    track = np.argmin(table[-1])\n",
        "    wild = []\n",
        "    for i in range(len(nodes)-2, -1, -1):\n",
        "        e = costMat[nodes[i], nodes[i+1]]\n",
        "        ew = costMatWild[nodes[i], nodes[i+1]]\n",
        "        if track == 0:\n",
        "            ns.append(perms[nodes[i]][:e])\n",
        "        elif track == 1:\n",
        "            if table[i, 1] + e < table[i, 0] + ew:\n",
        "                ns.append(perms[nodes[i]][:e])\n",
        "            else:\n",
        "                left = np.array(list(map(int, perms[nodes[i]][ew:])))\n",
        "                right = np.array(list(map(int, perms[nodes[i+1]][:-ew])))\n",
        "                mis = np.where(left != right)[0][0]\n",
        "                wild.append(table[i, track-1]-7+ew+mis)\n",
        "                ns.append(perms[nodes[i]][:ew])\n",
        "                track = track - 1\n",
        "        elif 2 <= track <= 8:\n",
        "            if table[i, track] >= table[i, track-1]:\n",
        "                track = track - 1\n",
        "            ns.append(perms[nodes[i]][:e])\n",
        "        elif track == 9:\n",
        "            if table[i, 9] + e < table[i, 8] + ew:\n",
        "                ns.append(perms[nodes[i]][:e])\n",
        "            else:\n",
        "                ns.append(perms[nodes[i]][:ew])\n",
        "                left = np.array(list(map(int, perms[nodes[i]][ew:])))\n",
        "                right = np.array(list(map(int, perms[nodes[i+1]][:-ew])))\n",
        "                mis = np.where(left != right)[0][0]\n",
        "                wild.append(table[i, track-1]-7+ew+mis)\n",
        "                track = track - 1\n",
        "        else:\n",
        "            assert False\n",
        "    assert track == 0\n",
        "    wilds.append(wild)\n",
        "    nsw = list(\"\".join(ns[::-1]))\n",
        "    for w in wild:\n",
        "        nsw[w] = \"*\"\n",
        "    new_words.append(\"\".join(nsw))"
      ],
      "metadata": {
        "colab": {
          "base_uri": "https://localhost:8080/"
        },
        "id": "eiV24ymJt7Ru",
        "outputId": "2524ff93-5925-4cda-918a-42efdb291aba"
      },
      "execution_count": 40,
      "outputs": [
        {
          "output_type": "stream",
          "name": "stdout",
          "text": [
            "2178 [2180 2179 2179 2179 2179 2179 2179 2179 2179 2178]\n",
            "2299 [2304 2301 2301 2301 2301 2301 2301 2301 2301 2299]\n",
            "2681 [2683 2681 2681 2681 2681 2681 2681 2681 2681 2681]\n"
          ]
        }
      ]
    },
    {
      "cell_type": "code",
      "source": [
        "print(\"score: \", max(map(len, schedule)), \"->\", max(map(len, new_words)))"
      ],
      "metadata": {
        "colab": {
          "base_uri": "https://localhost:8080/"
        },
        "id": "g068ZNRxuAdS",
        "outputId": "a79a124d-4efc-4e38-cd95-af7369ea0867"
      },
      "execution_count": 43,
      "outputs": [
        {
          "output_type": "stream",
          "name": "stdout",
          "text": [
            "score:  2693 -> 2681\n"
          ]
        }
      ]
    },
    {
      "cell_type": "markdown",
      "source": [
        "### 7. Submission"
      ],
      "metadata": {
        "id": "Qeh1CTQmuCLc"
      }
    },
    {
      "cell_type": "code",
      "source": [
        "symbols = \"🎅🤶🦌🧝🎄🎁🎀🌟\"\n",
        "submission = pd.Series([a.translate(str.maketrans(\"2413567*\", symbols)) for a in new_words], name='schedule')\n",
        "submission.to_csv('submission.csv', index=False)"
      ],
      "metadata": {
        "id": "pLjWvinluBiD"
      },
      "execution_count": 47,
      "outputs": []
    },
    {
      "cell_type": "code",
      "source": [
        ""
      ],
      "metadata": {
        "id": "8Ed1jtyevsQL"
      },
      "execution_count": null,
      "outputs": []
    }
  ]
}